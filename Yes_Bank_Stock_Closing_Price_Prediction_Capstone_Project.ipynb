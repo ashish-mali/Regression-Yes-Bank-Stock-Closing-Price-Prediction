{
  "nbformat": 4,
  "nbformat_minor": 0,
  "metadata": {
    "colab": {
      "provenance": [],
      "collapsed_sections": [
        "YJ55k-q6phqO",
        "gCFgpxoyphqP",
        "OVtJsKN_phqQ",
        "lssrdh5qphqQ",
        "U2RJ9gkRphqQ",
        "1M8mcRywphqQ",
        "tgIPom80phqQ",
        "JMzcOPDDphqR",
        "x-EpHcCOp1ci",
        "X_VqEhTip1ck",
        "8zGJKyg5p1ck",
        "PVzmfK_Ep1ck",
        "n3dbpmDWp1ck",
        "ylSl6qgtp1ck",
        "ZWILFDl5p1ck",
        "M7G43BXep1ck",
        "Ag9LCva-p1cl",
        "E6MkPsBcp1cl",
        "2cELzS2fp1cl",
        "3MPXvC8up1cl",
        "NC_X3p0fY2L0",
        "UV0SzAkaZNRQ",
        "YPEH6qLeZNRQ",
        "q29F0dvdveiT",
        "EXh0U9oCveiU",
        "22aHeOlLveiV",
        "g-ATYxFrGrvw",
        "Yfr_Vlr8HBkt",
        "8yEUt7NnHlrM",
        "tEA2Xm5dHt1r",
        "I79__PHVH19G",
        "Ou-I18pAyIpj",
        "fF3858GYyt-u",
        "4_0_7-oCpUZd",
        "hwyV_J3ipUZe",
        "3yB-zSqbpUZe",
        "dEUvejAfpUZe",
        "Fd15vwWVpUZf",
        "bn_IUdTipZyH",
        "49K5P_iCpZyH",
        "Nff-vKELpZyI",
        "kLW572S8pZyI",
        "dWbDXHzopZyI",
        "yLjJCtPM0KBk",
        "xiyOF9F70UgQ",
        "7wuGOrhz0itI",
        "id1riN9m0vUs",
        "578E2V7j08f6",
        "89xtkJwZ18nB",
        "67NQN5KX2AMe",
        "Iwf50b-R2tYG",
        "GMQiZwjn3iu7",
        "WVIkgGqN3qsr",
        "XkPnILGE3zoT",
        "Hlsf0x5436Go",
        "mT9DMSJo4nBL",
        "c49ITxTc407N",
        "OeJFEK0N496M",
        "9ExmJH0g5HBk",
        "cJNqERVU536h",
        "k5UmGsbsOxih",
        "T0VqWOYE6DLQ",
        "qBMux9mC6MCf",
        "-oLEiFgy-5Pf",
        "C74aWNz2AliB",
        "2DejudWSA-a0",
        "TNVZ9zx19K6k",
        "nqoHp30x9hH9",
        "rMDnDkt2B6du",
        "yiiVWRdJDDil",
        "1UUpS68QDMuG",
        "kexQrXU-DjzY",
        "T5CmagL3EC8N",
        "BhH2vgX9EjGr",
        "qjKvONjwE8ra",
        "P1XJ9OREExlT",
        "VFOzZv6IFROw",
        "TIqpNgepFxVj",
        "VfCC591jGiD4",
        "OB4l2ZhMeS1U",
        "ArJBuiUVfxKd",
        "4qY1EAkEfxKe",
        "PiV4Ypx8fxKe",
        "TfvqoZmBfxKf",
        "dJ2tPlVmpsJ0",
        "JWYfwnehpsJ1",
        "-jK_YjpMpsJ2",
        "HAih1iBOpsJ2",
        "zVGeBEFhpsJ2",
        "bmKjuQ-FpsJ3",
        "Fze-IPXLpx6K",
        "7AN1z2sKpx6M",
        "9PIHJqyupx6M",
        "_-qAgymDpx6N",
        "Z-hykwinpx6N",
        "h_CCil-SKHpo",
        "cBFFvTBNJzUa",
        "HvGl1hHyA_VK",
        "EyNgTHvd2WFk",
        "KH5McJBi2d8v",
        "iW_Lq9qf2h6X",
        "-Kee-DAl2viO",
        "gCX9965dhzqZ",
        "gIfDvo9L0UH2"
      ],
      "include_colab_link": true
    },
    "kernelspec": {
      "name": "python3",
      "display_name": "Python 3"
    },
    "language_info": {
      "name": "python"
    },
    "gpuClass": "standard"
  },
  "cells": [
    {
      "cell_type": "markdown",
      "metadata": {
        "id": "view-in-github",
        "colab_type": "text"
      },
      "source": [
        "<a href=\"https://colab.research.google.com/github/ashish-mali/Regression-Yes-Bank-Stock-Closing-Price-Prediction/blob/main/Yes_Bank_Stock_Closing_Price_Prediction_Capstone_Project.ipynb\" target=\"_parent\"><img src=\"https://colab.research.google.com/assets/colab-badge.svg\" alt=\"Open In Colab\"/></a>"
      ]
    },
    {
      "cell_type": "markdown",
      "source": [
        " <hr>\n",
        " \n",
        " #  <center> <font face=\"Lato\" color='red'> ✴ Project Name\n",
        " # <center> 📈<font face=\"Times New Roman\" color=#00518F> Yes Bank Stock Closing Price Prediction. 📉\n",
        "\n",
        " <hr>\n",
        "\n"
      ],
      "metadata": {
        "id": "vncDsAP0Gaoa"
      }
    },
    {
      "cell_type": "markdown",
      "source": [
        "<center><img src=\"https://github.com/ashish-mali/Regression-Yes-Bank-Stock-Closing-Price-Prediction/blob/main/Images/Yes_Bank_logo.png?raw=true\" alt=\"Yes Bank Logo\" width=\"800\" height=\"300\">"
      ],
      "metadata": {
        "id": "I6KfKiYA_-1Y"
      }
    },
    {
      "cell_type": "markdown",
      "source": [
        "<hr color:'red'>\n",
        "\n",
        "##⚙  **Project Type**    - Regression\n",
        "##⚙ **Contribution**    - Individual\n",
        "\n",
        "<hr>\n"
      ],
      "metadata": {
        "id": "beRrZCGUAJYm"
      }
    },
    {
      "cell_type": "markdown",
      "source": [
        "<hr>\n",
        "\n",
        "# <center> <font face=\"Lato\" color='red'>✴ Project Summary \n",
        "\n",
        "<hr>"
      ],
      "metadata": {
        "id": "FJNUwmbgGyua"
      }
    },
    {
      "cell_type": "markdown",
      "source": [
        "Write the summary here within 500-600 words."
      ],
      "metadata": {
        "id": "F6v_1wHtG2nS"
      }
    },
    {
      "cell_type": "markdown",
      "source": [
        "<hr>\n",
        "\n",
        "# <center> <font face=\"Lato\" color='red'>✴ GitHub Link\n",
        "\n",
        "<hr>"
      ],
      "metadata": {
        "id": "w6K7xa23Elo4"
      }
    },
    {
      "cell_type": "markdown",
      "source": [
        "Provide your GitHub Link here."
      ],
      "metadata": {
        "id": "h1o69JH3Eqqn"
      }
    },
    {
      "cell_type": "markdown",
      "source": [
        "<hr>\n",
        "\n",
        "# <center> <font face=\"Lato\" color='red'>✴ Problem Statement\n",
        "\n",
        "<hr>"
      ],
      "metadata": {
        "id": "yQaldy8SH6Dl"
      }
    },
    {
      "cell_type": "markdown",
      "source": [
        "## 🏁 [Yes Bank](https://en.wikipedia.org/wiki/Yes_Bank) is a well-known bank in the Indian financial domain. Since 2018, it has been in the news because of the <u>[fraud case involving Rana Kapoor.](https://blog.ipleaders.in/analysis-yes-bank-crisis) Owing to this fact, it was interesting to see how that impacted the stock prices of the company and whether Time series models or any other predictive models can do justice to such situations.</u> This dataset has monthly stock prices of the bank since its inception and includes closing, starting, highest, and lowest stock prices of every month. <u>The main objective is to predict the stock’s closing price of the month.</u>\n",
        "\n",
        "## 🏁 A bank plays an important role in maintaining the economical condition of the country. The Yes Bank crisis created panic among the people in March 2020 as it was the biggest private sector bank. The failure of a bank, be it a public sector bank or a private sector bank, can affect everyone. In March 2020, news came out that there is a high chance of a Yes bank collapse which caused panic among the depositors. The Reserve Bank of India decided to solve this issue. Reserve Bank of India superseded Yes Bank board of directors for a period of 30 days."
      ],
      "metadata": {
        "id": "DpeJGUA3kjGy"
      }
    },
    {
      "cell_type": "markdown",
      "source": [
        "## 🚦Framing The Right Questions For The Analysis\n",
        "<hr>\n",
        "\n",
        "### As stated in the general problem statement and overall purpose of the project, 'create the regression model that can predict the closing price of the stock'. Before we get into the specifics of creating a machine learning model, it is crucial to define the questionaries. We therefore come up with the following set of questions after performing the initial inspection of the dataset.\n",
        "\n",
        "\n",
        "> <b>1. Are there any outliers or anomalies in the data that need to be addressed?</b>\n",
        "\n",
        "> <b>2. How are the data points distributed across time?</b>\n",
        "\n",
        "> <b>3. What is the distribution of the stock prices for each feature (Open, High, Low, Close)?</b>\n",
        "\n",
        "> <b>4. Are there any unusual spikes or dips in the data that need to be investigated further?</b>\n",
        "\n",
        "> <b>5. Can we identify any potential outliers or anomalies in the data?</b>\n",
        "\n",
        "> <b>6. Is closing price of ${n}^{th}$ day impacts the opening price of ${(n+1)}^{th}$ day?</b>\n",
        "\n",
        "> <b>7. Are there any significant differences between the different features of the dataset?</b>\n",
        "\n",
        "> <b>8. What additional insights can be gained by visualizing the data in different ways (e.g., scatter plots, box plots, heat maps, etc.)?</b>\n",
        "\n",
        "> <b>9. What is the overall trend of the stock prices over time?</b>\n",
        "\n",
        "> <b>10. Are there any seasonal patterns or trends in the data that can be observed?</b>\n",
        "\n",
        "> <b>11. Which features have the strongest correlation with the closing price of the stock?</b>\n",
        "\n",
        "> <b>12. How accurately can we predict the future closing prices of the stock based on past data?</b>\n",
        "\n",
        "> <b>13. Can the model be improved by adding additional features or applying different regression techniques?</b>\n",
        "\n",
        "> <b>14. What is the most optimal way to train and test the model?</b>\n",
        "\n",
        "> <b>15. How can the model be interpreted and applied in real-world scenarios?</b>\n",
        "\n",
        "\n"
      ],
      "metadata": {
        "id": "wOfw309Qh6j0"
      }
    },
    {
      "cell_type": "markdown",
      "source": [
        "## ◼ How It Works : A Simple Guide On Stock Exchange Operation.\n",
        "<hr>\n",
        "\n",
        ">### ♦ The stock market is a platform where publicly traded companies issue and sell shares to raise capital.\n",
        "\n",
        ">### ♦ Investors buy and sell these shares on exchanges such as BSE, NSE etc.\n",
        "\n",
        ">### ♦ The price of a share is determined by supply and demand in the market. If more people want to buy a particular stock, its price will go up. Conversely, if more people want to sell a stock, its price will go down.\n",
        "\n",
        ">### ♦ Investors can place buy or sell orders through a broker or an online trading platform. There are two types of orders: market orders and limit orders. A market order is executed immediately at the current market price, while a limit order is executed only if the price reaches a specified limit.\n",
        "\n",
        ">### ♦ The stock market is open for trading on weekdays, usually from 9:15 am to 3:30 pm IST. However, some exchanges may have different hours of operation.\n",
        "\n",
        ">### ♦ The stock market is affected by various factors such as economic indicators, company earnings reports, geopolitical events, and investor sentiment. These factores may affect the volatiality of any stock.\n",
        "\n",
        ">### ♦ The stock market provides investors with opportunities to earn profits through capital gains or dividends, but it also involves risks such as the potential for loss of capital.\n",
        "\n",
        ">### ♦ The stock market plays a crucial role in the economy, as it provides companies with a means to raise capital for growth and expansion, and provides investors with an opportunity to participate in the growth of these companies.\n",
        "\n",
        ">### ♦ Stock markts also help in price discovery and real value of the companies subjected to market conditions."
      ],
      "metadata": {
        "id": "OSrXgjyRDVMW"
      }
    },
    {
      "cell_type": "markdown",
      "source": [
        "## ◼ Business Impact Analysis.\n",
        "<hr>\n",
        "\n",
        "### An agency whether it is Individual or compnay that deals with trading or investing in Yes Bank stocks may be significantly impacted by this regression project. These would be a few potential impacts on business:\n",
        "\n",
        ">### <b>♦ Smarter investment choices:</b> By accurately predicting the closing price of Yes Bank stocks, investors can make better-informed and data driven investment decisions. This can lead to increased profits and a more efficient use of capital.\n",
        "\n",
        ">### <b>♦ Risk management:</b> Predicting the closing price of Yes Bank stocks can also help with risk management. Investors can use the predictions to identify potential risks and take steps to mitigate them. For example, if the model predicts a significant drop in stock prices, investors can take steps to reduce their exposure to Yes Bank stocks.\n",
        "\n",
        ">### <b>♦ Increased competitiveness:</b> Businesses that are able to accurately predict the closing price of Yes Bank stocks may have a competitive advantage over their competitors. This is because they can make better investment decisions and manage risks more effectively.\n",
        "\n",
        ">### <b>♦ Improved customer satisfaction:</b> For businesses that offer investment advice or manage portfolios on behalf of clients, accurate stock price predictions can lead to improved customer satisfaction. This is because clients are more likely to be satisfied with their investment returns if their investments are based on accurate predictions."
      ],
      "metadata": {
        "id": "itY1IqNO4PvR"
      }
    },
    {
      "cell_type": "markdown",
      "source": [
        "<hr>\n",
        "\n",
        "# <center> <font face=\"Lato\" color='red'>✴ General Guidelines\n",
        "\n",
        "<hr>"
      ],
      "metadata": {
        "id": "mDgbUHAGgjLW"
      }
    },
    {
      "cell_type": "markdown",
      "source": [
        "1.   Well-structured, formatted, and commented code is required. \n",
        "2.   Exception Handling, Production Grade Code & Deployment Ready Code will be a plus. Those students will be awarded some additional credits. \n",
        "     \n",
        "     The additional credits will have advantages over other students during Star Student selection.\n",
        "       \n",
        "             [ Note: - Deployment Ready Code is defined as, the whole .ipynb notebook should be executable in one go\n",
        "                       without a single error logged. ]\n",
        "\n",
        "3.   Each and every logic should have proper comments.\n",
        "4. You may add as many number of charts you want. Make Sure for each and every chart the following format should be answered.\n",
        "        \n",
        "\n",
        "```\n",
        "# Chart visualization code\n",
        "```\n",
        "            \n",
        "\n",
        "*   Why did you pick the specific chart?\n",
        "*   What is/are the insight(s) found from the chart?\n",
        "* Will the gained insights help creating a positive business impact? \n",
        "Are there any insights that lead to negative growth? Justify with specific reason.\n",
        "\n",
        "5. You have to create at least 15 logical & meaningful charts having important insights.\n",
        "\n",
        "\n",
        "[ Hints : - Do the Vizualization in  a structured way while following \"UBM\" Rule. \n",
        "\n",
        "U - Univariate Analysis,\n",
        "\n",
        "B - Bivariate Analysis (Numerical - Categorical, Numerical - Numerical, Categorical - Categorical)\n",
        "\n",
        "M - Multivariate Analysis\n",
        " ]\n",
        "\n",
        "\n",
        "\n",
        "\n",
        "\n",
        "6. You may add more ml algorithms for model creation. Make sure for each and every algorithm, the following format should be answered.\n",
        "\n",
        "\n",
        "*   Explain the ML Model used and it's performance using Evaluation metric Score Chart.\n",
        "\n",
        "\n",
        "*   Cross- Validation & Hyperparameter Tuning\n",
        "\n",
        "*   Have you seen any improvement? Note down the improvement with updates Evaluation metric Score Chart.\n",
        "\n",
        "*   Explain each evaluation metric's indication towards business and the business impact pf the ML model used.\n",
        "\n",
        "\n",
        "\n",
        "\n",
        "\n",
        "\n",
        "\n",
        "\n",
        "\n",
        "\n",
        "\n",
        "\n",
        "\n",
        "\n",
        "\n",
        "\n",
        "\n",
        "\n"
      ],
      "metadata": {
        "id": "ZrxVaUj-hHfC"
      }
    },
    {
      "cell_type": "markdown",
      "source": [
        "<hr>\n",
        "\n",
        "# <center> <font face=\"Lato\" color='red'> ✴ Project Architecture And Roadmap\n",
        "\n",
        "<hr>"
      ],
      "metadata": {
        "id": "NhyIXgTi_FFR"
      }
    },
    {
      "cell_type": "markdown",
      "source": [
        "## <b>Key Stages In Data Science Project</b>\n",
        "<hr>\n"
      ],
      "metadata": {
        "id": "njHiKhAbEK0n"
      }
    },
    {
      "cell_type": "markdown",
      "source": [
        "<center><img src=\"https://github.com/ashish-mali/Regression-Yes-Bank-Stock-Closing-Price-Prediction/blob/main/Images/Key_stages_in_ds_project.png?raw=true\" alt=\"Data Science Project Stages\" width=\"800\" height=\"350\">"
      ],
      "metadata": {
        "id": "2SL3AfDnFJxO"
      }
    },
    {
      "cell_type": "markdown",
      "source": [
        "\n",
        "### ♦ <u>Obtain</u>: In this stage, the data scientist identifies the data required to solve the problem at hand and gathers it from various sources. This can involve collecting data from databases, web scraping, API calls, or data purchases. For this project we already given the data in CSV format.\n",
        "\n",
        "### ♦ <u>Scrub</u>: In this stage, the data is cleaned, formatted, and prepared for analysis. This can involve removing missing values, dealing with outliers, handling data inconsistencies, and standardizing the format of the data. The goal is to ensure that the data is reliable and usable for analysis.\n",
        "\n",
        "### ♦ <u>Explore</u>: In this stage, the data scientist performs exploratory data analysis (EDA) to understand the characteristics of the data and identify any patterns or trends. This can involve creating visualizations, calculating summary statistics, and identifying correlations between variables.\n",
        "\n",
        "### ♦ <u>Model</u>: In this stage, the data scientist builds predictive models using the data. This can involve selecting appropriate algorithms, training and testing models, and tuning hyperparameters. The goal is to create a model that accurately predicts the target variable.\n",
        "\n",
        "### ♦ <u>Interpret</u>: In this stage, the data scientist interprets the results of the modeling process and draws conclusions from them. This can involve identifying which features are most important, evaluating the accuracy of the model, and determining whether the model can be used to make decisions in the real world. The goal is to provide insights that can be used to solve the problem at hand.\n",
        "\n",
        "\n",
        "\n"
      ],
      "metadata": {
        "id": "TBDrWyh1JIV0"
      }
    },
    {
      "cell_type": "markdown",
      "source": [
        "## <b>Basic Framework For Machine Learning Project</b>\n",
        "<hr>"
      ],
      "metadata": {
        "id": "Hpi5Tr8KGxV2"
      }
    },
    {
      "cell_type": "markdown",
      "source": [
        "<center><img src=\"https://github.com/ashish-mali/Regression-Yes-Bank-Stock-Closing-Price-Prediction/blob/main/Images/Project_Architecture.png?raw=true\" alt=\"Data Science Project Stages\" width='1080' height=\"720\">"
      ],
      "metadata": {
        "id": "ZnK7KpvZH2eF"
      }
    },
    {
      "cell_type": "markdown",
      "source": [
        "<hr>\n",
        "\n",
        "# <center> <font face=\"Lato\" color='red'>✴ Let's Begin !\n",
        "\n",
        "<hr>"
      ],
      "metadata": {
        "id": "O_i_v8NEhb9l"
      }
    },
    {
      "cell_type": "markdown",
      "source": [
        "## ***1. Know Your Data***\n",
        "<hr>\n",
        "\n"
      ],
      "metadata": {
        "id": "HhfV-JJviCcP"
      }
    },
    {
      "cell_type": "markdown",
      "source": [
        "### Import Libraries"
      ],
      "metadata": {
        "id": "Y3lxredqlCYt"
      }
    },
    {
      "cell_type": "code",
      "source": [
        "# Import Libraries\n",
        "# Numpy for computationally effcient operations\n",
        "import numpy as np\n",
        "\n",
        "# Pandas for data manipulation and aggregation\n",
        "import pandas as pd\n",
        "\n",
        "# Matplotlib and seaborn for visualisation and behaviour wrt target variable\n",
        "import matplotlib.pyplot as plt\n",
        "import seaborn as sns\n",
        "%matplotlib inline\n",
        "\n",
        "from numpy import math\n",
        "from datetime import datetime\n",
        "\n",
        "# Scipy distribution for Hypothesis Testing\n",
        "from scipy.stats import uniform\n",
        "from scipy.stats import norm\n",
        "from scipy.stats import chi2\n",
        "from scipy.stats import t\n",
        "from scipy.stats import f\n",
        "\n",
        "# Variance Inflation Factor\n",
        "from statsmodels.stats.outliers_influence import variance_inflation_factor\n",
        "\n",
        "# Scikit Learn for medel training, model optimization, and metrics calculation\n",
        "from sklearn.preprocessing import StandardScaler\n",
        "from sklearn.preprocessing import PolynomialFeatures\n",
        "from sklearn.model_selection import train_test_split\n",
        "from sklearn.linear_model import LinearRegression\n",
        "\n",
        "# Regularization Model\n",
        "from sklearn.linear_model import Lasso\n",
        "from sklearn.linear_model import Ridge\n",
        "from sklearn.linear_model import ElasticNet\n",
        "\n",
        "# Scikit Learn metrics to measure the performance of model\n",
        "from sklearn import metrics\n",
        "from sklearn.metrics import mean_absolute_error\n",
        "from sklearn.metrics import mean_squared_error\n",
        "from sklearn.metrics import r2_score\n",
        "from sklearn.metrics import mean_absolute_percentage_error\n",
        "\n",
        "#Cros-Validation and HyperParameter tunning\n",
        "from sklearn.model_selection import TimeSeriesSplit\n",
        "from sklearn.model_selection import cross_validate\n",
        "from sklearn.model_selection import GridSearchCV\n",
        "from sklearn.model_selection import RandomizedSearchCV\n",
        "\n",
        "# Random Forest Regression Model\n",
        "from sklearn.ensemble import RandomForestRegressor\n",
        "\n",
        "# XGBoost Regressor Model\n",
        "from xgboost import XGBRegressor\n",
        "\n",
        "import warnings\n",
        "warnings.filterwarnings('ignore')"
      ],
      "metadata": {
        "id": "M8Vqi-pPk-HR"
      },
      "execution_count": 2,
      "outputs": []
    },
    {
      "cell_type": "markdown",
      "source": [
        "### Dataset Loading"
      ],
      "metadata": {
        "id": "3RnN4peoiCZX"
      }
    },
    {
      "cell_type": "code",
      "source": [
        "# Load Dataset\n",
        "# Fetching the dataset url from GitHub\n",
        "url = 'https://raw.githubusercontent.com/ashish-mali/Regression-Yes-Bank-Stock-Closing-Price-Prediction/main/Data_Files/data_YesBank_StockPrices.csv'\n",
        "\n",
        "# Creating the Pandas DataFrame with the given row data\n",
        "dataset = pd.read_csv(url, encoding= 'unicode_escape')"
      ],
      "metadata": {
        "id": "4CkvbW_SlZ_R"
      },
      "execution_count": 3,
      "outputs": []
    },
    {
      "cell_type": "code",
      "source": [
        "# Creating the copy of the dataset\n",
        "df = dataset.copy()"
      ],
      "metadata": {
        "id": "1FuF09yMQsPZ"
      },
      "execution_count": 4,
      "outputs": []
    },
    {
      "cell_type": "markdown",
      "source": [
        "####⚓ <b>It is important to create the `copy` of the data, as further in the project we do various operations on the dataset such as `Data wrangling`, `Data Transformation`, `Feature Engineering` or `Feature Transformation`. upon doing such operations we get different dataset at the end depending on our requirement at that time so it is always a good idea to keep the orginal row data intact so we can always revert back the chnages we did in the overall process.</b>"
      ],
      "metadata": {
        "id": "pG55dbbzRrX1"
      }
    },
    {
      "cell_type": "markdown",
      "source": [
        "### Dataset First View"
      ],
      "metadata": {
        "id": "x71ZqKXriCWQ"
      }
    },
    {
      "cell_type": "code",
      "source": [
        "# Dataset First Look\n",
        "# First five observations\n",
        "df.head()"
      ],
      "metadata": {
        "id": "LWNFOSvLl09H",
        "colab": {
          "base_uri": "https://localhost:8080/",
          "height": 206
        },
        "outputId": "a5a79ec8-1eea-45ab-e614-5ab5b41b1f8f"
      },
      "execution_count": 5,
      "outputs": [
        {
          "output_type": "execute_result",
          "data": {
            "text/plain": [
              "     Date   Open   High    Low  Close\n",
              "0  Jul-05  13.00  14.00  11.25  12.46\n",
              "1  Aug-05  12.58  14.88  12.55  13.42\n",
              "2  Sep-05  13.48  14.87  12.27  13.30\n",
              "3  Oct-05  13.20  14.47  12.40  12.99\n",
              "4  Nov-05  13.35  13.88  12.88  13.41"
            ],
            "text/html": [
              "\n",
              "  <div id=\"df-05b4cfb8-ff58-40af-b76d-0d9edee852f9\">\n",
              "    <div class=\"colab-df-container\">\n",
              "      <div>\n",
              "<style scoped>\n",
              "    .dataframe tbody tr th:only-of-type {\n",
              "        vertical-align: middle;\n",
              "    }\n",
              "\n",
              "    .dataframe tbody tr th {\n",
              "        vertical-align: top;\n",
              "    }\n",
              "\n",
              "    .dataframe thead th {\n",
              "        text-align: right;\n",
              "    }\n",
              "</style>\n",
              "<table border=\"1\" class=\"dataframe\">\n",
              "  <thead>\n",
              "    <tr style=\"text-align: right;\">\n",
              "      <th></th>\n",
              "      <th>Date</th>\n",
              "      <th>Open</th>\n",
              "      <th>High</th>\n",
              "      <th>Low</th>\n",
              "      <th>Close</th>\n",
              "    </tr>\n",
              "  </thead>\n",
              "  <tbody>\n",
              "    <tr>\n",
              "      <th>0</th>\n",
              "      <td>Jul-05</td>\n",
              "      <td>13.00</td>\n",
              "      <td>14.00</td>\n",
              "      <td>11.25</td>\n",
              "      <td>12.46</td>\n",
              "    </tr>\n",
              "    <tr>\n",
              "      <th>1</th>\n",
              "      <td>Aug-05</td>\n",
              "      <td>12.58</td>\n",
              "      <td>14.88</td>\n",
              "      <td>12.55</td>\n",
              "      <td>13.42</td>\n",
              "    </tr>\n",
              "    <tr>\n",
              "      <th>2</th>\n",
              "      <td>Sep-05</td>\n",
              "      <td>13.48</td>\n",
              "      <td>14.87</td>\n",
              "      <td>12.27</td>\n",
              "      <td>13.30</td>\n",
              "    </tr>\n",
              "    <tr>\n",
              "      <th>3</th>\n",
              "      <td>Oct-05</td>\n",
              "      <td>13.20</td>\n",
              "      <td>14.47</td>\n",
              "      <td>12.40</td>\n",
              "      <td>12.99</td>\n",
              "    </tr>\n",
              "    <tr>\n",
              "      <th>4</th>\n",
              "      <td>Nov-05</td>\n",
              "      <td>13.35</td>\n",
              "      <td>13.88</td>\n",
              "      <td>12.88</td>\n",
              "      <td>13.41</td>\n",
              "    </tr>\n",
              "  </tbody>\n",
              "</table>\n",
              "</div>\n",
              "      <button class=\"colab-df-convert\" onclick=\"convertToInteractive('df-05b4cfb8-ff58-40af-b76d-0d9edee852f9')\"\n",
              "              title=\"Convert this dataframe to an interactive table.\"\n",
              "              style=\"display:none;\">\n",
              "        \n",
              "  <svg xmlns=\"http://www.w3.org/2000/svg\" height=\"24px\"viewBox=\"0 0 24 24\"\n",
              "       width=\"24px\">\n",
              "    <path d=\"M0 0h24v24H0V0z\" fill=\"none\"/>\n",
              "    <path d=\"M18.56 5.44l.94 2.06.94-2.06 2.06-.94-2.06-.94-.94-2.06-.94 2.06-2.06.94zm-11 1L8.5 8.5l.94-2.06 2.06-.94-2.06-.94L8.5 2.5l-.94 2.06-2.06.94zm10 10l.94 2.06.94-2.06 2.06-.94-2.06-.94-.94-2.06-.94 2.06-2.06.94z\"/><path d=\"M17.41 7.96l-1.37-1.37c-.4-.4-.92-.59-1.43-.59-.52 0-1.04.2-1.43.59L10.3 9.45l-7.72 7.72c-.78.78-.78 2.05 0 2.83L4 21.41c.39.39.9.59 1.41.59.51 0 1.02-.2 1.41-.59l7.78-7.78 2.81-2.81c.8-.78.8-2.07 0-2.86zM5.41 20L4 18.59l7.72-7.72 1.47 1.35L5.41 20z\"/>\n",
              "  </svg>\n",
              "      </button>\n",
              "      \n",
              "  <style>\n",
              "    .colab-df-container {\n",
              "      display:flex;\n",
              "      flex-wrap:wrap;\n",
              "      gap: 12px;\n",
              "    }\n",
              "\n",
              "    .colab-df-convert {\n",
              "      background-color: #E8F0FE;\n",
              "      border: none;\n",
              "      border-radius: 50%;\n",
              "      cursor: pointer;\n",
              "      display: none;\n",
              "      fill: #1967D2;\n",
              "      height: 32px;\n",
              "      padding: 0 0 0 0;\n",
              "      width: 32px;\n",
              "    }\n",
              "\n",
              "    .colab-df-convert:hover {\n",
              "      background-color: #E2EBFA;\n",
              "      box-shadow: 0px 1px 2px rgba(60, 64, 67, 0.3), 0px 1px 3px 1px rgba(60, 64, 67, 0.15);\n",
              "      fill: #174EA6;\n",
              "    }\n",
              "\n",
              "    [theme=dark] .colab-df-convert {\n",
              "      background-color: #3B4455;\n",
              "      fill: #D2E3FC;\n",
              "    }\n",
              "\n",
              "    [theme=dark] .colab-df-convert:hover {\n",
              "      background-color: #434B5C;\n",
              "      box-shadow: 0px 1px 3px 1px rgba(0, 0, 0, 0.15);\n",
              "      filter: drop-shadow(0px 1px 2px rgba(0, 0, 0, 0.3));\n",
              "      fill: #FFFFFF;\n",
              "    }\n",
              "  </style>\n",
              "\n",
              "      <script>\n",
              "        const buttonEl =\n",
              "          document.querySelector('#df-05b4cfb8-ff58-40af-b76d-0d9edee852f9 button.colab-df-convert');\n",
              "        buttonEl.style.display =\n",
              "          google.colab.kernel.accessAllowed ? 'block' : 'none';\n",
              "\n",
              "        async function convertToInteractive(key) {\n",
              "          const element = document.querySelector('#df-05b4cfb8-ff58-40af-b76d-0d9edee852f9');\n",
              "          const dataTable =\n",
              "            await google.colab.kernel.invokeFunction('convertToInteractive',\n",
              "                                                     [key], {});\n",
              "          if (!dataTable) return;\n",
              "\n",
              "          const docLinkHtml = 'Like what you see? Visit the ' +\n",
              "            '<a target=\"_blank\" href=https://colab.research.google.com/notebooks/data_table.ipynb>data table notebook</a>'\n",
              "            + ' to learn more about interactive tables.';\n",
              "          element.innerHTML = '';\n",
              "          dataTable['output_type'] = 'display_data';\n",
              "          await google.colab.output.renderOutput(dataTable, element);\n",
              "          const docLink = document.createElement('div');\n",
              "          docLink.innerHTML = docLinkHtml;\n",
              "          element.appendChild(docLink);\n",
              "        }\n",
              "      </script>\n",
              "    </div>\n",
              "  </div>\n",
              "  "
            ]
          },
          "metadata": {},
          "execution_count": 5
        }
      ]
    },
    {
      "cell_type": "code",
      "source": [
        "# Middle five observations\n",
        "# Let's create the python function which retuen the records in the middle of the dataframe works same as default head() method\n",
        "def get_middle_rows(df, num_rows=5):\n",
        "\n",
        "    # doc string\n",
        "    \"\"\"\n",
        "    This function takes a Pandas DataFrame as input and returns a specified number of rows from the middle of the DataFrame.\n",
        "\n",
        "    Parameters:\n",
        "        df (pandas.DataFrame): Input DataFrame.\n",
        "        num_rows (int, optional): Number of rows to return from the middle of the DataFrame. Default is 5.\n",
        "\n",
        "    Returns:\n",
        "        pandas.DataFrame: Specified number of rows from the middle of the input DataFrame.\n",
        "    \"\"\"\n",
        "    # getting the middle of the DataFrame\n",
        "    middle_index = len(df) // 2\n",
        "\n",
        "    # calculating the starting and ending index\n",
        "    start_index = middle_index - (num_rows // 2)\n",
        "    end_index = start_index + num_rows\n",
        "\n",
        "    # return the DataFrame\n",
        "    return df.iloc[start_index:end_index]"
      ],
      "metadata": {
        "id": "g2g0c5TjiT7L"
      },
      "execution_count": 6,
      "outputs": []
    },
    {
      "cell_type": "code",
      "source": [
        "get_middle_rows(df)"
      ],
      "metadata": {
        "colab": {
          "base_uri": "https://localhost:8080/",
          "height": 206
        },
        "id": "8jHYPcejq_O5",
        "outputId": "b1e0357f-e63e-4f6b-d544-42f832f1e0c8"
      },
      "execution_count": 7,
      "outputs": [
        {
          "output_type": "execute_result",
          "data": {
            "text/plain": [
              "      Date    Open    High    Low   Close\n",
              "90  Jan-13   93.20  107.00  93.20  104.41\n",
              "91  Feb-13  104.41  107.80  93.40   94.50\n",
              "92  Mar-13   94.00  100.15  83.42   85.71\n",
              "93  Apr-13   85.70  101.80  83.43  100.28\n",
              "94  May-13  100.99  109.43  97.20   97.49"
            ],
            "text/html": [
              "\n",
              "  <div id=\"df-ce2ef7f2-cf9e-41cb-810c-1c5a5ae22459\">\n",
              "    <div class=\"colab-df-container\">\n",
              "      <div>\n",
              "<style scoped>\n",
              "    .dataframe tbody tr th:only-of-type {\n",
              "        vertical-align: middle;\n",
              "    }\n",
              "\n",
              "    .dataframe tbody tr th {\n",
              "        vertical-align: top;\n",
              "    }\n",
              "\n",
              "    .dataframe thead th {\n",
              "        text-align: right;\n",
              "    }\n",
              "</style>\n",
              "<table border=\"1\" class=\"dataframe\">\n",
              "  <thead>\n",
              "    <tr style=\"text-align: right;\">\n",
              "      <th></th>\n",
              "      <th>Date</th>\n",
              "      <th>Open</th>\n",
              "      <th>High</th>\n",
              "      <th>Low</th>\n",
              "      <th>Close</th>\n",
              "    </tr>\n",
              "  </thead>\n",
              "  <tbody>\n",
              "    <tr>\n",
              "      <th>90</th>\n",
              "      <td>Jan-13</td>\n",
              "      <td>93.20</td>\n",
              "      <td>107.00</td>\n",
              "      <td>93.20</td>\n",
              "      <td>104.41</td>\n",
              "    </tr>\n",
              "    <tr>\n",
              "      <th>91</th>\n",
              "      <td>Feb-13</td>\n",
              "      <td>104.41</td>\n",
              "      <td>107.80</td>\n",
              "      <td>93.40</td>\n",
              "      <td>94.50</td>\n",
              "    </tr>\n",
              "    <tr>\n",
              "      <th>92</th>\n",
              "      <td>Mar-13</td>\n",
              "      <td>94.00</td>\n",
              "      <td>100.15</td>\n",
              "      <td>83.42</td>\n",
              "      <td>85.71</td>\n",
              "    </tr>\n",
              "    <tr>\n",
              "      <th>93</th>\n",
              "      <td>Apr-13</td>\n",
              "      <td>85.70</td>\n",
              "      <td>101.80</td>\n",
              "      <td>83.43</td>\n",
              "      <td>100.28</td>\n",
              "    </tr>\n",
              "    <tr>\n",
              "      <th>94</th>\n",
              "      <td>May-13</td>\n",
              "      <td>100.99</td>\n",
              "      <td>109.43</td>\n",
              "      <td>97.20</td>\n",
              "      <td>97.49</td>\n",
              "    </tr>\n",
              "  </tbody>\n",
              "</table>\n",
              "</div>\n",
              "      <button class=\"colab-df-convert\" onclick=\"convertToInteractive('df-ce2ef7f2-cf9e-41cb-810c-1c5a5ae22459')\"\n",
              "              title=\"Convert this dataframe to an interactive table.\"\n",
              "              style=\"display:none;\">\n",
              "        \n",
              "  <svg xmlns=\"http://www.w3.org/2000/svg\" height=\"24px\"viewBox=\"0 0 24 24\"\n",
              "       width=\"24px\">\n",
              "    <path d=\"M0 0h24v24H0V0z\" fill=\"none\"/>\n",
              "    <path d=\"M18.56 5.44l.94 2.06.94-2.06 2.06-.94-2.06-.94-.94-2.06-.94 2.06-2.06.94zm-11 1L8.5 8.5l.94-2.06 2.06-.94-2.06-.94L8.5 2.5l-.94 2.06-2.06.94zm10 10l.94 2.06.94-2.06 2.06-.94-2.06-.94-.94-2.06-.94 2.06-2.06.94z\"/><path d=\"M17.41 7.96l-1.37-1.37c-.4-.4-.92-.59-1.43-.59-.52 0-1.04.2-1.43.59L10.3 9.45l-7.72 7.72c-.78.78-.78 2.05 0 2.83L4 21.41c.39.39.9.59 1.41.59.51 0 1.02-.2 1.41-.59l7.78-7.78 2.81-2.81c.8-.78.8-2.07 0-2.86zM5.41 20L4 18.59l7.72-7.72 1.47 1.35L5.41 20z\"/>\n",
              "  </svg>\n",
              "      </button>\n",
              "      \n",
              "  <style>\n",
              "    .colab-df-container {\n",
              "      display:flex;\n",
              "      flex-wrap:wrap;\n",
              "      gap: 12px;\n",
              "    }\n",
              "\n",
              "    .colab-df-convert {\n",
              "      background-color: #E8F0FE;\n",
              "      border: none;\n",
              "      border-radius: 50%;\n",
              "      cursor: pointer;\n",
              "      display: none;\n",
              "      fill: #1967D2;\n",
              "      height: 32px;\n",
              "      padding: 0 0 0 0;\n",
              "      width: 32px;\n",
              "    }\n",
              "\n",
              "    .colab-df-convert:hover {\n",
              "      background-color: #E2EBFA;\n",
              "      box-shadow: 0px 1px 2px rgba(60, 64, 67, 0.3), 0px 1px 3px 1px rgba(60, 64, 67, 0.15);\n",
              "      fill: #174EA6;\n",
              "    }\n",
              "\n",
              "    [theme=dark] .colab-df-convert {\n",
              "      background-color: #3B4455;\n",
              "      fill: #D2E3FC;\n",
              "    }\n",
              "\n",
              "    [theme=dark] .colab-df-convert:hover {\n",
              "      background-color: #434B5C;\n",
              "      box-shadow: 0px 1px 3px 1px rgba(0, 0, 0, 0.15);\n",
              "      filter: drop-shadow(0px 1px 2px rgba(0, 0, 0, 0.3));\n",
              "      fill: #FFFFFF;\n",
              "    }\n",
              "  </style>\n",
              "\n",
              "      <script>\n",
              "        const buttonEl =\n",
              "          document.querySelector('#df-ce2ef7f2-cf9e-41cb-810c-1c5a5ae22459 button.colab-df-convert');\n",
              "        buttonEl.style.display =\n",
              "          google.colab.kernel.accessAllowed ? 'block' : 'none';\n",
              "\n",
              "        async function convertToInteractive(key) {\n",
              "          const element = document.querySelector('#df-ce2ef7f2-cf9e-41cb-810c-1c5a5ae22459');\n",
              "          const dataTable =\n",
              "            await google.colab.kernel.invokeFunction('convertToInteractive',\n",
              "                                                     [key], {});\n",
              "          if (!dataTable) return;\n",
              "\n",
              "          const docLinkHtml = 'Like what you see? Visit the ' +\n",
              "            '<a target=\"_blank\" href=https://colab.research.google.com/notebooks/data_table.ipynb>data table notebook</a>'\n",
              "            + ' to learn more about interactive tables.';\n",
              "          element.innerHTML = '';\n",
              "          dataTable['output_type'] = 'display_data';\n",
              "          await google.colab.output.renderOutput(dataTable, element);\n",
              "          const docLink = document.createElement('div');\n",
              "          docLink.innerHTML = docLinkHtml;\n",
              "          element.appendChild(docLink);\n",
              "        }\n",
              "      </script>\n",
              "    </div>\n",
              "  </div>\n",
              "  "
            ]
          },
          "metadata": {},
          "execution_count": 7
        }
      ]
    },
    {
      "cell_type": "code",
      "source": [
        "# Last five observations\n",
        "df.tail()"
      ],
      "metadata": {
        "colab": {
          "base_uri": "https://localhost:8080/",
          "height": 206
        },
        "id": "oo3ZjDFof-K2",
        "outputId": "d875af77-3918-4a8f-a2d8-2e72f2b70d58"
      },
      "execution_count": 8,
      "outputs": [
        {
          "output_type": "execute_result",
          "data": {
            "text/plain": [
              "       Date   Open   High    Low  Close\n",
              "180  Jul-20  25.60  28.30  11.10  11.95\n",
              "181  Aug-20  12.00  17.16  11.85  14.37\n",
              "182  Sep-20  14.30  15.34  12.75  13.15\n",
              "183  Oct-20  13.30  14.01  12.11  12.42\n",
              "184  Nov-20  12.41  14.90  12.21  14.67"
            ],
            "text/html": [
              "\n",
              "  <div id=\"df-5223fc5b-af37-45c1-b12c-89ec410be7a6\">\n",
              "    <div class=\"colab-df-container\">\n",
              "      <div>\n",
              "<style scoped>\n",
              "    .dataframe tbody tr th:only-of-type {\n",
              "        vertical-align: middle;\n",
              "    }\n",
              "\n",
              "    .dataframe tbody tr th {\n",
              "        vertical-align: top;\n",
              "    }\n",
              "\n",
              "    .dataframe thead th {\n",
              "        text-align: right;\n",
              "    }\n",
              "</style>\n",
              "<table border=\"1\" class=\"dataframe\">\n",
              "  <thead>\n",
              "    <tr style=\"text-align: right;\">\n",
              "      <th></th>\n",
              "      <th>Date</th>\n",
              "      <th>Open</th>\n",
              "      <th>High</th>\n",
              "      <th>Low</th>\n",
              "      <th>Close</th>\n",
              "    </tr>\n",
              "  </thead>\n",
              "  <tbody>\n",
              "    <tr>\n",
              "      <th>180</th>\n",
              "      <td>Jul-20</td>\n",
              "      <td>25.60</td>\n",
              "      <td>28.30</td>\n",
              "      <td>11.10</td>\n",
              "      <td>11.95</td>\n",
              "    </tr>\n",
              "    <tr>\n",
              "      <th>181</th>\n",
              "      <td>Aug-20</td>\n",
              "      <td>12.00</td>\n",
              "      <td>17.16</td>\n",
              "      <td>11.85</td>\n",
              "      <td>14.37</td>\n",
              "    </tr>\n",
              "    <tr>\n",
              "      <th>182</th>\n",
              "      <td>Sep-20</td>\n",
              "      <td>14.30</td>\n",
              "      <td>15.34</td>\n",
              "      <td>12.75</td>\n",
              "      <td>13.15</td>\n",
              "    </tr>\n",
              "    <tr>\n",
              "      <th>183</th>\n",
              "      <td>Oct-20</td>\n",
              "      <td>13.30</td>\n",
              "      <td>14.01</td>\n",
              "      <td>12.11</td>\n",
              "      <td>12.42</td>\n",
              "    </tr>\n",
              "    <tr>\n",
              "      <th>184</th>\n",
              "      <td>Nov-20</td>\n",
              "      <td>12.41</td>\n",
              "      <td>14.90</td>\n",
              "      <td>12.21</td>\n",
              "      <td>14.67</td>\n",
              "    </tr>\n",
              "  </tbody>\n",
              "</table>\n",
              "</div>\n",
              "      <button class=\"colab-df-convert\" onclick=\"convertToInteractive('df-5223fc5b-af37-45c1-b12c-89ec410be7a6')\"\n",
              "              title=\"Convert this dataframe to an interactive table.\"\n",
              "              style=\"display:none;\">\n",
              "        \n",
              "  <svg xmlns=\"http://www.w3.org/2000/svg\" height=\"24px\"viewBox=\"0 0 24 24\"\n",
              "       width=\"24px\">\n",
              "    <path d=\"M0 0h24v24H0V0z\" fill=\"none\"/>\n",
              "    <path d=\"M18.56 5.44l.94 2.06.94-2.06 2.06-.94-2.06-.94-.94-2.06-.94 2.06-2.06.94zm-11 1L8.5 8.5l.94-2.06 2.06-.94-2.06-.94L8.5 2.5l-.94 2.06-2.06.94zm10 10l.94 2.06.94-2.06 2.06-.94-2.06-.94-.94-2.06-.94 2.06-2.06.94z\"/><path d=\"M17.41 7.96l-1.37-1.37c-.4-.4-.92-.59-1.43-.59-.52 0-1.04.2-1.43.59L10.3 9.45l-7.72 7.72c-.78.78-.78 2.05 0 2.83L4 21.41c.39.39.9.59 1.41.59.51 0 1.02-.2 1.41-.59l7.78-7.78 2.81-2.81c.8-.78.8-2.07 0-2.86zM5.41 20L4 18.59l7.72-7.72 1.47 1.35L5.41 20z\"/>\n",
              "  </svg>\n",
              "      </button>\n",
              "      \n",
              "  <style>\n",
              "    .colab-df-container {\n",
              "      display:flex;\n",
              "      flex-wrap:wrap;\n",
              "      gap: 12px;\n",
              "    }\n",
              "\n",
              "    .colab-df-convert {\n",
              "      background-color: #E8F0FE;\n",
              "      border: none;\n",
              "      border-radius: 50%;\n",
              "      cursor: pointer;\n",
              "      display: none;\n",
              "      fill: #1967D2;\n",
              "      height: 32px;\n",
              "      padding: 0 0 0 0;\n",
              "      width: 32px;\n",
              "    }\n",
              "\n",
              "    .colab-df-convert:hover {\n",
              "      background-color: #E2EBFA;\n",
              "      box-shadow: 0px 1px 2px rgba(60, 64, 67, 0.3), 0px 1px 3px 1px rgba(60, 64, 67, 0.15);\n",
              "      fill: #174EA6;\n",
              "    }\n",
              "\n",
              "    [theme=dark] .colab-df-convert {\n",
              "      background-color: #3B4455;\n",
              "      fill: #D2E3FC;\n",
              "    }\n",
              "\n",
              "    [theme=dark] .colab-df-convert:hover {\n",
              "      background-color: #434B5C;\n",
              "      box-shadow: 0px 1px 3px 1px rgba(0, 0, 0, 0.15);\n",
              "      filter: drop-shadow(0px 1px 2px rgba(0, 0, 0, 0.3));\n",
              "      fill: #FFFFFF;\n",
              "    }\n",
              "  </style>\n",
              "\n",
              "      <script>\n",
              "        const buttonEl =\n",
              "          document.querySelector('#df-5223fc5b-af37-45c1-b12c-89ec410be7a6 button.colab-df-convert');\n",
              "        buttonEl.style.display =\n",
              "          google.colab.kernel.accessAllowed ? 'block' : 'none';\n",
              "\n",
              "        async function convertToInteractive(key) {\n",
              "          const element = document.querySelector('#df-5223fc5b-af37-45c1-b12c-89ec410be7a6');\n",
              "          const dataTable =\n",
              "            await google.colab.kernel.invokeFunction('convertToInteractive',\n",
              "                                                     [key], {});\n",
              "          if (!dataTable) return;\n",
              "\n",
              "          const docLinkHtml = 'Like what you see? Visit the ' +\n",
              "            '<a target=\"_blank\" href=https://colab.research.google.com/notebooks/data_table.ipynb>data table notebook</a>'\n",
              "            + ' to learn more about interactive tables.';\n",
              "          element.innerHTML = '';\n",
              "          dataTable['output_type'] = 'display_data';\n",
              "          await google.colab.output.renderOutput(dataTable, element);\n",
              "          const docLink = document.createElement('div');\n",
              "          docLink.innerHTML = docLinkHtml;\n",
              "          element.appendChild(docLink);\n",
              "        }\n",
              "      </script>\n",
              "    </div>\n",
              "  </div>\n",
              "  "
            ]
          },
          "metadata": {},
          "execution_count": 8
        }
      ]
    },
    {
      "cell_type": "markdown",
      "source": [
        "<b>⚓</b> <b> Upon doing the early inspection of the `Yes Bank Stock Closing Price` dataset we can conclude that, The `185 observations` are segmented into `5 features/variables`. </b>"
      ],
      "metadata": {
        "id": "HqJjojlBkIV9"
      }
    },
    {
      "cell_type": "markdown",
      "source": [
        "### Dataset Rows & Columns count"
      ],
      "metadata": {
        "id": "7hBIi_osiCS2"
      }
    },
    {
      "cell_type": "code",
      "source": [
        "# Dataset Rows & Columns count\n",
        "print(f'The number of rows in the dataset is: ', df.shape[0])\n",
        "\n",
        "print(f'The number of columns in the dataset is: ', df.shape[1])"
      ],
      "metadata": {
        "id": "Kllu7SJgmLij",
        "colab": {
          "base_uri": "https://localhost:8080/"
        },
        "outputId": "7d66fc82-f1bd-4618-a459-2c07078aaf82"
      },
      "execution_count": 9,
      "outputs": [
        {
          "output_type": "stream",
          "name": "stdout",
          "text": [
            "The number of rows in the dataset is:  185\n",
            "The number of columns in the dataset is:  5\n"
          ]
        }
      ]
    },
    {
      "cell_type": "markdown",
      "source": [
        "### Dataset Information"
      ],
      "metadata": {
        "id": "JlHwYmJAmNHm"
      }
    },
    {
      "cell_type": "code",
      "source": [
        "# Dataset Info\n",
        "df.info()"
      ],
      "metadata": {
        "id": "e9hRXRi6meOf",
        "colab": {
          "base_uri": "https://localhost:8080/"
        },
        "outputId": "80873504-99fc-4f71-e23c-b184270fd923"
      },
      "execution_count": 10,
      "outputs": [
        {
          "output_type": "stream",
          "name": "stdout",
          "text": [
            "<class 'pandas.core.frame.DataFrame'>\n",
            "RangeIndex: 185 entries, 0 to 184\n",
            "Data columns (total 5 columns):\n",
            " #   Column  Non-Null Count  Dtype  \n",
            "---  ------  --------------  -----  \n",
            " 0   Date    185 non-null    object \n",
            " 1   Open    185 non-null    float64\n",
            " 2   High    185 non-null    float64\n",
            " 3   Low     185 non-null    float64\n",
            " 4   Close   185 non-null    float64\n",
            "dtypes: float64(4), object(1)\n",
            "memory usage: 7.4+ KB\n"
          ]
        }
      ]
    },
    {
      "cell_type": "markdown",
      "source": [
        "\n",
        "\n",
        "1.   There are multiple features in the dataset - Date, Open, High and close The columns Open and Close represent the starting and final price.\n",
        "2.   The High, Low features are represent the maximum and minimum.\n",
        "\n"
      ],
      "metadata": {
        "id": "K-CLKN6O5OEr"
      }
    },
    {
      "cell_type": "markdown",
      "source": [
        "#### Duplicate Values"
      ],
      "metadata": {
        "id": "35m5QtbWiB9F"
      }
    },
    {
      "cell_type": "code",
      "source": [
        "# Dataset Duplicate Value Count\n",
        "# Let's create the python function to determine the duplicated count based on all vs individual\n",
        "def count_duplicates(df):\n",
        "\n",
        "    # doc string\n",
        "    \"\"\"\n",
        "    This function takes a Pandas DataFrame as input and returns the number of duplicated rows based on all columns, \n",
        "    as well as the number of duplicated values for each column.\n",
        "\n",
        "    Parameters:\n",
        "        df (pandas.DataFrame): Input DataFrame.\n",
        "\n",
        "    Returns:\n",
        "        tuple: A tuple containing:\n",
        "            - int: Number of duplicated rows based on all columns.\n",
        "            - pandas.Series: Number of duplicated values for each column.\n",
        "    \"\"\"\n",
        "    # calculate the duplicated rows based on all columns\n",
        "    duplicates_all_cols = df.duplicated().sum()\n",
        "\n",
        "    # calculate the duplicated rows based on individual column\n",
        "    duplicates_per_col = df.duplicated(subset=df.columns).sum()\n",
        "\n",
        "    return duplicates_all_cols, duplicates_per_col"
      ],
      "metadata": {
        "id": "1sLdpKYkmox0"
      },
      "execution_count": 11,
      "outputs": []
    },
    {
      "cell_type": "code",
      "source": [
        "# Call the function to get the count of duplicated row\n",
        "duplicates_all_cols, duplicates_per_col = count_duplicates(df)"
      ],
      "metadata": {
        "id": "Mt0S3IBV0O_E"
      },
      "execution_count": 12,
      "outputs": []
    },
    {
      "cell_type": "code",
      "source": [
        "# Print the results\n",
        "print(\"Number of duplicate rows (based on all columns):\", duplicates_all_cols)\n",
        "print(\"Number of duplicate values per column:\")\n",
        "print(duplicates_per_col)"
      ],
      "metadata": {
        "colab": {
          "base_uri": "https://localhost:8080/"
        },
        "id": "PEkXpFH_0R7N",
        "outputId": "fa9f1011-d5f9-42b1-8e80-29bb9705af8a"
      },
      "execution_count": 13,
      "outputs": [
        {
          "output_type": "stream",
          "name": "stdout",
          "text": [
            "Number of duplicate rows (based on all columns): 0\n",
            "Number of duplicate values per column:\n",
            "0\n"
          ]
        }
      ]
    },
    {
      "cell_type": "markdown",
      "source": [
        "#### Missing Values/Null Values"
      ],
      "metadata": {
        "id": "PoPl-ycgm1ru"
      }
    },
    {
      "cell_type": "code",
      "source": [
        "# Missing Values/Null Values Count\n",
        "df.isnull().sum()"
      ],
      "metadata": {
        "id": "GgHWkxvamxVg",
        "colab": {
          "base_uri": "https://localhost:8080/"
        },
        "outputId": "89109eec-61b2-4526-85e6-cdee9c54a6d5"
      },
      "execution_count": 14,
      "outputs": [
        {
          "output_type": "execute_result",
          "data": {
            "text/plain": [
              "Date     0\n",
              "Open     0\n",
              "High     0\n",
              "Low      0\n",
              "Close    0\n",
              "dtype: int64"
            ]
          },
          "metadata": {},
          "execution_count": 14
        }
      ]
    },
    {
      "cell_type": "code",
      "source": [
        "# Visualizing the missing values\n",
        "plt.figure(figsize=(10,5))\n",
        "sns.displot(\n",
        "    data=df.isna().melt(value_name=\"missing\"),\n",
        "    y=\"variable\",\n",
        "    hue=\"missing\",\n",
        "    multiple=\"fill\",\n",
        "    aspect=1\n",
        ")\n",
        "plt.show()"
      ],
      "metadata": {
        "id": "3q5wnI3om9sJ",
        "colab": {
          "base_uri": "https://localhost:8080/",
          "height": 386
        },
        "outputId": "bdfc7cf2-1a08-421d-eba3-67ee7d712c98"
      },
      "execution_count": 15,
      "outputs": [
        {
          "output_type": "display_data",
          "data": {
            "text/plain": [
              "<Figure size 720x360 with 0 Axes>"
            ]
          },
          "metadata": {}
        },
        {
          "output_type": "display_data",
          "data": {
            "text/plain": [
              "<Figure size 421.25x360 with 1 Axes>"
            ],
            "image/png": "[encoded data removed]"
          },
          "metadata": {
            "needs_background": "light"
          }
        }
      ]
    },
    {
      "cell_type": "markdown",
      "source": [
        "### What did you know about your dataset?"
      ],
      "metadata": {
        "id": "H0kj-8xxnORC"
      }
    },
    {
      "cell_type": "code",
      "source": [
        "# let's create a custom function to create a dataframe which contain the metadata of the dataset\n",
        "# define a function.\n",
        "def metainfo(given_df):\n",
        "  \n",
        "  # doc string contain a short description about the function useability.\n",
        "  '''This function return the new dataframe called meta_structure, & gives metadata about dataframe.\n",
        "\n",
        "  Parameters:\n",
        "        df (pandas.DataFrame): Input DataFrame.\n",
        "\n",
        "    Returns:\n",
        "        pandas.DataFrame with customized features.\n",
        "  \n",
        "  '''\n",
        "  \n",
        "  # we want each attribute of the dataframe as a row in new datafrme.\n",
        "  meta_structure = pd.DataFrame(index=given_df.columns)\n",
        "\n",
        "  # let's create a six new column which defines our metadata.\n",
        "  meta_structure[\"data_type\"] = given_df.dtypes\n",
        "  meta_structure[\"not_null_values\"] = given_df.count()\n",
        "  meta_structure[\"null_values\"] = given_df.isnull().sum()\n",
        "  meta_structure[\"null_values_percentage\"] = round(given_df.isnull().mean(),5) * 100\n",
        "  meta_structure[\"unique_count\"] = given_df.nunique()\n",
        "  meta_structure[\"duplicated_count\"] = given_df.shape[0] - given_df.nunique()\n",
        "\n",
        "  # just return the created structure.\n",
        "  return meta_structure"
      ],
      "metadata": {
        "id": "FFFy1hUsLqRi"
      },
      "execution_count": 16,
      "outputs": []
    },
    {
      "cell_type": "code",
      "source": [
        "# function calling.\n",
        "metainfo_df = metainfo(df)\n",
        "\n",
        "# let's print the meta_df\n",
        "metainfo_df"
      ],
      "metadata": {
        "colab": {
          "base_uri": "https://localhost:8080/",
          "height": 206
        },
        "id": "20oCN-uAMAlr",
        "outputId": "82e8d9b0-2b33-4091-ad6a-59ecf75110a0"
      },
      "execution_count": 17,
      "outputs": [
        {
          "output_type": "execute_result",
          "data": {
            "text/plain": [
              "      data_type  not_null_values  null_values  null_values_percentage  \\\n",
              "Date     object              185            0                     0.0   \n",
              "Open    float64              185            0                     0.0   \n",
              "High    float64              185            0                     0.0   \n",
              "Low     float64              185            0                     0.0   \n",
              "Close   float64              185            0                     0.0   \n",
              "\n",
              "       unique_count  duplicated_count  \n",
              "Date            185                 0  \n",
              "Open            183                 2  \n",
              "High            184                 1  \n",
              "Low             183                 2  \n",
              "Close           185                 0  "
            ],
            "text/html": [
              "\n",
              "  <div id=\"df-0b9cd17f-b5f6-42ea-bdff-91323821658a\">\n",
              "    <div class=\"colab-df-container\">\n",
              "      <div>\n",
              "<style scoped>\n",
              "    .dataframe tbody tr th:only-of-type {\n",
              "        vertical-align: middle;\n",
              "    }\n",
              "\n",
              "    .dataframe tbody tr th {\n",
              "        vertical-align: top;\n",
              "    }\n",
              "\n",
              "    .dataframe thead th {\n",
              "        text-align: right;\n",
              "    }\n",
              "</style>\n",
              "<table border=\"1\" class=\"dataframe\">\n",
              "  <thead>\n",
              "    <tr style=\"text-align: right;\">\n",
              "      <th></th>\n",
              "      <th>data_type</th>\n",
              "      <th>not_null_values</th>\n",
              "      <th>null_values</th>\n",
              "      <th>null_values_percentage</th>\n",
              "      <th>unique_count</th>\n",
              "      <th>duplicated_count</th>\n",
              "    </tr>\n",
              "  </thead>\n",
              "  <tbody>\n",
              "    <tr>\n",
              "      <th>Date</th>\n",
              "      <td>object</td>\n",
              "      <td>185</td>\n",
              "      <td>0</td>\n",
              "      <td>0.0</td>\n",
              "      <td>185</td>\n",
              "      <td>0</td>\n",
              "    </tr>\n",
              "    <tr>\n",
              "      <th>Open</th>\n",
              "      <td>float64</td>\n",
              "      <td>185</td>\n",
              "      <td>0</td>\n",
              "      <td>0.0</td>\n",
              "      <td>183</td>\n",
              "      <td>2</td>\n",
              "    </tr>\n",
              "    <tr>\n",
              "      <th>High</th>\n",
              "      <td>float64</td>\n",
              "      <td>185</td>\n",
              "      <td>0</td>\n",
              "      <td>0.0</td>\n",
              "      <td>184</td>\n",
              "      <td>1</td>\n",
              "    </tr>\n",
              "    <tr>\n",
              "      <th>Low</th>\n",
              "      <td>float64</td>\n",
              "      <td>185</td>\n",
              "      <td>0</td>\n",
              "      <td>0.0</td>\n",
              "      <td>183</td>\n",
              "      <td>2</td>\n",
              "    </tr>\n",
              "    <tr>\n",
              "      <th>Close</th>\n",
              "      <td>float64</td>\n",
              "      <td>185</td>\n",
              "      <td>0</td>\n",
              "      <td>0.0</td>\n",
              "      <td>185</td>\n",
              "      <td>0</td>\n",
              "    </tr>\n",
              "  </tbody>\n",
              "</table>\n",
              "</div>\n",
              "      <button class=\"colab-df-convert\" onclick=\"convertToInteractive('df-0b9cd17f-b5f6-42ea-bdff-91323821658a')\"\n",
              "              title=\"Convert this dataframe to an interactive table.\"\n",
              "              style=\"display:none;\">\n",
              "        \n",
              "  <svg xmlns=\"http://www.w3.org/2000/svg\" height=\"24px\"viewBox=\"0 0 24 24\"\n",
              "       width=\"24px\">\n",
              "    <path d=\"M0 0h24v24H0V0z\" fill=\"none\"/>\n",
              "    <path d=\"M18.56 5.44l.94 2.06.94-2.06 2.06-.94-2.06-.94-.94-2.06-.94 2.06-2.06.94zm-11 1L8.5 8.5l.94-2.06 2.06-.94-2.06-.94L8.5 2.5l-.94 2.06-2.06.94zm10 10l.94 2.06.94-2.06 2.06-.94-2.06-.94-.94-2.06-.94 2.06-2.06.94z\"/><path d=\"M17.41 7.96l-1.37-1.37c-.4-.4-.92-.59-1.43-.59-.52 0-1.04.2-1.43.59L10.3 9.45l-7.72 7.72c-.78.78-.78 2.05 0 2.83L4 21.41c.39.39.9.59 1.41.59.51 0 1.02-.2 1.41-.59l7.78-7.78 2.81-2.81c.8-.78.8-2.07 0-2.86zM5.41 20L4 18.59l7.72-7.72 1.47 1.35L5.41 20z\"/>\n",
              "  </svg>\n",
              "      </button>\n",
              "      \n",
              "  <style>\n",
              "    .colab-df-container {\n",
              "      display:flex;\n",
              "      flex-wrap:wrap;\n",
              "      gap: 12px;\n",
              "    }\n",
              "\n",
              "    .colab-df-convert {\n",
              "      background-color: #E8F0FE;\n",
              "      border: none;\n",
              "      border-radius: 50%;\n",
              "      cursor: pointer;\n",
              "      display: none;\n",
              "      fill: #1967D2;\n",
              "      height: 32px;\n",
              "      padding: 0 0 0 0;\n",
              "      width: 32px;\n",
              "    }\n",
              "\n",
              "    .colab-df-convert:hover {\n",
              "      background-color: #E2EBFA;\n",
              "      box-shadow: 0px 1px 2px rgba(60, 64, 67, 0.3), 0px 1px 3px 1px rgba(60, 64, 67, 0.15);\n",
              "      fill: #174EA6;\n",
              "    }\n",
              "\n",
              "    [theme=dark] .colab-df-convert {\n",
              "      background-color: #3B4455;\n",
              "      fill: #D2E3FC;\n",
              "    }\n",
              "\n",
              "    [theme=dark] .colab-df-convert:hover {\n",
              "      background-color: #434B5C;\n",
              "      box-shadow: 0px 1px 3px 1px rgba(0, 0, 0, 0.15);\n",
              "      filter: drop-shadow(0px 1px 2px rgba(0, 0, 0, 0.3));\n",
              "      fill: #FFFFFF;\n",
              "    }\n",
              "  </style>\n",
              "\n",
              "      <script>\n",
              "        const buttonEl =\n",
              "          document.querySelector('#df-0b9cd17f-b5f6-42ea-bdff-91323821658a button.colab-df-convert');\n",
              "        buttonEl.style.display =\n",
              "          google.colab.kernel.accessAllowed ? 'block' : 'none';\n",
              "\n",
              "        async function convertToInteractive(key) {\n",
              "          const element = document.querySelector('#df-0b9cd17f-b5f6-42ea-bdff-91323821658a');\n",
              "          const dataTable =\n",
              "            await google.colab.kernel.invokeFunction('convertToInteractive',\n",
              "                                                     [key], {});\n",
              "          if (!dataTable) return;\n",
              "\n",
              "          const docLinkHtml = 'Like what you see? Visit the ' +\n",
              "            '<a target=\"_blank\" href=https://colab.research.google.com/notebooks/data_table.ipynb>data table notebook</a>'\n",
              "            + ' to learn more about interactive tables.';\n",
              "          element.innerHTML = '';\n",
              "          dataTable['output_type'] = 'display_data';\n",
              "          await google.colab.output.renderOutput(dataTable, element);\n",
              "          const docLink = document.createElement('div');\n",
              "          docLink.innerHTML = docLinkHtml;\n",
              "          element.appendChild(docLink);\n",
              "        }\n",
              "      </script>\n",
              "    </div>\n",
              "  </div>\n",
              "  "
            ]
          },
          "metadata": {},
          "execution_count": 17
        }
      ]
    },
    {
      "cell_type": "markdown",
      "source": [
        "####⚓<b> From the Initial inspection of the dataset we gather the following points :</b>\n",
        "\n",
        "\n",
        "\n",
        "####1.   The Dataset having 185 observations.\n",
        "####2.   These 185 observation has 5 features those features are :\n",
        "\n",
        ">><b>Date<br>\n",
        ">><b>Open<br>\n",
        ">><b>High<br>\n",
        ">><b>Low<br>\n",
        ">><b>Close<br>\n",
        "\n",
        "####3.   One single observation tell us how the stock of the Yes Bank performed over the month.\n",
        "####4.   The data set don't have Null/Missing values.\n",
        "####5.   The data set also don't contain the duplicated records\n",
        "\n",
        "\n",
        "\n",
        "</b>"
      ],
      "metadata": {
        "id": "gfoNAAC-nUe_"
      }
    },
    {
      "cell_type": "markdown",
      "source": [
        "## ***2. Understanding Your Variables***\n",
        "<hr>"
      ],
      "metadata": {
        "id": "nA9Y7ga8ng1Z"
      }
    },
    {
      "cell_type": "code",
      "source": [
        "# Dataset Columns\n",
        "df_features = list(df.columns)\n",
        "\n",
        "df_features"
      ],
      "metadata": {
        "id": "j7xfkqrt5Ag5",
        "colab": {
          "base_uri": "https://localhost:8080/"
        },
        "outputId": "4f5dcade-a1c1-4962-967c-9cca861b3fb4"
      },
      "execution_count": 18,
      "outputs": [
        {
          "output_type": "execute_result",
          "data": {
            "text/plain": [
              "['Date', 'Open', 'High', 'Low', 'Close']"
            ]
          },
          "metadata": {},
          "execution_count": 18
        }
      ]
    },
    {
      "cell_type": "code",
      "source": [
        "# Dataset Describe\n",
        "df.describe(include='all')"
      ],
      "metadata": {
        "id": "DnOaZdaE5Q5t",
        "colab": {
          "base_uri": "https://localhost:8080/",
          "height": 394
        },
        "outputId": "453d5702-8706-408c-ceab-7d6b55ebae24"
      },
      "execution_count": 19,
      "outputs": [
        {
          "output_type": "execute_result",
          "data": {
            "text/plain": [
              "          Date        Open        High         Low       Close\n",
              "count      185  185.000000  185.000000  185.000000  185.000000\n",
              "unique     185         NaN         NaN         NaN         NaN\n",
              "top     Jul-05         NaN         NaN         NaN         NaN\n",
              "freq         1         NaN         NaN         NaN         NaN\n",
              "mean       NaN  105.541405  116.104324   94.947838  105.204703\n",
              "std        NaN   98.879850  106.333497   91.219415   98.583153\n",
              "min        NaN   10.000000   11.240000    5.550000    9.980000\n",
              "25%        NaN   33.800000   36.140000   28.510000   33.450000\n",
              "50%        NaN   62.980000   72.550000   58.000000   62.540000\n",
              "75%        NaN  153.000000  169.190000  138.350000  153.300000\n",
              "max        NaN  369.950000  404.000000  345.500000  367.900000"
            ],
            "text/html": [
              "\n",
              "  <div id=\"df-db94323e-5592-4fd2-9068-c43d8a41868c\">\n",
              "    <div class=\"colab-df-container\">\n",
              "      <div>\n",
              "<style scoped>\n",
              "    .dataframe tbody tr th:only-of-type {\n",
              "        vertical-align: middle;\n",
              "    }\n",
              "\n",
              "    .dataframe tbody tr th {\n",
              "        vertical-align: top;\n",
              "    }\n",
              "\n",
              "    .dataframe thead th {\n",
              "        text-align: right;\n",
              "    }\n",
              "</style>\n",
              "<table border=\"1\" class=\"dataframe\">\n",
              "  <thead>\n",
              "    <tr style=\"text-align: right;\">\n",
              "      <th></th>\n",
              "      <th>Date</th>\n",
              "      <th>Open</th>\n",
              "      <th>High</th>\n",
              "      <th>Low</th>\n",
              "      <th>Close</th>\n",
              "    </tr>\n",
              "  </thead>\n",
              "  <tbody>\n",
              "    <tr>\n",
              "      <th>count</th>\n",
              "      <td>185</td>\n",
              "      <td>185.000000</td>\n",
              "      <td>185.000000</td>\n",
              "      <td>185.000000</td>\n",
              "      <td>185.000000</td>\n",
              "    </tr>\n",
              "    <tr>\n",
              "      <th>unique</th>\n",
              "      <td>185</td>\n",
              "      <td>NaN</td>\n",
              "      <td>NaN</td>\n",
              "      <td>NaN</td>\n",
              "      <td>NaN</td>\n",
              "    </tr>\n",
              "    <tr>\n",
              "      <th>top</th>\n",
              "      <td>Jul-05</td>\n",
              "      <td>NaN</td>\n",
              "      <td>NaN</td>\n",
              "      <td>NaN</td>\n",
              "      <td>NaN</td>\n",
              "    </tr>\n",
              "    <tr>\n",
              "      <th>freq</th>\n",
              "      <td>1</td>\n",
              "      <td>NaN</td>\n",
              "      <td>NaN</td>\n",
              "      <td>NaN</td>\n",
              "      <td>NaN</td>\n",
              "    </tr>\n",
              "    <tr>\n",
              "      <th>mean</th>\n",
              "      <td>NaN</td>\n",
              "      <td>105.541405</td>\n",
              "      <td>116.104324</td>\n",
              "      <td>94.947838</td>\n",
              "      <td>105.204703</td>\n",
              "    </tr>\n",
              "    <tr>\n",
              "      <th>std</th>\n",
              "      <td>NaN</td>\n",
              "      <td>98.879850</td>\n",
              "      <td>106.333497</td>\n",
              "      <td>91.219415</td>\n",
              "      <td>98.583153</td>\n",
              "    </tr>\n",
              "    <tr>\n",
              "      <th>min</th>\n",
              "      <td>NaN</td>\n",
              "      <td>10.000000</td>\n",
              "      <td>11.240000</td>\n",
              "      <td>5.550000</td>\n",
              "      <td>9.980000</td>\n",
              "    </tr>\n",
              "    <tr>\n",
              "      <th>25%</th>\n",
              "      <td>NaN</td>\n",
              "      <td>33.800000</td>\n",
              "      <td>36.140000</td>\n",
              "      <td>28.510000</td>\n",
              "      <td>33.450000</td>\n",
              "    </tr>\n",
              "    <tr>\n",
              "      <th>50%</th>\n",
              "      <td>NaN</td>\n",
              "      <td>62.980000</td>\n",
              "      <td>72.550000</td>\n",
              "      <td>58.000000</td>\n",
              "      <td>62.540000</td>\n",
              "    </tr>\n",
              "    <tr>\n",
              "      <th>75%</th>\n",
              "      <td>NaN</td>\n",
              "      <td>153.000000</td>\n",
              "      <td>169.190000</td>\n",
              "      <td>138.350000</td>\n",
              "      <td>153.300000</td>\n",
              "    </tr>\n",
              "    <tr>\n",
              "      <th>max</th>\n",
              "      <td>NaN</td>\n",
              "      <td>369.950000</td>\n",
              "      <td>404.000000</td>\n",
              "      <td>345.500000</td>\n",
              "      <td>367.900000</td>\n",
              "    </tr>\n",
              "  </tbody>\n",
              "</table>\n",
              "</div>\n",
              "      <button class=\"colab-df-convert\" onclick=\"convertToInteractive('df-db94323e-5592-4fd2-9068-c43d8a41868c')\"\n",
              "              title=\"Convert this dataframe to an interactive table.\"\n",
              "              style=\"display:none;\">\n",
              "        \n",
              "  <svg xmlns=\"http://www.w3.org/2000/svg\" height=\"24px\"viewBox=\"0 0 24 24\"\n",
              "       width=\"24px\">\n",
              "    <path d=\"M0 0h24v24H0V0z\" fill=\"none\"/>\n",
              "    <path d=\"M18.56 5.44l.94 2.06.94-2.06 2.06-.94-2.06-.94-.94-2.06-.94 2.06-2.06.94zm-11 1L8.5 8.5l.94-2.06 2.06-.94-2.06-.94L8.5 2.5l-.94 2.06-2.06.94zm10 10l.94 2.06.94-2.06 2.06-.94-2.06-.94-.94-2.06-.94 2.06-2.06.94z\"/><path d=\"M17.41 7.96l-1.37-1.37c-.4-.4-.92-.59-1.43-.59-.52 0-1.04.2-1.43.59L10.3 9.45l-7.72 7.72c-.78.78-.78 2.05 0 2.83L4 21.41c.39.39.9.59 1.41.59.51 0 1.02-.2 1.41-.59l7.78-7.78 2.81-2.81c.8-.78.8-2.07 0-2.86zM5.41 20L4 18.59l7.72-7.72 1.47 1.35L5.41 20z\"/>\n",
              "  </svg>\n",
              "      </button>\n",
              "      \n",
              "  <style>\n",
              "    .colab-df-container {\n",
              "      display:flex;\n",
              "      flex-wrap:wrap;\n",
              "      gap: 12px;\n",
              "    }\n",
              "\n",
              "    .colab-df-convert {\n",
              "      background-color: #E8F0FE;\n",
              "      border: none;\n",
              "      border-radius: 50%;\n",
              "      cursor: pointer;\n",
              "      display: none;\n",
              "      fill: #1967D2;\n",
              "      height: 32px;\n",
              "      padding: 0 0 0 0;\n",
              "      width: 32px;\n",
              "    }\n",
              "\n",
              "    .colab-df-convert:hover {\n",
              "      background-color: #E2EBFA;\n",
              "      box-shadow: 0px 1px 2px rgba(60, 64, 67, 0.3), 0px 1px 3px 1px rgba(60, 64, 67, 0.15);\n",
              "      fill: #174EA6;\n",
              "    }\n",
              "\n",
              "    [theme=dark] .colab-df-convert {\n",
              "      background-color: #3B4455;\n",
              "      fill: #D2E3FC;\n",
              "    }\n",
              "\n",
              "    [theme=dark] .colab-df-convert:hover {\n",
              "      background-color: #434B5C;\n",
              "      box-shadow: 0px 1px 3px 1px rgba(0, 0, 0, 0.15);\n",
              "      filter: drop-shadow(0px 1px 2px rgba(0, 0, 0, 0.3));\n",
              "      fill: #FFFFFF;\n",
              "    }\n",
              "  </style>\n",
              "\n",
              "      <script>\n",
              "        const buttonEl =\n",
              "          document.querySelector('#df-db94323e-5592-4fd2-9068-c43d8a41868c button.colab-df-convert');\n",
              "        buttonEl.style.display =\n",
              "          google.colab.kernel.accessAllowed ? 'block' : 'none';\n",
              "\n",
              "        async function convertToInteractive(key) {\n",
              "          const element = document.querySelector('#df-db94323e-5592-4fd2-9068-c43d8a41868c');\n",
              "          const dataTable =\n",
              "            await google.colab.kernel.invokeFunction('convertToInteractive',\n",
              "                                                     [key], {});\n",
              "          if (!dataTable) return;\n",
              "\n",
              "          const docLinkHtml = 'Like what you see? Visit the ' +\n",
              "            '<a target=\"_blank\" href=https://colab.research.google.com/notebooks/data_table.ipynb>data table notebook</a>'\n",
              "            + ' to learn more about interactive tables.';\n",
              "          element.innerHTML = '';\n",
              "          dataTable['output_type'] = 'display_data';\n",
              "          await google.colab.output.renderOutput(dataTable, element);\n",
              "          const docLink = document.createElement('div');\n",
              "          docLink.innerHTML = docLinkHtml;\n",
              "          element.appendChild(docLink);\n",
              "        }\n",
              "      </script>\n",
              "    </div>\n",
              "  </div>\n",
              "  "
            ]
          },
          "metadata": {},
          "execution_count": 19
        }
      ]
    },
    {
      "cell_type": "markdown",
      "source": [
        "### Variables Description "
      ],
      "metadata": {
        "id": "PBTbrJXOngz2"
      }
    },
    {
      "cell_type": "markdown",
      "source": [
        "#### The `Yes Bank Stock Closing Price`dataset consist of the following 5 features\n",
        "\n",
        "> <b>Date: </b> The Date feature is the collection of date values, when the values of attributes are observed.\n",
        "\n",
        "> <b>Open:</b> The opening price is the price at which a stock first trades upon the opening of an exchange on a trading day.\n",
        "\n",
        "> <b>High:</b> It is the highest price of the stock in the treading day.\n",
        "\n",
        "> <b>Low:</b> It is the lowest price of the stock in the teading day.\n",
        "\n",
        "> <b>Close:</b> The closing price is a stock's trading price at the end of a trading day. The closing price is calculated as the weighted average price of the last 30 minutes, i.e. from 3:00 PM to 3:30 PM in case of equity.\n",
        "\n",
        "#### <b>Q. Why opening price of the stock is not same as closing price?</b>\n",
        "\n",
        "#### As we know that the closing price of the stock is simply the weighted average price of the last 30 minutes, and can be calculated as :\n",
        "\n",
        "#### <center>$Closing Price = {Total Treaded Value}÷{TotalVolume}$\n",
        "<br>\n",
        "\n",
        "#### Also, The opening price is the price at which a stock first trades upon the opening of an exchange on a trading day. For equities, the normal market timing is from 9.15 am to 3.30 pm. But, the exchange starts collecting orders from people at 9.00 am till 9.08 am called as pre-market window, during this time, they collect the orders from the public and during the next 7 minutes before markets open, they match these orders to decide at what price the stock will open for the day at 9:15.\n",
        "\n",
        "####So as you can see from the above explanation, there's a pre-market window with which the opening price is calculated, where depending upon the demand and supply of a stock, the opening price may be different from its previous day closing price.\n",
        "\n",
        "####In the hours between the closing price and the next trading day's opening price, several factors can affect the price of a particular stock. Some of the factors are :\n",
        "\n",
        "> After Market Order (AMO)\n",
        "\n",
        "> News About a Company."
      ],
      "metadata": {
        "id": "aJV4KIxSnxay"
      }
    },
    {
      "cell_type": "markdown",
      "source": [
        "### Check Unique Values for each variable."
      ],
      "metadata": {
        "id": "u3PMJOP6ngxN"
      }
    },
    {
      "cell_type": "code",
      "source": [
        "# Check Unique Values for each variable.\n",
        "# Checking the no of unique value in the Date feature\n",
        "no_uq_values_date = df['Date'].nunique()\n",
        "\n",
        "print(f'The total number of unique values present in date feature is:', no_uq_values_date)"
      ],
      "metadata": {
        "id": "zms12Yq5n-jE",
        "colab": {
          "base_uri": "https://localhost:8080/"
        },
        "outputId": "0c8c9b30-f8ca-4025-8fb3-d7b9502f3ebe"
      },
      "execution_count": 20,
      "outputs": [
        {
          "output_type": "stream",
          "name": "stdout",
          "text": [
            "The total number of unique values present in date feature is: 185\n"
          ]
        }
      ]
    },
    {
      "cell_type": "code",
      "source": [
        "# Checking the no of unique value in the open feature\n",
        "no_uq_values_open = df['Open'].nunique()\n",
        "\n",
        "print(f'The total number of unique values present in open feature is:', no_uq_values_open)"
      ],
      "metadata": {
        "colab": {
          "base_uri": "https://localhost:8080/"
        },
        "id": "8TvxqMKe_SAm",
        "outputId": "87c4c857-31ed-40ff-a089-daeb1fce3e1b"
      },
      "execution_count": 21,
      "outputs": [
        {
          "output_type": "stream",
          "name": "stdout",
          "text": [
            "The total number of unique values present in open feature is: 183\n"
          ]
        }
      ]
    },
    {
      "cell_type": "code",
      "source": [
        "# Let's see which values are duplicated\n",
        "df['Open'].value_counts()"
      ],
      "metadata": {
        "colab": {
          "base_uri": "https://localhost:8080/"
        },
        "id": "RTDHz_w4R4K-",
        "outputId": "6f3711c4-6a73-4601-88ec-2dafb5bc28d4"
      },
      "execution_count": 22,
      "outputs": [
        {
          "output_type": "execute_result",
          "data": {
            "text/plain": [
              "25.60     2\n",
              "89.20     2\n",
              "150.40    1\n",
              "170.00    1\n",
              "177.00    1\n",
              "         ..\n",
              "70.90     1\n",
              "72.20     1\n",
              "61.80     1\n",
              "62.98     1\n",
              "12.41     1\n",
              "Name: Open, Length: 183, dtype: int64"
            ]
          },
          "metadata": {},
          "execution_count": 22
        }
      ]
    },
    {
      "cell_type": "code",
      "source": [
        "# Fetching the Index corresponding to the value 25.60\n",
        "duplicate_25_60 = np.where(df['Open'] == 25.60)\n",
        "\n",
        "# Fetching the Index corresponding to the value 89.20\n",
        "duplicate_89_20 = np.where(df['Open'] == 89.20)\n",
        "\n",
        "# Print the statement\n",
        "print(f'The Index of duplicated value 25.60:', duplicate_25_60)\n",
        "\n",
        "# Print the statement\n",
        "print(f'The Index of duplicated value 89.20:', duplicate_89_20)"
      ],
      "metadata": {
        "colab": {
          "base_uri": "https://localhost:8080/"
        },
        "id": "E3Z-cma2SIM2",
        "outputId": "ed962117-83c9-4ded-fcb7-c099b192eef5"
      },
      "execution_count": 23,
      "outputs": [
        {
          "output_type": "stream",
          "name": "stdout",
          "text": [
            "The Index of duplicated value 25.60: (array([ 47, 180]),)\n",
            "The Index of duplicated value 89.20: (array([ 89, 169]),)\n"
          ]
        }
      ]
    },
    {
      "cell_type": "code",
      "source": [
        "# Fetching the correcsponding record\n",
        "df.iloc[47]"
      ],
      "metadata": {
        "colab": {
          "base_uri": "https://localhost:8080/"
        },
        "id": "sFu-khBmSsNT",
        "outputId": "5fe70a68-5c72-4842-915c-cda6751d22ab"
      },
      "execution_count": 24,
      "outputs": [
        {
          "output_type": "execute_result",
          "data": {
            "text/plain": [
              "Date     Jun-09\n",
              "Open       25.6\n",
              "High      31.08\n",
              "Low        23.0\n",
              "Close     29.68\n",
              "Name: 47, dtype: object"
            ]
          },
          "metadata": {},
          "execution_count": 24
        }
      ]
    },
    {
      "cell_type": "code",
      "source": [
        "# Fetching the correcsponding record\n",
        "df.iloc[180]"
      ],
      "metadata": {
        "colab": {
          "base_uri": "https://localhost:8080/"
        },
        "id": "f9So8Jg4SsEy",
        "outputId": "a5226c35-d793-4297-b528-998a1cf1a83d"
      },
      "execution_count": 25,
      "outputs": [
        {
          "output_type": "execute_result",
          "data": {
            "text/plain": [
              "Date     Jul-20\n",
              "Open       25.6\n",
              "High       28.3\n",
              "Low        11.1\n",
              "Close     11.95\n",
              "Name: 180, dtype: object"
            ]
          },
          "metadata": {},
          "execution_count": 25
        }
      ]
    },
    {
      "cell_type": "code",
      "source": [
        "# Fetching the correcsponding record\n",
        "df.iloc[89]"
      ],
      "metadata": {
        "colab": {
          "base_uri": "https://localhost:8080/"
        },
        "id": "M2pMZHKSSr71",
        "outputId": "0edc4d9c-e853-4c04-c91a-352fadb5ff0d"
      },
      "execution_count": 26,
      "outputs": [
        {
          "output_type": "execute_result",
          "data": {
            "text/plain": [
              "Date     Dec-12\n",
              "Open       89.2\n",
              "High       95.0\n",
              "Low       88.01\n",
              "Close     92.84\n",
              "Name: 89, dtype: object"
            ]
          },
          "metadata": {},
          "execution_count": 26
        }
      ]
    },
    {
      "cell_type": "code",
      "source": [
        "# Fetching the correcsponding record\n",
        "df.iloc[169]"
      ],
      "metadata": {
        "colab": {
          "base_uri": "https://localhost:8080/"
        },
        "id": "XKVfk0QxSrzu",
        "outputId": "9b81f610-ff2e-4621-b303-a97aed5b74e1"
      },
      "execution_count": 27,
      "outputs": [
        {
          "output_type": "execute_result",
          "data": {
            "text/plain": [
              "Date     Aug-19\n",
              "Open       89.2\n",
              "High       92.4\n",
              "Low       53.15\n",
              "Close      59.5\n",
              "Name: 169, dtype: object"
            ]
          },
          "metadata": {},
          "execution_count": 27
        }
      ]
    },
    {
      "cell_type": "markdown",
      "source": [
        "<b>As from the above it's clear that there is no duplicated record and all observation corresponding to the given feature are unique.</b>"
      ],
      "metadata": {
        "id": "0ipCIcnt2VK-"
      }
    },
    {
      "cell_type": "code",
      "source": [
        "# Checking the no of unique value in the high feature\n",
        "no_uq_values_high = df['High'].nunique()\n",
        "\n",
        "print(f'The total number of unique values present in high feature is:', no_uq_values_high)"
      ],
      "metadata": {
        "colab": {
          "base_uri": "https://localhost:8080/"
        },
        "id": "S3775ERm_Ry5",
        "outputId": "7a5a0a2b-15c7-477c-dfce-dd95ed141eb1"
      },
      "execution_count": 28,
      "outputs": [
        {
          "output_type": "stream",
          "name": "stdout",
          "text": [
            "The total number of unique values present in high feature is: 184\n"
          ]
        }
      ]
    },
    {
      "cell_type": "code",
      "source": [
        "# Let's see which values are duplicated\n",
        "df['High'].value_counts()"
      ],
      "metadata": {
        "colab": {
          "base_uri": "https://localhost:8080/"
        },
        "id": "4eufNl-LTeqV",
        "outputId": "da9c4b9b-f282-40f0-b75e-9c8a47a0fd6e"
      },
      "execution_count": 29,
      "outputs": [
        {
          "output_type": "execute_result",
          "data": {
            "text/plain": [
              "17.16     2\n",
              "14.00     1\n",
              "157.85    1\n",
              "176.96    1\n",
              "179.40    1\n",
              "         ..\n",
              "77.60     1\n",
              "68.36     1\n",
              "63.54     1\n",
              "57.69     1\n",
              "14.90     1\n",
              "Name: High, Length: 184, dtype: int64"
            ]
          },
          "metadata": {},
          "execution_count": 29
        }
      ]
    },
    {
      "cell_type": "code",
      "source": [
        "# Fetching the Index corresponding to the value 17.16\n",
        "duplicate_17_16 = np.where(df['High'] == 17.16)\n",
        "\n",
        "# Print statement\n",
        "print(f'The Index of duplicated value 1716:', duplicate_17_16)"
      ],
      "metadata": {
        "colab": {
          "base_uri": "https://localhost:8080/"
        },
        "id": "lsOeR6SqT0P2",
        "outputId": "319772d3-444b-400e-9abd-a1ce2282eb77"
      },
      "execution_count": 30,
      "outputs": [
        {
          "output_type": "stream",
          "name": "stdout",
          "text": [
            "The Index of duplicated value 1716: (array([  6, 181]),)\n"
          ]
        }
      ]
    },
    {
      "cell_type": "code",
      "source": [
        "# Fetching the correcsponding record\n",
        "df.iloc[6]"
      ],
      "metadata": {
        "colab": {
          "base_uri": "https://localhost:8080/"
        },
        "id": "wEJdzr6uUT-P",
        "outputId": "6f1aeb25-6945-4f7f-eb3b-c9e839141024"
      },
      "execution_count": 31,
      "outputs": [
        {
          "output_type": "execute_result",
          "data": {
            "text/plain": [
              "Date     Jan-06\n",
              "Open      13.68\n",
              "High      17.16\n",
              "Low       13.58\n",
              "Close     15.33\n",
              "Name: 6, dtype: object"
            ]
          },
          "metadata": {},
          "execution_count": 31
        }
      ]
    },
    {
      "cell_type": "code",
      "source": [
        "# Fetching the correcsponding record\n",
        "df.iloc[18]"
      ],
      "metadata": {
        "colab": {
          "base_uri": "https://localhost:8080/"
        },
        "id": "XLj3mZ0pUT3A",
        "outputId": "da3aa34c-4979-44cd-da0f-b86bf9c1a632"
      },
      "execution_count": 32,
      "outputs": [
        {
          "output_type": "execute_result",
          "data": {
            "text/plain": [
              "Date     Jan-07\n",
              "Open       27.4\n",
              "High      34.16\n",
              "Low        27.0\n",
              "Close     30.16\n",
              "Name: 18, dtype: object"
            ]
          },
          "metadata": {},
          "execution_count": 32
        }
      ]
    },
    {
      "cell_type": "code",
      "source": [
        "# Checking the no of unique value in the low feature\n",
        "no_uq_values_low = df['Low'].nunique()\n",
        "\n",
        "print(f'The total number of unique values present in low feature is:', no_uq_values_low)"
      ],
      "metadata": {
        "colab": {
          "base_uri": "https://localhost:8080/"
        },
        "id": "x_qf_wnL_RqX",
        "outputId": "7a88368f-372b-4a52-b0e5-6ad558b96fee"
      },
      "execution_count": 33,
      "outputs": [
        {
          "output_type": "stream",
          "name": "stdout",
          "text": [
            "The total number of unique values present in low feature is: 183\n"
          ]
        }
      ]
    },
    {
      "cell_type": "code",
      "source": [
        "# Let's see which values are duplicated\n",
        "df['Low'].value_counts()"
      ],
      "metadata": {
        "colab": {
          "base_uri": "https://localhost:8080/"
        },
        "id": "SBO92FyqP3Wf",
        "outputId": "4df67240-2069-4013-d4c9-a6492689554b"
      },
      "execution_count": 34,
      "outputs": [
        {
          "output_type": "execute_result",
          "data": {
            "text/plain": [
              "11.25     2\n",
              "33.60     2\n",
              "126.45    1\n",
              "157.80    1\n",
              "158.90    1\n",
              "         ..\n",
              "58.00     1\n",
              "55.44     1\n",
              "49.39     1\n",
              "46.71     1\n",
              "12.21     1\n",
              "Name: Low, Length: 183, dtype: int64"
            ]
          },
          "metadata": {},
          "execution_count": 34
        }
      ]
    },
    {
      "cell_type": "code",
      "source": [
        "# Fetching the Index corresponding to the value 11.25\n",
        "duplicate_11_25 = np.where(df['Low'] == 11.25)\n",
        "\n",
        "# Fetching the Index corresponding to the value 33.60\n",
        "duplicate_33_60 = np.where(df['Low'] == 33.60)\n",
        "\n",
        "# Print statement\n",
        "print(f'The Index of duplicated value 11.25:', duplicate_11_25)\n",
        "\n",
        "# Print statement\n",
        "print(f'The Index of duplicated value 33.60:', duplicate_33_60)"
      ],
      "metadata": {
        "colab": {
          "base_uri": "https://localhost:8080/"
        },
        "id": "lPuOXIRHP3MP",
        "outputId": "e9aee467-750e-4b22-db9c-6875e46161b4"
      },
      "execution_count": 35,
      "outputs": [
        {
          "output_type": "stream",
          "name": "stdout",
          "text": [
            "The Index of duplicated value 11.25: (array([ 0, 40]),)\n",
            "The Index of duplicated value 33.60: (array([ 27, 175]),)\n"
          ]
        }
      ]
    },
    {
      "cell_type": "code",
      "source": [
        "# Fetching the correcsponding record\n",
        "df.iloc[0]"
      ],
      "metadata": {
        "colab": {
          "base_uri": "https://localhost:8080/"
        },
        "id": "r7ltxEy8P3Ea",
        "outputId": "8be3a040-6194-4691-83f9-09dc4e3e4c34"
      },
      "execution_count": 36,
      "outputs": [
        {
          "output_type": "execute_result",
          "data": {
            "text/plain": [
              "Date     Jul-05\n",
              "Open       13.0\n",
              "High       14.0\n",
              "Low       11.25\n",
              "Close     12.46\n",
              "Name: 0, dtype: object"
            ]
          },
          "metadata": {},
          "execution_count": 36
        }
      ]
    },
    {
      "cell_type": "code",
      "source": [
        "# Fetching the correcsponding record\n",
        "df.iloc[40]"
      ],
      "metadata": {
        "colab": {
          "base_uri": "https://localhost:8080/"
        },
        "id": "XZb_PqycP29D",
        "outputId": "7c0f7553-fd6b-4eb3-c9e2-a27a0ec08b08"
      },
      "execution_count": 37,
      "outputs": [
        {
          "output_type": "execute_result",
          "data": {
            "text/plain": [
              "Date     Nov-08\n",
              "Open      14.79\n",
              "High       17.8\n",
              "Low       11.25\n",
              "Close     12.26\n",
              "Name: 40, dtype: object"
            ]
          },
          "metadata": {},
          "execution_count": 37
        }
      ]
    },
    {
      "cell_type": "code",
      "source": [
        "# Fetching the correcsponding record\n",
        "df.iloc[27]"
      ],
      "metadata": {
        "colab": {
          "base_uri": "https://localhost:8080/"
        },
        "id": "EF9WB7b7Q7hW",
        "outputId": "30683179-bb68-4db3-81f6-a3d15fbfa5ad"
      },
      "execution_count": 38,
      "outputs": [
        {
          "output_type": "execute_result",
          "data": {
            "text/plain": [
              "Date     Oct-07\n",
              "Open       41.8\n",
              "High       47.3\n",
              "Low        33.6\n",
              "Close     43.48\n",
              "Name: 27, dtype: object"
            ]
          },
          "metadata": {},
          "execution_count": 38
        }
      ]
    },
    {
      "cell_type": "code",
      "source": [
        "# Fetching the correcsponding record\n",
        "df.iloc[175]"
      ],
      "metadata": {
        "colab": {
          "base_uri": "https://localhost:8080/"
        },
        "id": "gJsTZ1czQ7c-",
        "outputId": "7c4c290a-b719-4402-c6e1-0c76d3ea35f8"
      },
      "execution_count": 39,
      "outputs": [
        {
          "output_type": "execute_result",
          "data": {
            "text/plain": [
              "Date     Feb-20\n",
              "Open       39.1\n",
              "High       40.7\n",
              "Low        33.6\n",
              "Close     34.55\n",
              "Name: 175, dtype: object"
            ]
          },
          "metadata": {},
          "execution_count": 39
        }
      ]
    },
    {
      "cell_type": "markdown",
      "source": [
        "<b>As from the above it's clear that there is no duplicated record and all observation corresponding to the given feature are unique.</b>"
      ],
      "metadata": {
        "id": "AOrUxOtL3tPv"
      }
    },
    {
      "cell_type": "code",
      "source": [
        "# Checking the no of unique value in the Date feature\n",
        "no_uq_values_close = df['Close'].nunique()\n",
        "\n",
        "print(f'The total number of unique values present in close feature is:', no_uq_values_close)"
      ],
      "metadata": {
        "colab": {
          "base_uri": "https://localhost:8080/"
        },
        "id": "lEuZbxxo_QkA",
        "outputId": "1b7018e6-9476-441a-cb62-9435f4ce2e95"
      },
      "execution_count": 40,
      "outputs": [
        {
          "output_type": "stream",
          "name": "stdout",
          "text": [
            "The total number of unique values present in close feature is: 185\n"
          ]
        }
      ]
    },
    {
      "cell_type": "markdown",
      "source": [
        "<b>Now, we can conclude that our dataset is free from duplicated values .</b>"
      ],
      "metadata": {
        "id": "fQAn3YHW32Dc"
      }
    },
    {
      "cell_type": "markdown",
      "source": [
        "## ***3. Data Wrangling***\n",
        "<hr>\n",
        "\n",
        "><b>Data wrangling</b>, sometimes referred to as <b>data munging</b>, is the process of transforming and mapping data from one \"raw\" data form into another format with the intent of making it more appropriate and valuable for a variety of downstream purposes such as analytics."
      ],
      "metadata": {
        "id": "dauF4eBmngu3"
      }
    },
    {
      "cell_type": "markdown",
      "source": [
        "### Data Wrangling Code"
      ],
      "metadata": {
        "id": "bKJF3rekwFvQ"
      }
    },
    {
      "cell_type": "markdown",
      "source": [
        "#### Missing/Null values treatment"
      ],
      "metadata": {
        "id": "YOKuwkKOBUbD"
      }
    },
    {
      "cell_type": "code",
      "source": [
        "# Write your code to make your dataset analysis ready.\n",
        "# Missing/Null values treatment\n",
        "df.isnull().sum()"
      ],
      "metadata": {
        "id": "wk-9a2fpoLcV",
        "colab": {
          "base_uri": "https://localhost:8080/"
        },
        "outputId": "32edbbb1-e889-44a9-adf0-9cfa11927fc1"
      },
      "execution_count": 41,
      "outputs": [
        {
          "output_type": "execute_result",
          "data": {
            "text/plain": [
              "Date     0\n",
              "Open     0\n",
              "High     0\n",
              "Low      0\n",
              "Close    0\n",
              "dtype: int64"
            ]
          },
          "metadata": {},
          "execution_count": 41
        }
      ]
    },
    {
      "cell_type": "markdown",
      "source": [
        "> No null/missing values in the given dataset"
      ],
      "metadata": {
        "id": "JXyQDS6uAhP8"
      }
    },
    {
      "cell_type": "markdown",
      "source": [
        "#### Duplicate value treatment"
      ],
      "metadata": {
        "id": "2vWnrTV6BeJr"
      }
    },
    {
      "cell_type": "code",
      "source": [
        "# Looking for duplicated values\n",
        "len(df[df.duplicated()])"
      ],
      "metadata": {
        "colab": {
          "base_uri": "https://localhost:8080/"
        },
        "id": "Q9CQIKK3AsZL",
        "outputId": "d562ca5f-b0ed-46fc-9a85-839582beb30d"
      },
      "execution_count": 42,
      "outputs": [
        {
          "output_type": "execute_result",
          "data": {
            "text/plain": [
              "0"
            ]
          },
          "metadata": {},
          "execution_count": 42
        }
      ]
    },
    {
      "cell_type": "markdown",
      "source": [
        "> Dataset is free form duplicated values"
      ],
      "metadata": {
        "id": "A0UguunfA51X"
      }
    },
    {
      "cell_type": "markdown",
      "source": [
        "#### Correcting the data types"
      ],
      "metadata": {
        "id": "XGN_t6JpBtQR"
      }
    },
    {
      "cell_type": "code",
      "source": [
        "df.dtypes"
      ],
      "metadata": {
        "colab": {
          "base_uri": "https://localhost:8080/"
        },
        "id": "6C4vvKdkB3uq",
        "outputId": "9bc7e492-0040-419b-b256-8c2404feaa83"
      },
      "execution_count": 43,
      "outputs": [
        {
          "output_type": "execute_result",
          "data": {
            "text/plain": [
              "Date      object\n",
              "Open     float64\n",
              "High     float64\n",
              "Low      float64\n",
              "Close    float64\n",
              "dtype: object"
            ]
          },
          "metadata": {},
          "execution_count": 43
        }
      ]
    },
    {
      "cell_type": "markdown",
      "source": [
        ">Here we have seen that among all the 5 features only <b>`Date`</b> feature needs the correction. so we have to convert the string data type to datetime format.\n",
        "\n",
        ">Looking at the observations which `Date` feature holds, having the format of `MM-YY`. So we need to convert it into proper `YYYY-MM-DD` format.\n",
        "\n",
        ">The other 4 features datatypes are correct."
      ],
      "metadata": {
        "id": "7QUbMQLUCAV6"
      }
    },
    {
      "cell_type": "code",
      "source": [
        "# Converting the `Date` feature datatype to proper `YYYY-MM-DD`\n",
        "df['Date'] = df['Date'].apply(lambda x : datetime.strptime(x, '%b-%y'))"
      ],
      "metadata": {
        "id": "fijCF1B5EPUx"
      },
      "execution_count": 44,
      "outputs": []
    },
    {
      "cell_type": "code",
      "source": [
        "# Extract year from date feature\n",
        "df['Year'] = df['Date'].dt.year"
      ],
      "metadata": {
        "id": "5TdUjiZVKYNg"
      },
      "execution_count": 45,
      "outputs": []
    },
    {
      "cell_type": "code",
      "source": [
        "# Extract month from date feature\n",
        "df['Month'] = df['Date'].dt.month"
      ],
      "metadata": {
        "id": "tq1jV8yOKYDo"
      },
      "execution_count": 46,
      "outputs": []
    },
    {
      "cell_type": "code",
      "source": [
        "# Extract month from date feature\n",
        "df['Quarter'] = df['Date'].dt.quarter"
      ],
      "metadata": {
        "id": "7Oy49eohKX5Z"
      },
      "execution_count": 47,
      "outputs": []
    },
    {
      "cell_type": "code",
      "source": [
        "# check unique values for 'Year' feature\n",
        "df['Year'].unique()"
      ],
      "metadata": {
        "colab": {
          "base_uri": "https://localhost:8080/"
        },
        "id": "jBgX6OiQKXus",
        "outputId": "dd156de0-31a5-4d39-e88e-78954c291d12"
      },
      "execution_count": 48,
      "outputs": [
        {
          "output_type": "execute_result",
          "data": {
            "text/plain": [
              "array([2005, 2006, 2007, 2008, 2009, 2010, 2011, 2012, 2013, 2014, 2015,\n",
              "       2016, 2017, 2018, 2019, 2020])"
            ]
          },
          "metadata": {},
          "execution_count": 48
        }
      ]
    },
    {
      "cell_type": "code",
      "source": [
        "# check unique values for 'Year' feature\n",
        "df['Month'].unique()"
      ],
      "metadata": {
        "colab": {
          "base_uri": "https://localhost:8080/"
        },
        "id": "PJCMkFohKXke",
        "outputId": "7cd060c7-56a7-4e63-a5bf-4759c1673ff5"
      },
      "execution_count": 49,
      "outputs": [
        {
          "output_type": "execute_result",
          "data": {
            "text/plain": [
              "array([ 7,  8,  9, 10, 11, 12,  1,  2,  3,  4,  5,  6])"
            ]
          },
          "metadata": {},
          "execution_count": 49
        }
      ]
    },
    {
      "cell_type": "code",
      "source": [
        "# check unique values for 'Year' feature\n",
        "df['Quarter'].unique()"
      ],
      "metadata": {
        "colab": {
          "base_uri": "https://localhost:8080/"
        },
        "id": "6ah5zTbgKXZB",
        "outputId": "ef3e5611-76c7-4930-f1c4-9149474603d1"
      },
      "execution_count": 50,
      "outputs": [
        {
          "output_type": "execute_result",
          "data": {
            "text/plain": [
              "array([3, 4, 1, 2])"
            ]
          },
          "metadata": {},
          "execution_count": 50
        }
      ]
    },
    {
      "cell_type": "code",
      "source": [
        "# Checking the reflection\n",
        "df.dtypes"
      ],
      "metadata": {
        "colab": {
          "base_uri": "https://localhost:8080/"
        },
        "id": "xHUtgnvVFEM7",
        "outputId": "9595732b-8b39-4578-fe33-88f3beaaefc2"
      },
      "execution_count": 51,
      "outputs": [
        {
          "output_type": "execute_result",
          "data": {
            "text/plain": [
              "Date       datetime64[ns]\n",
              "Open              float64\n",
              "High              float64\n",
              "Low               float64\n",
              "Close             float64\n",
              "Year                int64\n",
              "Month               int64\n",
              "Quarter             int64\n",
              "dtype: object"
            ]
          },
          "metadata": {},
          "execution_count": 51
        }
      ]
    },
    {
      "cell_type": "markdown",
      "source": [
        ">Now, all the features having the proper datatypes."
      ],
      "metadata": {
        "id": "I9vLB0kuFpuy"
      }
    },
    {
      "cell_type": "markdown",
      "source": [
        "#### Outlier Analysis"
      ],
      "metadata": {
        "id": "YGuFW7vXHG1w"
      }
    },
    {
      "cell_type": "code",
      "source": [
        "# Let's create the function which create the boxplot for given DataFrame.\n",
        "def plot_box_plots(df):\n",
        "\n",
        "    # Doc. sting\n",
        "    '''\n",
        "    This function creates the boxplot for each numerical features for given DataFrame \n",
        "    '''\n",
        "    # Selectin only numerical features\n",
        "    numerical_columns = df.select_dtypes(include=['float', 'int']).columns\n",
        "\n",
        "    # Define the subplots\n",
        "    fig, ax = plt.subplots(1, len(numerical_columns), figsize=(20, 5))\n",
        "\n",
        "    # looping & boxplot creation\n",
        "    for i, column in enumerate(numerical_columns):\n",
        "        ax[i].boxplot(df[column])\n",
        "        ax[i].set_title(f'Box Plot of {column}', fontsize=14, fontweight='bold')\n",
        "    plt.tight_layout()\n",
        "    \n",
        "    # show the plots\n",
        "    plt.show()"
      ],
      "metadata": {
        "id": "Sc63GfEvHUQ3"
      },
      "execution_count": 52,
      "outputs": []
    },
    {
      "cell_type": "code",
      "source": [
        "# Function calling\n",
        "plot_box_plots(df)"
      ],
      "metadata": {
        "colab": {
          "base_uri": "https://localhost:8080/",
          "height": 369
        },
        "id": "v618dEJtHwuP",
        "outputId": "32678b3c-e28c-46cf-a730-30158d6703dc"
      },
      "execution_count": 53,
      "outputs": [
        {
          "output_type": "display_data",
          "data": {
            "text/plain": [
              "<Figure size 1440x360 with 7 Axes>"
            ],
            "image/png": "[encoded data removed]"
          },
          "metadata": {
            "needs_background": "light"
          }
        }
      ]
    },
    {
      "cell_type": "markdown",
      "source": [
        "> Seems to have some outliers in the key features of the dataset. Let's invisticate further and find out whether they belong to outlier category or not.\n",
        "\n",
        "> Also, form last 3 plots correctly finds the median values of the data."
      ],
      "metadata": {
        "id": "E5kpeNK7MVb2"
      }
    },
    {
      "cell_type": "code",
      "source": [
        "#create a function to find outliers using IQR\n",
        "def find_outliers_IQR(df):\n",
        "\n",
        "    #doc. string\n",
        "    '''\n",
        "    This function finds the outlier in the given DataFrame \n",
        "    '''\n",
        "    q1= df.quantile(0.25)\n",
        "    q3= df.quantile(0.75)\n",
        "\n",
        "    #Caluclate the IQR\n",
        "    IQR=q3-q1\n",
        "    outliers = df[((df<(q1-1.5*IQR)) | (df>(q3+1.5*IQR)))]\n",
        "\n",
        "    # return statement\n",
        "    return outliers"
      ],
      "metadata": {
        "id": "gxTBziINPFB2"
      },
      "execution_count": 54,
      "outputs": []
    },
    {
      "cell_type": "code",
      "source": [
        "# find outliers percentage\n",
        "for i in ['Open' , 'High', 'Low', 'Close']:\n",
        "  outliers = find_outliers_IQR(df[i])\n",
        "  outliers_percent = round((outliers.size/df[i].size)*100, 2)\n",
        "  print(f'{i} : {outliers_percent}%')"
      ],
      "metadata": {
        "colab": {
          "base_uri": "https://localhost:8080/"
        },
        "id": "mz-kPIDPPE62",
        "outputId": "33e8c88b-04be-41f7-d4c8-f10983db2cb3"
      },
      "execution_count": 55,
      "outputs": [
        {
          "output_type": "stream",
          "name": "stdout",
          "text": [
            "Open : 4.86%\n",
            "High : 2.7%\n",
            "Low : 4.86%\n",
            "Close : 4.86%\n"
          ]
        }
      ]
    },
    {
      "cell_type": "markdown",
      "source": [
        "> We often define an outlier as exceeding 8% of the norm. In this case, we evaluate the outlier effect if the feature transcends the above range.\n",
        "\n",
        "> Although, It is not correct to say that if a feature contains less than 8% outliers, then it should not be considered as outliers. The threshold for identifying outliers should be based on a careful examination of the data and the specific goals of the analysis, rather than a fixed percentage or rule of thumb.\n",
        "\n",
        ">The appropriate threshold for identifying outliers can depend on a variety of factors, such as the nature of the data, the sample size, and the goals of the analysis. In some cases, a relatively small number of extreme values can have a large impact on the analysis, and therefore should be considered as outliers even if they make up a small percentage of the data. In other cases, a larger percentage of extreme values may be acceptable if they do not significantly affect the analysis.\n",
        "\n",
        ">Therefore, it is important to carefully examine the data and consider the context of the analysis before determining the appropriate threshold for identifying outliers.\n",
        "\n",
        "> Let's delve deeper to uncover more insides."
      ],
      "metadata": {
        "id": "Ovc1lymyQRTG"
      }
    },
    {
      "cell_type": "code",
      "source": [
        "# find outliers\n",
        "for i in ['Open' , 'High', 'Low', 'Close']:\n",
        "  outliers = find_outliers_IQR(df[i])\n",
        "  print(f'{i} : ')\n",
        "  print(outliers)"
      ],
      "metadata": {
        "colab": {
          "base_uri": "https://localhost:8080/"
        },
        "id": "UXK-dKtYPEzG",
        "outputId": "3dd82fa3-71d8-4a00-ea65-f983c897790e"
      },
      "execution_count": 56,
      "outputs": [
        {
          "output_type": "stream",
          "name": "stdout",
          "text": [
            "Open : \n",
            "145    363.00\n",
            "146    351.00\n",
            "147    354.60\n",
            "151    355.00\n",
            "154    362.85\n",
            "155    348.00\n",
            "156    340.00\n",
            "157    369.95\n",
            "158    347.20\n",
            "Name: Open, dtype: float64\n",
            "High : \n",
            "144    372.00\n",
            "146    383.25\n",
            "147    375.75\n",
            "156    393.35\n",
            "157    404.00\n",
            "Name: High, dtype: float64\n",
            "Low : \n",
            "145    337.37\n",
            "146    345.50\n",
            "150    307.35\n",
            "151    304.65\n",
            "153    303.30\n",
            "154    325.70\n",
            "155    327.35\n",
            "156    332.45\n",
            "157    338.00\n",
            "Name: Low, dtype: float64\n",
            "Close : \n",
            "144    361.96\n",
            "145    351.15\n",
            "146    350.00\n",
            "150    354.45\n",
            "153    362.05\n",
            "154    346.20\n",
            "155    339.60\n",
            "156    367.90\n",
            "157    343.40\n",
            "Name: Close, dtype: float64\n"
          ]
        }
      ]
    },
    {
      "cell_type": "markdown",
      "source": [
        "> Let's fetch the records form 144 to 157 to analyze further."
      ],
      "metadata": {
        "id": "Aqd5fj_kcEmi"
      }
    },
    {
      "cell_type": "code",
      "source": [
        "# Fetching the records corresponding to required indexes\n",
        "df[144:158]"
      ],
      "metadata": {
        "colab": {
          "base_uri": "https://localhost:8080/",
          "height": 488
        },
        "id": "X5zs9NPmcVsE",
        "outputId": "d0364ad5-47b2-4748-f4fa-f6dcd9ad8ffa"
      },
      "execution_count": 57,
      "outputs": [
        {
          "output_type": "execute_result",
          "data": {
            "text/plain": [
              "          Date    Open    High     Low   Close  Year  Month  Quarter\n",
              "144 2017-07-01  293.04  372.00  290.78  361.96  2017      7        3\n",
              "145 2017-08-01  363.00  368.52  337.37  351.15  2017      8        3\n",
              "146 2017-09-01  351.00  383.25  345.50  350.00  2017      9        3\n",
              "147 2017-10-01  354.60  375.75  299.00  314.35  2017     10        4\n",
              "148 2017-11-01  315.50  329.80  296.00  306.80  2017     11        4\n",
              "149 2017-12-01  307.20  319.00  300.65  315.05  2017     12        4\n",
              "150 2018-01-01  314.00  366.00  307.35  354.45  2018      1        1\n",
              "151 2018-02-01  355.00  366.50  304.65  322.25  2018      2        1\n",
              "152 2018-03-01  320.70  325.80  285.10  304.90  2018      3        1\n",
              "153 2018-04-01  305.00  368.75  303.30  362.05  2018      4        2\n",
              "154 2018-05-01  362.85  364.40  325.70  346.20  2018      5        2\n",
              "155 2018-06-01  348.00  350.10  327.35  339.60  2018      6        2\n",
              "156 2018-07-01  340.00  393.35  332.45  367.90  2018      7        3\n",
              "157 2018-08-01  369.95  404.00  338.00  343.40  2018      8        3"
            ],
            "text/html": [
              "\n",
              "  <div id=\"df-6d6a9b87-26a1-4088-8429-02d175168ca8\">\n",
              "    <div class=\"colab-df-container\">\n",
              "      <div>\n",
              "<style scoped>\n",
              "    .dataframe tbody tr th:only-of-type {\n",
              "        vertical-align: middle;\n",
              "    }\n",
              "\n",
              "    .dataframe tbody tr th {\n",
              "        vertical-align: top;\n",
              "    }\n",
              "\n",
              "    .dataframe thead th {\n",
              "        text-align: right;\n",
              "    }\n",
              "</style>\n",
              "<table border=\"1\" class=\"dataframe\">\n",
              "  <thead>\n",
              "    <tr style=\"text-align: right;\">\n",
              "      <th></th>\n",
              "      <th>Date</th>\n",
              "      <th>Open</th>\n",
              "      <th>High</th>\n",
              "      <th>Low</th>\n",
              "      <th>Close</th>\n",
              "      <th>Year</th>\n",
              "      <th>Month</th>\n",
              "      <th>Quarter</th>\n",
              "    </tr>\n",
              "  </thead>\n",
              "  <tbody>\n",
              "    <tr>\n",
              "      <th>144</th>\n",
              "      <td>2017-07-01</td>\n",
              "      <td>293.04</td>\n",
              "      <td>372.00</td>\n",
              "      <td>290.78</td>\n",
              "      <td>361.96</td>\n",
              "      <td>2017</td>\n",
              "      <td>7</td>\n",
              "      <td>3</td>\n",
              "    </tr>\n",
              "    <tr>\n",
              "      <th>145</th>\n",
              "      <td>2017-08-01</td>\n",
              "      <td>363.00</td>\n",
              "      <td>368.52</td>\n",
              "      <td>337.37</td>\n",
              "      <td>351.15</td>\n",
              "      <td>2017</td>\n",
              "      <td>8</td>\n",
              "      <td>3</td>\n",
              "    </tr>\n",
              "    <tr>\n",
              "      <th>146</th>\n",
              "      <td>2017-09-01</td>\n",
              "      <td>351.00</td>\n",
              "      <td>383.25</td>\n",
              "      <td>345.50</td>\n",
              "      <td>350.00</td>\n",
              "      <td>2017</td>\n",
              "      <td>9</td>\n",
              "      <td>3</td>\n",
              "    </tr>\n",
              "    <tr>\n",
              "      <th>147</th>\n",
              "      <td>2017-10-01</td>\n",
              "      <td>354.60</td>\n",
              "      <td>375.75</td>\n",
              "      <td>299.00</td>\n",
              "      <td>314.35</td>\n",
              "      <td>2017</td>\n",
              "      <td>10</td>\n",
              "      <td>4</td>\n",
              "    </tr>\n",
              "    <tr>\n",
              "      <th>148</th>\n",
              "      <td>2017-11-01</td>\n",
              "      <td>315.50</td>\n",
              "      <td>329.80</td>\n",
              "      <td>296.00</td>\n",
              "      <td>306.80</td>\n",
              "      <td>2017</td>\n",
              "      <td>11</td>\n",
              "      <td>4</td>\n",
              "    </tr>\n",
              "    <tr>\n",
              "      <th>149</th>\n",
              "      <td>2017-12-01</td>\n",
              "      <td>307.20</td>\n",
              "      <td>319.00</td>\n",
              "      <td>300.65</td>\n",
              "      <td>315.05</td>\n",
              "      <td>2017</td>\n",
              "      <td>12</td>\n",
              "      <td>4</td>\n",
              "    </tr>\n",
              "    <tr>\n",
              "      <th>150</th>\n",
              "      <td>2018-01-01</td>\n",
              "      <td>314.00</td>\n",
              "      <td>366.00</td>\n",
              "      <td>307.35</td>\n",
              "      <td>354.45</td>\n",
              "      <td>2018</td>\n",
              "      <td>1</td>\n",
              "      <td>1</td>\n",
              "    </tr>\n",
              "    <tr>\n",
              "      <th>151</th>\n",
              "      <td>2018-02-01</td>\n",
              "      <td>355.00</td>\n",
              "      <td>366.50</td>\n",
              "      <td>304.65</td>\n",
              "      <td>322.25</td>\n",
              "      <td>2018</td>\n",
              "      <td>2</td>\n",
              "      <td>1</td>\n",
              "    </tr>\n",
              "    <tr>\n",
              "      <th>152</th>\n",
              "      <td>2018-03-01</td>\n",
              "      <td>320.70</td>\n",
              "      <td>325.80</td>\n",
              "      <td>285.10</td>\n",
              "      <td>304.90</td>\n",
              "      <td>2018</td>\n",
              "      <td>3</td>\n",
              "      <td>1</td>\n",
              "    </tr>\n",
              "    <tr>\n",
              "      <th>153</th>\n",
              "      <td>2018-04-01</td>\n",
              "      <td>305.00</td>\n",
              "      <td>368.75</td>\n",
              "      <td>303.30</td>\n",
              "      <td>362.05</td>\n",
              "      <td>2018</td>\n",
              "      <td>4</td>\n",
              "      <td>2</td>\n",
              "    </tr>\n",
              "    <tr>\n",
              "      <th>154</th>\n",
              "      <td>2018-05-01</td>\n",
              "      <td>362.85</td>\n",
              "      <td>364.40</td>\n",
              "      <td>325.70</td>\n",
              "      <td>346.20</td>\n",
              "      <td>2018</td>\n",
              "      <td>5</td>\n",
              "      <td>2</td>\n",
              "    </tr>\n",
              "    <tr>\n",
              "      <th>155</th>\n",
              "      <td>2018-06-01</td>\n",
              "      <td>348.00</td>\n",
              "      <td>350.10</td>\n",
              "      <td>327.35</td>\n",
              "      <td>339.60</td>\n",
              "      <td>2018</td>\n",
              "      <td>6</td>\n",
              "      <td>2</td>\n",
              "    </tr>\n",
              "    <tr>\n",
              "      <th>156</th>\n",
              "      <td>2018-07-01</td>\n",
              "      <td>340.00</td>\n",
              "      <td>393.35</td>\n",
              "      <td>332.45</td>\n",
              "      <td>367.90</td>\n",
              "      <td>2018</td>\n",
              "      <td>7</td>\n",
              "      <td>3</td>\n",
              "    </tr>\n",
              "    <tr>\n",
              "      <th>157</th>\n",
              "      <td>2018-08-01</td>\n",
              "      <td>369.95</td>\n",
              "      <td>404.00</td>\n",
              "      <td>338.00</td>\n",
              "      <td>343.40</td>\n",
              "      <td>2018</td>\n",
              "      <td>8</td>\n",
              "      <td>3</td>\n",
              "    </tr>\n",
              "  </tbody>\n",
              "</table>\n",
              "</div>\n",
              "      <button class=\"colab-df-convert\" onclick=\"convertToInteractive('df-6d6a9b87-26a1-4088-8429-02d175168ca8')\"\n",
              "              title=\"Convert this dataframe to an interactive table.\"\n",
              "              style=\"display:none;\">\n",
              "        \n",
              "  <svg xmlns=\"http://www.w3.org/2000/svg\" height=\"24px\"viewBox=\"0 0 24 24\"\n",
              "       width=\"24px\">\n",
              "    <path d=\"M0 0h24v24H0V0z\" fill=\"none\"/>\n",
              "    <path d=\"M18.56 5.44l.94 2.06.94-2.06 2.06-.94-2.06-.94-.94-2.06-.94 2.06-2.06.94zm-11 1L8.5 8.5l.94-2.06 2.06-.94-2.06-.94L8.5 2.5l-.94 2.06-2.06.94zm10 10l.94 2.06.94-2.06 2.06-.94-2.06-.94-.94-2.06-.94 2.06-2.06.94z\"/><path d=\"M17.41 7.96l-1.37-1.37c-.4-.4-.92-.59-1.43-.59-.52 0-1.04.2-1.43.59L10.3 9.45l-7.72 7.72c-.78.78-.78 2.05 0 2.83L4 21.41c.39.39.9.59 1.41.59.51 0 1.02-.2 1.41-.59l7.78-7.78 2.81-2.81c.8-.78.8-2.07 0-2.86zM5.41 20L4 18.59l7.72-7.72 1.47 1.35L5.41 20z\"/>\n",
              "  </svg>\n",
              "      </button>\n",
              "      \n",
              "  <style>\n",
              "    .colab-df-container {\n",
              "      display:flex;\n",
              "      flex-wrap:wrap;\n",
              "      gap: 12px;\n",
              "    }\n",
              "\n",
              "    .colab-df-convert {\n",
              "      background-color: #E8F0FE;\n",
              "      border: none;\n",
              "      border-radius: 50%;\n",
              "      cursor: pointer;\n",
              "      display: none;\n",
              "      fill: #1967D2;\n",
              "      height: 32px;\n",
              "      padding: 0 0 0 0;\n",
              "      width: 32px;\n",
              "    }\n",
              "\n",
              "    .colab-df-convert:hover {\n",
              "      background-color: #E2EBFA;\n",
              "      box-shadow: 0px 1px 2px rgba(60, 64, 67, 0.3), 0px 1px 3px 1px rgba(60, 64, 67, 0.15);\n",
              "      fill: #174EA6;\n",
              "    }\n",
              "\n",
              "    [theme=dark] .colab-df-convert {\n",
              "      background-color: #3B4455;\n",
              "      fill: #D2E3FC;\n",
              "    }\n",
              "\n",
              "    [theme=dark] .colab-df-convert:hover {\n",
              "      background-color: #434B5C;\n",
              "      box-shadow: 0px 1px 3px 1px rgba(0, 0, 0, 0.15);\n",
              "      filter: drop-shadow(0px 1px 2px rgba(0, 0, 0, 0.3));\n",
              "      fill: #FFFFFF;\n",
              "    }\n",
              "  </style>\n",
              "\n",
              "      <script>\n",
              "        const buttonEl =\n",
              "          document.querySelector('#df-6d6a9b87-26a1-4088-8429-02d175168ca8 button.colab-df-convert');\n",
              "        buttonEl.style.display =\n",
              "          google.colab.kernel.accessAllowed ? 'block' : 'none';\n",
              "\n",
              "        async function convertToInteractive(key) {\n",
              "          const element = document.querySelector('#df-6d6a9b87-26a1-4088-8429-02d175168ca8');\n",
              "          const dataTable =\n",
              "            await google.colab.kernel.invokeFunction('convertToInteractive',\n",
              "                                                     [key], {});\n",
              "          if (!dataTable) return;\n",
              "\n",
              "          const docLinkHtml = 'Like what you see? Visit the ' +\n",
              "            '<a target=\"_blank\" href=https://colab.research.google.com/notebooks/data_table.ipynb>data table notebook</a>'\n",
              "            + ' to learn more about interactive tables.';\n",
              "          element.innerHTML = '';\n",
              "          dataTable['output_type'] = 'display_data';\n",
              "          await google.colab.output.renderOutput(dataTable, element);\n",
              "          const docLink = document.createElement('div');\n",
              "          docLink.innerHTML = docLinkHtml;\n",
              "          element.appendChild(docLink);\n",
              "        }\n",
              "      </script>\n",
              "    </div>\n",
              "  </div>\n",
              "  "
            ]
          },
          "metadata": {},
          "execution_count": 57
        }
      ]
    },
    {
      "cell_type": "markdown",
      "source": [
        ">We calculated the percentage we found that one 'High' column has more than 2.5 percent and all the other 3 columns have almost same which is 4.86 percent outliers.\n",
        "\n",
        ">We know that these are stock prices, and all the outliers in all 4 columns are almost similar value which is more than 300.\n",
        "\n",
        ">From all the above points we can say that these are not outliers , these are possible values."
      ],
      "metadata": {
        "id": "GBvb6IuyeHFF"
      }
    },
    {
      "cell_type": "markdown",
      "source": [
        ">Let's do some aggregate operations to better understand the features with respected to newly created features."
      ],
      "metadata": {
        "id": "08RdNXBIhNrp"
      }
    },
    {
      "cell_type": "code",
      "source": [
        "# check min, max and mean prices for each year feature\n",
        "df.groupby('Year').aggregate({'Open' : [min, max, 'mean'], 'High' : [min, max, 'mean'], 'Low' : [min, max, 'mean'], 'Close' : [min, max, 'mean']})"
      ],
      "metadata": {
        "colab": {
          "base_uri": "https://localhost:8080/",
          "height": 614
        },
        "id": "PI-nAfF9f9xa",
        "outputId": "09a68eed-a2c2-418f-c26f-14c2d7637f35"
      },
      "execution_count": 58,
      "outputs": [
        {
          "output_type": "execute_result",
          "data": {
            "text/plain": [
              "        Open                        High                         Low          \\\n",
              "         min     max        mean     min     max        mean     min     max   \n",
              "Year                                                                           \n",
              "2005   12.58   13.49   13.183333   13.88   14.88   14.423333   11.25   13.00   \n",
              "2006   13.68   25.40   18.401667   16.97   29.66   21.090833   13.40   24.40   \n",
              "2007   27.00   46.40   35.160833   31.58   54.00   39.743333   23.31   45.00   \n",
              "2008   12.40   50.88   31.292500   16.56   55.56   34.330833   11.01   44.40   \n",
              "2009   10.00   50.98   26.940833   11.24   55.67   32.678333    8.16   48.60   \n",
              "2010   47.80   72.20   57.946667   51.48   77.60   63.508333   44.60   68.21   \n",
              "2011   51.84   63.00   58.865000   57.69   68.26   63.341667   46.71   61.36   \n",
              "2012   47.92   89.20   70.648333   66.50   95.00   77.577500   46.11   88.01   \n",
              "2013   49.20  104.41   82.608333   67.81  109.43   92.748333   43.22   97.20   \n",
              "2014   60.52  142.08  100.463333   62.70  155.00  112.439167   58.42  134.00   \n",
              "2015  135.61  177.00  161.141667  154.52  182.00  169.394167  118.00  158.90   \n",
              "2016  138.80  273.30  207.124167  149.90  290.00  224.225833  126.45  245.80   \n",
              "2017  231.98  363.00  309.131667  284.31  383.25  333.800833  226.30  345.50   \n",
              "2018  174.00  369.95  300.725000  194.30  404.00  331.920833  147.00  338.00   \n",
              "2019   42.00  277.00  137.000000   70.50  285.90  155.858333   29.05  228.80   \n",
              "2020   12.00   46.90   25.150909   14.01   87.95   32.805455    5.55   36.55   \n",
              "\n",
              "                   Close                      \n",
              "            mean     min     max        mean  \n",
              "Year                                          \n",
              "2005   12.391667   12.46   13.71   13.215000  \n",
              "2006   16.903333   15.33   26.97   19.350000  \n",
              "2007   31.830000   28.14   49.81   36.873333  \n",
              "2008   23.335000   12.26   50.54   28.252500  \n",
              "2009   24.275833    9.98   53.41   30.032500  \n",
              "2010   53.880833   47.32   71.86   58.645833  \n",
              "2011   52.275833   47.72   62.90   57.223333  \n",
              "2012   67.428333   65.97   92.84   74.281667  \n",
              "2013   72.990833   48.65  104.41   80.585000  \n",
              "2014   94.627500   60.95  154.57  106.947500  \n",
              "2015  146.293333  137.90  176.52  160.112500  \n",
              "2016  193.472500  137.67  272.56  213.524167  \n",
              "2017  292.530833  279.10  361.96  315.306667  \n",
              "2018  263.820833  169.65  367.90  288.637500  \n",
              "2019  106.687500   41.45  275.05  125.262500  \n",
              "2020   18.797273   11.95   39.20   22.105455  "
            ],
            "text/html": [
              "\n",
              "  <div id=\"df-333a85ff-8dc5-488b-b622-5e0311d6a5d9\">\n",
              "    <div class=\"colab-df-container\">\n",
              "      <div>\n",
              "<style scoped>\n",
              "    .dataframe tbody tr th:only-of-type {\n",
              "        vertical-align: middle;\n",
              "    }\n",
              "\n",
              "    .dataframe tbody tr th {\n",
              "        vertical-align: top;\n",
              "    }\n",
              "\n",
              "    .dataframe thead tr th {\n",
              "        text-align: left;\n",
              "    }\n",
              "\n",
              "    .dataframe thead tr:last-of-type th {\n",
              "        text-align: right;\n",
              "    }\n",
              "</style>\n",
              "<table border=\"1\" class=\"dataframe\">\n",
              "  <thead>\n",
              "    <tr>\n",
              "      <th></th>\n",
              "      <th colspan=\"3\" halign=\"left\">Open</th>\n",
              "      <th colspan=\"3\" halign=\"left\">High</th>\n",
              "      <th colspan=\"3\" halign=\"left\">Low</th>\n",
              "      <th colspan=\"3\" halign=\"left\">Close</th>\n",
              "    </tr>\n",
              "    <tr>\n",
              "      <th></th>\n",
              "      <th>min</th>\n",
              "      <th>max</th>\n",
              "      <th>mean</th>\n",
              "      <th>min</th>\n",
              "      <th>max</th>\n",
              "      <th>mean</th>\n",
              "      <th>min</th>\n",
              "      <th>max</th>\n",
              "      <th>mean</th>\n",
              "      <th>min</th>\n",
              "      <th>max</th>\n",
              "      <th>mean</th>\n",
              "    </tr>\n",
              "    <tr>\n",
              "      <th>Year</th>\n",
              "      <th></th>\n",
              "      <th></th>\n",
              "      <th></th>\n",
              "      <th></th>\n",
              "      <th></th>\n",
              "      <th></th>\n",
              "      <th></th>\n",
              "      <th></th>\n",
              "      <th></th>\n",
              "      <th></th>\n",
              "      <th></th>\n",
              "      <th></th>\n",
              "    </tr>\n",
              "  </thead>\n",
              "  <tbody>\n",
              "    <tr>\n",
              "      <th>2005</th>\n",
              "      <td>12.58</td>\n",
              "      <td>13.49</td>\n",
              "      <td>13.183333</td>\n",
              "      <td>13.88</td>\n",
              "      <td>14.88</td>\n",
              "      <td>14.423333</td>\n",
              "      <td>11.25</td>\n",
              "      <td>13.00</td>\n",
              "      <td>12.391667</td>\n",
              "      <td>12.46</td>\n",
              "      <td>13.71</td>\n",
              "      <td>13.215000</td>\n",
              "    </tr>\n",
              "    <tr>\n",
              "      <th>2006</th>\n",
              "      <td>13.68</td>\n",
              "      <td>25.40</td>\n",
              "      <td>18.401667</td>\n",
              "      <td>16.97</td>\n",
              "      <td>29.66</td>\n",
              "      <td>21.090833</td>\n",
              "      <td>13.40</td>\n",
              "      <td>24.40</td>\n",
              "      <td>16.903333</td>\n",
              "      <td>15.33</td>\n",
              "      <td>26.97</td>\n",
              "      <td>19.350000</td>\n",
              "    </tr>\n",
              "    <tr>\n",
              "      <th>2007</th>\n",
              "      <td>27.00</td>\n",
              "      <td>46.40</td>\n",
              "      <td>35.160833</td>\n",
              "      <td>31.58</td>\n",
              "      <td>54.00</td>\n",
              "      <td>39.743333</td>\n",
              "      <td>23.31</td>\n",
              "      <td>45.00</td>\n",
              "      <td>31.830000</td>\n",
              "      <td>28.14</td>\n",
              "      <td>49.81</td>\n",
              "      <td>36.873333</td>\n",
              "    </tr>\n",
              "    <tr>\n",
              "      <th>2008</th>\n",
              "      <td>12.40</td>\n",
              "      <td>50.88</td>\n",
              "      <td>31.292500</td>\n",
              "      <td>16.56</td>\n",
              "      <td>55.56</td>\n",
              "      <td>34.330833</td>\n",
              "      <td>11.01</td>\n",
              "      <td>44.40</td>\n",
              "      <td>23.335000</td>\n",
              "      <td>12.26</td>\n",
              "      <td>50.54</td>\n",
              "      <td>28.252500</td>\n",
              "    </tr>\n",
              "    <tr>\n",
              "      <th>2009</th>\n",
              "      <td>10.00</td>\n",
              "      <td>50.98</td>\n",
              "      <td>26.940833</td>\n",
              "      <td>11.24</td>\n",
              "      <td>55.67</td>\n",
              "      <td>32.678333</td>\n",
              "      <td>8.16</td>\n",
              "      <td>48.60</td>\n",
              "      <td>24.275833</td>\n",
              "      <td>9.98</td>\n",
              "      <td>53.41</td>\n",
              "      <td>30.032500</td>\n",
              "    </tr>\n",
              "    <tr>\n",
              "      <th>2010</th>\n",
              "      <td>47.80</td>\n",
              "      <td>72.20</td>\n",
              "      <td>57.946667</td>\n",
              "      <td>51.48</td>\n",
              "      <td>77.60</td>\n",
              "      <td>63.508333</td>\n",
              "      <td>44.60</td>\n",
              "      <td>68.21</td>\n",
              "      <td>53.880833</td>\n",
              "      <td>47.32</td>\n",
              "      <td>71.86</td>\n",
              "      <td>58.645833</td>\n",
              "    </tr>\n",
              "    <tr>\n",
              "      <th>2011</th>\n",
              "      <td>51.84</td>\n",
              "      <td>63.00</td>\n",
              "      <td>58.865000</td>\n",
              "      <td>57.69</td>\n",
              "      <td>68.26</td>\n",
              "      <td>63.341667</td>\n",
              "      <td>46.71</td>\n",
              "      <td>61.36</td>\n",
              "      <td>52.275833</td>\n",
              "      <td>47.72</td>\n",
              "      <td>62.90</td>\n",
              "      <td>57.223333</td>\n",
              "    </tr>\n",
              "    <tr>\n",
              "      <th>2012</th>\n",
              "      <td>47.92</td>\n",
              "      <td>89.20</td>\n",
              "      <td>70.648333</td>\n",
              "      <td>66.50</td>\n",
              "      <td>95.00</td>\n",
              "      <td>77.577500</td>\n",
              "      <td>46.11</td>\n",
              "      <td>88.01</td>\n",
              "      <td>67.428333</td>\n",
              "      <td>65.97</td>\n",
              "      <td>92.84</td>\n",
              "      <td>74.281667</td>\n",
              "    </tr>\n",
              "    <tr>\n",
              "      <th>2013</th>\n",
              "      <td>49.20</td>\n",
              "      <td>104.41</td>\n",
              "      <td>82.608333</td>\n",
              "      <td>67.81</td>\n",
              "      <td>109.43</td>\n",
              "      <td>92.748333</td>\n",
              "      <td>43.22</td>\n",
              "      <td>97.20</td>\n",
              "      <td>72.990833</td>\n",
              "      <td>48.65</td>\n",
              "      <td>104.41</td>\n",
              "      <td>80.585000</td>\n",
              "    </tr>\n",
              "    <tr>\n",
              "      <th>2014</th>\n",
              "      <td>60.52</td>\n",
              "      <td>142.08</td>\n",
              "      <td>100.463333</td>\n",
              "      <td>62.70</td>\n",
              "      <td>155.00</td>\n",
              "      <td>112.439167</td>\n",
              "      <td>58.42</td>\n",
              "      <td>134.00</td>\n",
              "      <td>94.627500</td>\n",
              "      <td>60.95</td>\n",
              "      <td>154.57</td>\n",
              "      <td>106.947500</td>\n",
              "    </tr>\n",
              "    <tr>\n",
              "      <th>2015</th>\n",
              "      <td>135.61</td>\n",
              "      <td>177.00</td>\n",
              "      <td>161.141667</td>\n",
              "      <td>154.52</td>\n",
              "      <td>182.00</td>\n",
              "      <td>169.394167</td>\n",
              "      <td>118.00</td>\n",
              "      <td>158.90</td>\n",
              "      <td>146.293333</td>\n",
              "      <td>137.90</td>\n",
              "      <td>176.52</td>\n",
              "      <td>160.112500</td>\n",
              "    </tr>\n",
              "    <tr>\n",
              "      <th>2016</th>\n",
              "      <td>138.80</td>\n",
              "      <td>273.30</td>\n",
              "      <td>207.124167</td>\n",
              "      <td>149.90</td>\n",
              "      <td>290.00</td>\n",
              "      <td>224.225833</td>\n",
              "      <td>126.45</td>\n",
              "      <td>245.80</td>\n",
              "      <td>193.472500</td>\n",
              "      <td>137.67</td>\n",
              "      <td>272.56</td>\n",
              "      <td>213.524167</td>\n",
              "    </tr>\n",
              "    <tr>\n",
              "      <th>2017</th>\n",
              "      <td>231.98</td>\n",
              "      <td>363.00</td>\n",
              "      <td>309.131667</td>\n",
              "      <td>284.31</td>\n",
              "      <td>383.25</td>\n",
              "      <td>333.800833</td>\n",
              "      <td>226.30</td>\n",
              "      <td>345.50</td>\n",
              "      <td>292.530833</td>\n",
              "      <td>279.10</td>\n",
              "      <td>361.96</td>\n",
              "      <td>315.306667</td>\n",
              "    </tr>\n",
              "    <tr>\n",
              "      <th>2018</th>\n",
              "      <td>174.00</td>\n",
              "      <td>369.95</td>\n",
              "      <td>300.725000</td>\n",
              "      <td>194.30</td>\n",
              "      <td>404.00</td>\n",
              "      <td>331.920833</td>\n",
              "      <td>147.00</td>\n",
              "      <td>338.00</td>\n",
              "      <td>263.820833</td>\n",
              "      <td>169.65</td>\n",
              "      <td>367.90</td>\n",
              "      <td>288.637500</td>\n",
              "    </tr>\n",
              "    <tr>\n",
              "      <th>2019</th>\n",
              "      <td>42.00</td>\n",
              "      <td>277.00</td>\n",
              "      <td>137.000000</td>\n",
              "      <td>70.50</td>\n",
              "      <td>285.90</td>\n",
              "      <td>155.858333</td>\n",
              "      <td>29.05</td>\n",
              "      <td>228.80</td>\n",
              "      <td>106.687500</td>\n",
              "      <td>41.45</td>\n",
              "      <td>275.05</td>\n",
              "      <td>125.262500</td>\n",
              "    </tr>\n",
              "    <tr>\n",
              "      <th>2020</th>\n",
              "      <td>12.00</td>\n",
              "      <td>46.90</td>\n",
              "      <td>25.150909</td>\n",
              "      <td>14.01</td>\n",
              "      <td>87.95</td>\n",
              "      <td>32.805455</td>\n",
              "      <td>5.55</td>\n",
              "      <td>36.55</td>\n",
              "      <td>18.797273</td>\n",
              "      <td>11.95</td>\n",
              "      <td>39.20</td>\n",
              "      <td>22.105455</td>\n",
              "    </tr>\n",
              "  </tbody>\n",
              "</table>\n",
              "</div>\n",
              "      <button class=\"colab-df-convert\" onclick=\"convertToInteractive('df-333a85ff-8dc5-488b-b622-5e0311d6a5d9')\"\n",
              "              title=\"Convert this dataframe to an interactive table.\"\n",
              "              style=\"display:none;\">\n",
              "        \n",
              "  <svg xmlns=\"http://www.w3.org/2000/svg\" height=\"24px\"viewBox=\"0 0 24 24\"\n",
              "       width=\"24px\">\n",
              "    <path d=\"M0 0h24v24H0V0z\" fill=\"none\"/>\n",
              "    <path d=\"M18.56 5.44l.94 2.06.94-2.06 2.06-.94-2.06-.94-.94-2.06-.94 2.06-2.06.94zm-11 1L8.5 8.5l.94-2.06 2.06-.94-2.06-.94L8.5 2.5l-.94 2.06-2.06.94zm10 10l.94 2.06.94-2.06 2.06-.94-2.06-.94-.94-2.06-.94 2.06-2.06.94z\"/><path d=\"M17.41 7.96l-1.37-1.37c-.4-.4-.92-.59-1.43-.59-.52 0-1.04.2-1.43.59L10.3 9.45l-7.72 7.72c-.78.78-.78 2.05 0 2.83L4 21.41c.39.39.9.59 1.41.59.51 0 1.02-.2 1.41-.59l7.78-7.78 2.81-2.81c.8-.78.8-2.07 0-2.86zM5.41 20L4 18.59l7.72-7.72 1.47 1.35L5.41 20z\"/>\n",
              "  </svg>\n",
              "      </button>\n",
              "      \n",
              "  <style>\n",
              "    .colab-df-container {\n",
              "      display:flex;\n",
              "      flex-wrap:wrap;\n",
              "      gap: 12px;\n",
              "    }\n",
              "\n",
              "    .colab-df-convert {\n",
              "      background-color: #E8F0FE;\n",
              "      border: none;\n",
              "      border-radius: 50%;\n",
              "      cursor: pointer;\n",
              "      display: none;\n",
              "      fill: #1967D2;\n",
              "      height: 32px;\n",
              "      padding: 0 0 0 0;\n",
              "      width: 32px;\n",
              "    }\n",
              "\n",
              "    .colab-df-convert:hover {\n",
              "      background-color: #E2EBFA;\n",
              "      box-shadow: 0px 1px 2px rgba(60, 64, 67, 0.3), 0px 1px 3px 1px rgba(60, 64, 67, 0.15);\n",
              "      fill: #174EA6;\n",
              "    }\n",
              "\n",
              "    [theme=dark] .colab-df-convert {\n",
              "      background-color: #3B4455;\n",
              "      fill: #D2E3FC;\n",
              "    }\n",
              "\n",
              "    [theme=dark] .colab-df-convert:hover {\n",
              "      background-color: #434B5C;\n",
              "      box-shadow: 0px 1px 3px 1px rgba(0, 0, 0, 0.15);\n",
              "      filter: drop-shadow(0px 1px 2px rgba(0, 0, 0, 0.3));\n",
              "      fill: #FFFFFF;\n",
              "    }\n",
              "  </style>\n",
              "\n",
              "      <script>\n",
              "        const buttonEl =\n",
              "          document.querySelector('#df-333a85ff-8dc5-488b-b622-5e0311d6a5d9 button.colab-df-convert');\n",
              "        buttonEl.style.display =\n",
              "          google.colab.kernel.accessAllowed ? 'block' : 'none';\n",
              "\n",
              "        async function convertToInteractive(key) {\n",
              "          const element = document.querySelector('#df-333a85ff-8dc5-488b-b622-5e0311d6a5d9');\n",
              "          const dataTable =\n",
              "            await google.colab.kernel.invokeFunction('convertToInteractive',\n",
              "                                                     [key], {});\n",
              "          if (!dataTable) return;\n",
              "\n",
              "          const docLinkHtml = 'Like what you see? Visit the ' +\n",
              "            '<a target=\"_blank\" href=https://colab.research.google.com/notebooks/data_table.ipynb>data table notebook</a>'\n",
              "            + ' to learn more about interactive tables.';\n",
              "          element.innerHTML = '';\n",
              "          dataTable['output_type'] = 'display_data';\n",
              "          await google.colab.output.renderOutput(dataTable, element);\n",
              "          const docLink = document.createElement('div');\n",
              "          docLink.innerHTML = docLinkHtml;\n",
              "          element.appendChild(docLink);\n",
              "        }\n",
              "      </script>\n",
              "    </div>\n",
              "  </div>\n",
              "  "
            ]
          },
          "metadata": {},
          "execution_count": 58
        }
      ]
    },
    {
      "cell_type": "code",
      "source": [
        "# check min, max and mean prices for each Month feature\n",
        "df.groupby('Month').aggregate({'Open' : [min, max, 'mean'], 'High' : [min, max, 'mean'], 'Low' : [min, max, 'mean'], 'Close' : [min, max, 'mean']})"
      ],
      "metadata": {
        "colab": {
          "base_uri": "https://localhost:8080/",
          "height": 488
        },
        "id": "K0ULHIVDgPG5",
        "outputId": "7c7436f3-96c8-48b6-e0c9-924438ff9426"
      },
      "execution_count": 59,
      "outputs": [
        {
          "output_type": "execute_result",
          "data": {
            "text/plain": [
              "        Open                       High                        Low          \\\n",
              "         min     max        mean    min     max        mean    min     max   \n",
              "Month                                                                        \n",
              "1      13.68  314.00  100.928000  17.16  366.00  117.346667  11.48  307.35   \n",
              "2      12.19  355.00  109.134667  12.50  366.50  116.035333   9.90  304.65   \n",
              "3      10.00  320.70  108.150667  11.24  325.80  123.670667   5.55  285.10   \n",
              "4      10.04  309.60  113.044000  17.51  368.75  125.709333   9.94  303.30   \n",
              "5      15.94  362.85  114.589333  21.80  364.40  122.090000  14.76  325.70   \n",
              "6      18.20  348.00  113.268000  18.40  350.10  118.471333  13.40  327.35   \n",
              "7      13.00  340.00  103.891250  14.00  393.35  117.493750  11.10  332.45   \n",
              "8      12.00  369.95  108.481875  14.88  404.00  116.064375  11.85  338.00   \n",
              "9      13.48  351.00  103.691875  14.87  383.25  114.283750  12.27  345.50   \n",
              "10     13.20  354.60   93.815625  14.01  375.75  109.928125  11.01  299.00   \n",
              "11     12.41  315.50   97.975000  13.88  329.80  105.645000  11.25  296.00   \n",
              "12     12.40  307.20  100.850000  14.44  319.00  107.654000  11.13  300.65   \n",
              "\n",
              "                   Close                      \n",
              "             mean    min     max        mean  \n",
              "Month                                         \n",
              "1       93.766000  12.24  354.45  108.774667  \n",
              "2       98.238667  10.26  322.25  107.760667  \n",
              "3       98.524000   9.98  309.82  113.014000  \n",
              "4      102.284667  15.45  362.05  114.450000  \n",
              "5      102.404667  18.03  346.20  112.874667  \n",
              "6      102.642000  15.62  339.60  109.661333  \n",
              "7       96.206250  11.95  367.90  108.322500  \n",
              "8       95.777500  13.42  351.15  103.386875  \n",
              "9       85.735625  13.15  350.00   93.343750  \n",
              "10      85.361875  12.42  314.35   97.399375  \n",
              "11      87.251875  12.26  306.80   94.671250  \n",
              "12      92.808000  13.71  315.05  100.724000  "
            ],
            "text/html": [
              "\n",
              "  <div id=\"df-c1bf5729-dac5-409b-bf59-1ba0d481f422\">\n",
              "    <div class=\"colab-df-container\">\n",
              "      <div>\n",
              "<style scoped>\n",
              "    .dataframe tbody tr th:only-of-type {\n",
              "        vertical-align: middle;\n",
              "    }\n",
              "\n",
              "    .dataframe tbody tr th {\n",
              "        vertical-align: top;\n",
              "    }\n",
              "\n",
              "    .dataframe thead tr th {\n",
              "        text-align: left;\n",
              "    }\n",
              "\n",
              "    .dataframe thead tr:last-of-type th {\n",
              "        text-align: right;\n",
              "    }\n",
              "</style>\n",
              "<table border=\"1\" class=\"dataframe\">\n",
              "  <thead>\n",
              "    <tr>\n",
              "      <th></th>\n",
              "      <th colspan=\"3\" halign=\"left\">Open</th>\n",
              "      <th colspan=\"3\" halign=\"left\">High</th>\n",
              "      <th colspan=\"3\" halign=\"left\">Low</th>\n",
              "      <th colspan=\"3\" halign=\"left\">Close</th>\n",
              "    </tr>\n",
              "    <tr>\n",
              "      <th></th>\n",
              "      <th>min</th>\n",
              "      <th>max</th>\n",
              "      <th>mean</th>\n",
              "      <th>min</th>\n",
              "      <th>max</th>\n",
              "      <th>mean</th>\n",
              "      <th>min</th>\n",
              "      <th>max</th>\n",
              "      <th>mean</th>\n",
              "      <th>min</th>\n",
              "      <th>max</th>\n",
              "      <th>mean</th>\n",
              "    </tr>\n",
              "    <tr>\n",
              "      <th>Month</th>\n",
              "      <th></th>\n",
              "      <th></th>\n",
              "      <th></th>\n",
              "      <th></th>\n",
              "      <th></th>\n",
              "      <th></th>\n",
              "      <th></th>\n",
              "      <th></th>\n",
              "      <th></th>\n",
              "      <th></th>\n",
              "      <th></th>\n",
              "      <th></th>\n",
              "    </tr>\n",
              "  </thead>\n",
              "  <tbody>\n",
              "    <tr>\n",
              "      <th>1</th>\n",
              "      <td>13.68</td>\n",
              "      <td>314.00</td>\n",
              "      <td>100.928000</td>\n",
              "      <td>17.16</td>\n",
              "      <td>366.00</td>\n",
              "      <td>117.346667</td>\n",
              "      <td>11.48</td>\n",
              "      <td>307.35</td>\n",
              "      <td>93.766000</td>\n",
              "      <td>12.24</td>\n",
              "      <td>354.45</td>\n",
              "      <td>108.774667</td>\n",
              "    </tr>\n",
              "    <tr>\n",
              "      <th>2</th>\n",
              "      <td>12.19</td>\n",
              "      <td>355.00</td>\n",
              "      <td>109.134667</td>\n",
              "      <td>12.50</td>\n",
              "      <td>366.50</td>\n",
              "      <td>116.035333</td>\n",
              "      <td>9.90</td>\n",
              "      <td>304.65</td>\n",
              "      <td>98.238667</td>\n",
              "      <td>10.26</td>\n",
              "      <td>322.25</td>\n",
              "      <td>107.760667</td>\n",
              "    </tr>\n",
              "    <tr>\n",
              "      <th>3</th>\n",
              "      <td>10.00</td>\n",
              "      <td>320.70</td>\n",
              "      <td>108.150667</td>\n",
              "      <td>11.24</td>\n",
              "      <td>325.80</td>\n",
              "      <td>123.670667</td>\n",
              "      <td>5.55</td>\n",
              "      <td>285.10</td>\n",
              "      <td>98.524000</td>\n",
              "      <td>9.98</td>\n",
              "      <td>309.82</td>\n",
              "      <td>113.014000</td>\n",
              "    </tr>\n",
              "    <tr>\n",
              "      <th>4</th>\n",
              "      <td>10.04</td>\n",
              "      <td>309.60</td>\n",
              "      <td>113.044000</td>\n",
              "      <td>17.51</td>\n",
              "      <td>368.75</td>\n",
              "      <td>125.709333</td>\n",
              "      <td>9.94</td>\n",
              "      <td>303.30</td>\n",
              "      <td>102.284667</td>\n",
              "      <td>15.45</td>\n",
              "      <td>362.05</td>\n",
              "      <td>114.450000</td>\n",
              "    </tr>\n",
              "    <tr>\n",
              "      <th>5</th>\n",
              "      <td>15.94</td>\n",
              "      <td>362.85</td>\n",
              "      <td>114.589333</td>\n",
              "      <td>21.80</td>\n",
              "      <td>364.40</td>\n",
              "      <td>122.090000</td>\n",
              "      <td>14.76</td>\n",
              "      <td>325.70</td>\n",
              "      <td>102.404667</td>\n",
              "      <td>18.03</td>\n",
              "      <td>346.20</td>\n",
              "      <td>112.874667</td>\n",
              "    </tr>\n",
              "    <tr>\n",
              "      <th>6</th>\n",
              "      <td>18.20</td>\n",
              "      <td>348.00</td>\n",
              "      <td>113.268000</td>\n",
              "      <td>18.40</td>\n",
              "      <td>350.10</td>\n",
              "      <td>118.471333</td>\n",
              "      <td>13.40</td>\n",
              "      <td>327.35</td>\n",
              "      <td>102.642000</td>\n",
              "      <td>15.62</td>\n",
              "      <td>339.60</td>\n",
              "      <td>109.661333</td>\n",
              "    </tr>\n",
              "    <tr>\n",
              "      <th>7</th>\n",
              "      <td>13.00</td>\n",
              "      <td>340.00</td>\n",
              "      <td>103.891250</td>\n",
              "      <td>14.00</td>\n",
              "      <td>393.35</td>\n",
              "      <td>117.493750</td>\n",
              "      <td>11.10</td>\n",
              "      <td>332.45</td>\n",
              "      <td>96.206250</td>\n",
              "      <td>11.95</td>\n",
              "      <td>367.90</td>\n",
              "      <td>108.322500</td>\n",
              "    </tr>\n",
              "    <tr>\n",
              "      <th>8</th>\n",
              "      <td>12.00</td>\n",
              "      <td>369.95</td>\n",
              "      <td>108.481875</td>\n",
              "      <td>14.88</td>\n",
              "      <td>404.00</td>\n",
              "      <td>116.064375</td>\n",
              "      <td>11.85</td>\n",
              "      <td>338.00</td>\n",
              "      <td>95.777500</td>\n",
              "      <td>13.42</td>\n",
              "      <td>351.15</td>\n",
              "      <td>103.386875</td>\n",
              "    </tr>\n",
              "    <tr>\n",
              "      <th>9</th>\n",
              "      <td>13.48</td>\n",
              "      <td>351.00</td>\n",
              "      <td>103.691875</td>\n",
              "      <td>14.87</td>\n",
              "      <td>383.25</td>\n",
              "      <td>114.283750</td>\n",
              "      <td>12.27</td>\n",
              "      <td>345.50</td>\n",
              "      <td>85.735625</td>\n",
              "      <td>13.15</td>\n",
              "      <td>350.00</td>\n",
              "      <td>93.343750</td>\n",
              "    </tr>\n",
              "    <tr>\n",
              "      <th>10</th>\n",
              "      <td>13.20</td>\n",
              "      <td>354.60</td>\n",
              "      <td>93.815625</td>\n",
              "      <td>14.01</td>\n",
              "      <td>375.75</td>\n",
              "      <td>109.928125</td>\n",
              "      <td>11.01</td>\n",
              "      <td>299.00</td>\n",
              "      <td>85.361875</td>\n",
              "      <td>12.42</td>\n",
              "      <td>314.35</td>\n",
              "      <td>97.399375</td>\n",
              "    </tr>\n",
              "    <tr>\n",
              "      <th>11</th>\n",
              "      <td>12.41</td>\n",
              "      <td>315.50</td>\n",
              "      <td>97.975000</td>\n",
              "      <td>13.88</td>\n",
              "      <td>329.80</td>\n",
              "      <td>105.645000</td>\n",
              "      <td>11.25</td>\n",
              "      <td>296.00</td>\n",
              "      <td>87.251875</td>\n",
              "      <td>12.26</td>\n",
              "      <td>306.80</td>\n",
              "      <td>94.671250</td>\n",
              "    </tr>\n",
              "    <tr>\n",
              "      <th>12</th>\n",
              "      <td>12.40</td>\n",
              "      <td>307.20</td>\n",
              "      <td>100.850000</td>\n",
              "      <td>14.44</td>\n",
              "      <td>319.00</td>\n",
              "      <td>107.654000</td>\n",
              "      <td>11.13</td>\n",
              "      <td>300.65</td>\n",
              "      <td>92.808000</td>\n",
              "      <td>13.71</td>\n",
              "      <td>315.05</td>\n",
              "      <td>100.724000</td>\n",
              "    </tr>\n",
              "  </tbody>\n",
              "</table>\n",
              "</div>\n",
              "      <button class=\"colab-df-convert\" onclick=\"convertToInteractive('df-c1bf5729-dac5-409b-bf59-1ba0d481f422')\"\n",
              "              title=\"Convert this dataframe to an interactive table.\"\n",
              "              style=\"display:none;\">\n",
              "        \n",
              "  <svg xmlns=\"http://www.w3.org/2000/svg\" height=\"24px\"viewBox=\"0 0 24 24\"\n",
              "       width=\"24px\">\n",
              "    <path d=\"M0 0h24v24H0V0z\" fill=\"none\"/>\n",
              "    <path d=\"M18.56 5.44l.94 2.06.94-2.06 2.06-.94-2.06-.94-.94-2.06-.94 2.06-2.06.94zm-11 1L8.5 8.5l.94-2.06 2.06-.94-2.06-.94L8.5 2.5l-.94 2.06-2.06.94zm10 10l.94 2.06.94-2.06 2.06-.94-2.06-.94-.94-2.06-.94 2.06-2.06.94z\"/><path d=\"M17.41 7.96l-1.37-1.37c-.4-.4-.92-.59-1.43-.59-.52 0-1.04.2-1.43.59L10.3 9.45l-7.72 7.72c-.78.78-.78 2.05 0 2.83L4 21.41c.39.39.9.59 1.41.59.51 0 1.02-.2 1.41-.59l7.78-7.78 2.81-2.81c.8-.78.8-2.07 0-2.86zM5.41 20L4 18.59l7.72-7.72 1.47 1.35L5.41 20z\"/>\n",
              "  </svg>\n",
              "      </button>\n",
              "      \n",
              "  <style>\n",
              "    .colab-df-container {\n",
              "      display:flex;\n",
              "      flex-wrap:wrap;\n",
              "      gap: 12px;\n",
              "    }\n",
              "\n",
              "    .colab-df-convert {\n",
              "      background-color: #E8F0FE;\n",
              "      border: none;\n",
              "      border-radius: 50%;\n",
              "      cursor: pointer;\n",
              "      display: none;\n",
              "      fill: #1967D2;\n",
              "      height: 32px;\n",
              "      padding: 0 0 0 0;\n",
              "      width: 32px;\n",
              "    }\n",
              "\n",
              "    .colab-df-convert:hover {\n",
              "      background-color: #E2EBFA;\n",
              "      box-shadow: 0px 1px 2px rgba(60, 64, 67, 0.3), 0px 1px 3px 1px rgba(60, 64, 67, 0.15);\n",
              "      fill: #174EA6;\n",
              "    }\n",
              "\n",
              "    [theme=dark] .colab-df-convert {\n",
              "      background-color: #3B4455;\n",
              "      fill: #D2E3FC;\n",
              "    }\n",
              "\n",
              "    [theme=dark] .colab-df-convert:hover {\n",
              "      background-color: #434B5C;\n",
              "      box-shadow: 0px 1px 3px 1px rgba(0, 0, 0, 0.15);\n",
              "      filter: drop-shadow(0px 1px 2px rgba(0, 0, 0, 0.3));\n",
              "      fill: #FFFFFF;\n",
              "    }\n",
              "  </style>\n",
              "\n",
              "      <script>\n",
              "        const buttonEl =\n",
              "          document.querySelector('#df-c1bf5729-dac5-409b-bf59-1ba0d481f422 button.colab-df-convert');\n",
              "        buttonEl.style.display =\n",
              "          google.colab.kernel.accessAllowed ? 'block' : 'none';\n",
              "\n",
              "        async function convertToInteractive(key) {\n",
              "          const element = document.querySelector('#df-c1bf5729-dac5-409b-bf59-1ba0d481f422');\n",
              "          const dataTable =\n",
              "            await google.colab.kernel.invokeFunction('convertToInteractive',\n",
              "                                                     [key], {});\n",
              "          if (!dataTable) return;\n",
              "\n",
              "          const docLinkHtml = 'Like what you see? Visit the ' +\n",
              "            '<a target=\"_blank\" href=https://colab.research.google.com/notebooks/data_table.ipynb>data table notebook</a>'\n",
              "            + ' to learn more about interactive tables.';\n",
              "          element.innerHTML = '';\n",
              "          dataTable['output_type'] = 'display_data';\n",
              "          await google.colab.output.renderOutput(dataTable, element);\n",
              "          const docLink = document.createElement('div');\n",
              "          docLink.innerHTML = docLinkHtml;\n",
              "          element.appendChild(docLink);\n",
              "        }\n",
              "      </script>\n",
              "    </div>\n",
              "  </div>\n",
              "  "
            ]
          },
          "metadata": {},
          "execution_count": 59
        }
      ]
    },
    {
      "cell_type": "code",
      "source": [
        "# check min, max and mean prices for each Quarter feature\n",
        "df.groupby('Quarter').aggregate({'Open' : [min, max, 'mean'], 'High' : [min, max, 'mean'], 'Low' : [min, max, 'mean'], 'Close' : [min, max, 'mean']})"
      ],
      "metadata": {
        "colab": {
          "base_uri": "https://localhost:8080/",
          "height": 238
        },
        "id": "sa8lUBWqgW0s",
        "outputId": "2db336cb-4b45-4988-cc27-d2a2e692b2ed"
      },
      "execution_count": 60,
      "outputs": [
        {
          "output_type": "execute_result",
          "data": {
            "text/plain": [
              "          Open                       High                        Low          \\\n",
              "           min     max        mean    min     max        mean    min     max   \n",
              "Quarter                                                                        \n",
              "1        10.00  355.00  106.071111  11.24  366.50  119.017556   5.55  307.35   \n",
              "2        10.04  362.85  113.633778  17.51  368.75  122.090222   9.94  327.35   \n",
              "3        12.00  369.95  105.355000  14.00  404.00  115.947292  11.10  345.50   \n",
              "4        12.40  354.60   97.476596  13.88  375.75  107.744255  11.01  300.65   \n",
              "\n",
              "                     Close                      \n",
              "               mean    min     max        mean  \n",
              "Quarter                                         \n",
              "1         96.842889   9.98  354.45  109.849778  \n",
              "2        102.443778  15.45  362.05  112.328667  \n",
              "3         92.573125  11.95  367.90  101.684375  \n",
              "4         88.381702  12.26  315.05   97.531702  "
            ],
            "text/html": [
              "\n",
              "  <div id=\"df-aaf91549-e127-4657-aef1-c3e38bc31b81\">\n",
              "    <div class=\"colab-df-container\">\n",
              "      <div>\n",
              "<style scoped>\n",
              "    .dataframe tbody tr th:only-of-type {\n",
              "        vertical-align: middle;\n",
              "    }\n",
              "\n",
              "    .dataframe tbody tr th {\n",
              "        vertical-align: top;\n",
              "    }\n",
              "\n",
              "    .dataframe thead tr th {\n",
              "        text-align: left;\n",
              "    }\n",
              "\n",
              "    .dataframe thead tr:last-of-type th {\n",
              "        text-align: right;\n",
              "    }\n",
              "</style>\n",
              "<table border=\"1\" class=\"dataframe\">\n",
              "  <thead>\n",
              "    <tr>\n",
              "      <th></th>\n",
              "      <th colspan=\"3\" halign=\"left\">Open</th>\n",
              "      <th colspan=\"3\" halign=\"left\">High</th>\n",
              "      <th colspan=\"3\" halign=\"left\">Low</th>\n",
              "      <th colspan=\"3\" halign=\"left\">Close</th>\n",
              "    </tr>\n",
              "    <tr>\n",
              "      <th></th>\n",
              "      <th>min</th>\n",
              "      <th>max</th>\n",
              "      <th>mean</th>\n",
              "      <th>min</th>\n",
              "      <th>max</th>\n",
              "      <th>mean</th>\n",
              "      <th>min</th>\n",
              "      <th>max</th>\n",
              "      <th>mean</th>\n",
              "      <th>min</th>\n",
              "      <th>max</th>\n",
              "      <th>mean</th>\n",
              "    </tr>\n",
              "    <tr>\n",
              "      <th>Quarter</th>\n",
              "      <th></th>\n",
              "      <th></th>\n",
              "      <th></th>\n",
              "      <th></th>\n",
              "      <th></th>\n",
              "      <th></th>\n",
              "      <th></th>\n",
              "      <th></th>\n",
              "      <th></th>\n",
              "      <th></th>\n",
              "      <th></th>\n",
              "      <th></th>\n",
              "    </tr>\n",
              "  </thead>\n",
              "  <tbody>\n",
              "    <tr>\n",
              "      <th>1</th>\n",
              "      <td>10.00</td>\n",
              "      <td>355.00</td>\n",
              "      <td>106.071111</td>\n",
              "      <td>11.24</td>\n",
              "      <td>366.50</td>\n",
              "      <td>119.017556</td>\n",
              "      <td>5.55</td>\n",
              "      <td>307.35</td>\n",
              "      <td>96.842889</td>\n",
              "      <td>9.98</td>\n",
              "      <td>354.45</td>\n",
              "      <td>109.849778</td>\n",
              "    </tr>\n",
              "    <tr>\n",
              "      <th>2</th>\n",
              "      <td>10.04</td>\n",
              "      <td>362.85</td>\n",
              "      <td>113.633778</td>\n",
              "      <td>17.51</td>\n",
              "      <td>368.75</td>\n",
              "      <td>122.090222</td>\n",
              "      <td>9.94</td>\n",
              "      <td>327.35</td>\n",
              "      <td>102.443778</td>\n",
              "      <td>15.45</td>\n",
              "      <td>362.05</td>\n",
              "      <td>112.328667</td>\n",
              "    </tr>\n",
              "    <tr>\n",
              "      <th>3</th>\n",
              "      <td>12.00</td>\n",
              "      <td>369.95</td>\n",
              "      <td>105.355000</td>\n",
              "      <td>14.00</td>\n",
              "      <td>404.00</td>\n",
              "      <td>115.947292</td>\n",
              "      <td>11.10</td>\n",
              "      <td>345.50</td>\n",
              "      <td>92.573125</td>\n",
              "      <td>11.95</td>\n",
              "      <td>367.90</td>\n",
              "      <td>101.684375</td>\n",
              "    </tr>\n",
              "    <tr>\n",
              "      <th>4</th>\n",
              "      <td>12.40</td>\n",
              "      <td>354.60</td>\n",
              "      <td>97.476596</td>\n",
              "      <td>13.88</td>\n",
              "      <td>375.75</td>\n",
              "      <td>107.744255</td>\n",
              "      <td>11.01</td>\n",
              "      <td>300.65</td>\n",
              "      <td>88.381702</td>\n",
              "      <td>12.26</td>\n",
              "      <td>315.05</td>\n",
              "      <td>97.531702</td>\n",
              "    </tr>\n",
              "  </tbody>\n",
              "</table>\n",
              "</div>\n",
              "      <button class=\"colab-df-convert\" onclick=\"convertToInteractive('df-aaf91549-e127-4657-aef1-c3e38bc31b81')\"\n",
              "              title=\"Convert this dataframe to an interactive table.\"\n",
              "              style=\"display:none;\">\n",
              "        \n",
              "  <svg xmlns=\"http://www.w3.org/2000/svg\" height=\"24px\"viewBox=\"0 0 24 24\"\n",
              "       width=\"24px\">\n",
              "    <path d=\"M0 0h24v24H0V0z\" fill=\"none\"/>\n",
              "    <path d=\"M18.56 5.44l.94 2.06.94-2.06 2.06-.94-2.06-.94-.94-2.06-.94 2.06-2.06.94zm-11 1L8.5 8.5l.94-2.06 2.06-.94-2.06-.94L8.5 2.5l-.94 2.06-2.06.94zm10 10l.94 2.06.94-2.06 2.06-.94-2.06-.94-.94-2.06-.94 2.06-2.06.94z\"/><path d=\"M17.41 7.96l-1.37-1.37c-.4-.4-.92-.59-1.43-.59-.52 0-1.04.2-1.43.59L10.3 9.45l-7.72 7.72c-.78.78-.78 2.05 0 2.83L4 21.41c.39.39.9.59 1.41.59.51 0 1.02-.2 1.41-.59l7.78-7.78 2.81-2.81c.8-.78.8-2.07 0-2.86zM5.41 20L4 18.59l7.72-7.72 1.47 1.35L5.41 20z\"/>\n",
              "  </svg>\n",
              "      </button>\n",
              "      \n",
              "  <style>\n",
              "    .colab-df-container {\n",
              "      display:flex;\n",
              "      flex-wrap:wrap;\n",
              "      gap: 12px;\n",
              "    }\n",
              "\n",
              "    .colab-df-convert {\n",
              "      background-color: #E8F0FE;\n",
              "      border: none;\n",
              "      border-radius: 50%;\n",
              "      cursor: pointer;\n",
              "      display: none;\n",
              "      fill: #1967D2;\n",
              "      height: 32px;\n",
              "      padding: 0 0 0 0;\n",
              "      width: 32px;\n",
              "    }\n",
              "\n",
              "    .colab-df-convert:hover {\n",
              "      background-color: #E2EBFA;\n",
              "      box-shadow: 0px 1px 2px rgba(60, 64, 67, 0.3), 0px 1px 3px 1px rgba(60, 64, 67, 0.15);\n",
              "      fill: #174EA6;\n",
              "    }\n",
              "\n",
              "    [theme=dark] .colab-df-convert {\n",
              "      background-color: #3B4455;\n",
              "      fill: #D2E3FC;\n",
              "    }\n",
              "\n",
              "    [theme=dark] .colab-df-convert:hover {\n",
              "      background-color: #434B5C;\n",
              "      box-shadow: 0px 1px 3px 1px rgba(0, 0, 0, 0.15);\n",
              "      filter: drop-shadow(0px 1px 2px rgba(0, 0, 0, 0.3));\n",
              "      fill: #FFFFFF;\n",
              "    }\n",
              "  </style>\n",
              "\n",
              "      <script>\n",
              "        const buttonEl =\n",
              "          document.querySelector('#df-aaf91549-e127-4657-aef1-c3e38bc31b81 button.colab-df-convert');\n",
              "        buttonEl.style.display =\n",
              "          google.colab.kernel.accessAllowed ? 'block' : 'none';\n",
              "\n",
              "        async function convertToInteractive(key) {\n",
              "          const element = document.querySelector('#df-aaf91549-e127-4657-aef1-c3e38bc31b81');\n",
              "          const dataTable =\n",
              "            await google.colab.kernel.invokeFunction('convertToInteractive',\n",
              "                                                     [key], {});\n",
              "          if (!dataTable) return;\n",
              "\n",
              "          const docLinkHtml = 'Like what you see? Visit the ' +\n",
              "            '<a target=\"_blank\" href=https://colab.research.google.com/notebooks/data_table.ipynb>data table notebook</a>'\n",
              "            + ' to learn more about interactive tables.';\n",
              "          element.innerHTML = '';\n",
              "          dataTable['output_type'] = 'display_data';\n",
              "          await google.colab.output.renderOutput(dataTable, element);\n",
              "          const docLink = document.createElement('div');\n",
              "          docLink.innerHTML = docLinkHtml;\n",
              "          element.appendChild(docLink);\n",
              "        }\n",
              "      </script>\n",
              "    </div>\n",
              "  </div>\n",
              "  "
            ]
          },
          "metadata": {},
          "execution_count": 60
        }
      ]
    },
    {
      "cell_type": "markdown",
      "source": [
        "### What all manipulations have you done and insights you found?"
      ],
      "metadata": {
        "id": "MSa1f5Uengrz"
      }
    },
    {
      "cell_type": "markdown",
      "source": [
        "> To summerize the objective of data wrangling process, we have to split it into four phases.\n",
        "\n",
        ">> 1. Null/Missing value handling\n",
        ">> 2. Duplicate value dectection\n",
        ">> 3. Data type correction & new feature creation\n",
        ">> 4. Outlier analysis\n",
        "\n",
        "> In the first phase we have came to the coclusion that the data set is free form the null/missing values.\n",
        "\n",
        "> In the second phase we conclude that there are no duplicates in the dataset\n",
        "\n",
        "> In the third phase, we discover that the data type of the `Date` feature is string, and all the other feature having correct data types. So we have convert the data type of required feature to proper`YYYY-MM-DD` format. & added each part as new feature.\n",
        "\n",
        "> In the last phase we have analyze the outlier in the dataset using boxplot and came to conclusion that, there are no outliers present in the dataset"
      ],
      "metadata": {
        "id": "LbyXE7I1olp8"
      }
    },
    {
      "cell_type": "markdown",
      "source": [
        "## ***4. Data Vizualization, Storytelling & Experimenting with charts : Understand the relationships between variables***\n",
        "<hr>\n",
        "\n",
        ">Data visualization is a powerful tool that enables us to make sense of complex datasets and communicate insights in a clear and engaging manner. By experimenting with different types of charts, we can gain a deeper understanding of the relationships between variables and uncover patterns and trends that may be difficult to discern from raw data alone. When done effectively, data visualization can also be used to tell a compelling story that helps stakeholders understand the key takeaways from a dataset. By combining data visualization and storytelling, we can create a narrative that not only conveys important insights but also resonates with the audience on an emotional level. Ultimately, the goal of data visualization is to create a visual representation of data that is both informative and impactful, enabling us to make informed decisions based on a deeper understanding of the data.\n",
        "\n",
        "> We follow the `UBM` rule to analyze the patterns in the datset.\n",
        ">> Univariate Analysis<br>\n",
        ">> Bivariate Analysis<br>\n",
        ">> Multivariate Analysis<br>"
      ],
      "metadata": {
        "id": "GF8Ens_Soomf"
      }
    },
    {
      "cell_type": "markdown",
      "source": [
        "### ▶ Univarate Analysis\n",
        "\n",
        ">It involves the examination of one variable at a time. \n",
        "This type of analysis is useful for understanding the distribution of a single variable and identifying \n",
        "any patterns or trends in the data."
      ],
      "metadata": {
        "id": "JRySJAUom5Fl"
      }
    },
    {
      "cell_type": "markdown",
      "source": [
        "#### Chart - 1 - Using distplot checking the distribution of `Open` feature"
      ],
      "metadata": {
        "id": "0wOQAZs5pc--"
      }
    },
    {
      "cell_type": "code",
      "source": [
        "# Checking distribution of 'Open' feature\n",
        "plt.figure(figsize = (10,5))\n",
        "sns.distplot(df['Open'])\n",
        "plt.axvline(np.mean(df['Open']),color='r', linestyle='--')\n",
        "plt.axvline(np.median(df['Open']),color='b', linestyle='--')"
      ],
      "metadata": {
        "id": "7v_ESjsspbW7",
        "colab": {
          "base_uri": "https://localhost:8080/",
          "height": 351
        },
        "outputId": "3bdf7f89-03bd-4e78-9deb-4f957521e283"
      },
      "execution_count": 111,
      "outputs": [
        {
          "output_type": "execute_result",
          "data": {
            "text/plain": [
              "<matplotlib.lines.Line2D at 0x7f35af32bf40>"
            ]
          },
          "metadata": {},
          "execution_count": 111
        },
        {
          "output_type": "display_data",
          "data": {
            "text/plain": [
              "<Figure size 720x360 with 1 Axes>"
            ],
            "image/png": "[encoded data removed]"
          },
          "metadata": {
            "needs_background": "light"
          }
        }
      ]
    },
    {
      "cell_type": "markdown",
      "source": [
        ">Hence, from above plot we see that the distribution if rightly skewed.\n",
        "\n",
        "> <b>Let's apply the log transformation to the distribution.</b>\n",
        "\n",
        ">>The log transformation is, arguably, the most popular among the different types of transformations used to transform skewed data to approximately conform to normality. If the original data follows a log-normal distribution or approximately so, then the log-transformed data follows a normal or near normal distribution."
      ],
      "metadata": {
        "id": "5n7oz4ystFpy"
      }
    },
    {
      "cell_type": "code",
      "source": [
        "# Apply log transformation it has right skewed distribution\n",
        "plt.figure(figsize = (10,5))\n",
        "sns.distplot(np.log(df['Open']))"
      ],
      "metadata": {
        "colab": {
          "base_uri": "https://localhost:8080/",
          "height": 351
        },
        "id": "aGBAc-sfuAPP",
        "outputId": "eb5228cb-a6ca-4b37-9c7e-ea3605c6f0a5"
      },
      "execution_count": 115,
      "outputs": [
        {
          "output_type": "execute_result",
          "data": {
            "text/plain": [
              "<AxesSubplot:xlabel='Open', ylabel='Density'>"
            ]
          },
          "metadata": {},
          "execution_count": 115
        },
        {
          "output_type": "display_data",
          "data": {
            "text/plain": [
              "<Figure size 720x360 with 1 Axes>"
            ],
            "image/png": "[encoded data removed]"
          },
          "metadata": {
            "needs_background": "light"
          }
        }
      ]
    },
    {
      "cell_type": "markdown",
      "source": [
        "##### 1. Why did you pick the specific chart?"
      ],
      "metadata": {
        "id": "K5QZ13OEpz2H"
      }
    },
    {
      "cell_type": "markdown",
      "source": [
        ">As our objective is to get the idea of the distribution. So to fullfill this requirement the distplolt with kde curve is best visulization, as it give the better idea of feature's observations."
      ],
      "metadata": {
        "id": "XESiWehPqBRc"
      }
    },
    {
      "cell_type": "markdown",
      "source": [
        "##### 2. What is/are the insight(s) found from the chart?"
      ],
      "metadata": {
        "id": "lQ7QKXXCp7Bj"
      }
    },
    {
      "cell_type": "markdown",
      "source": [
        "> The observations are right skewed.<br>\n",
        "> After doing the log transformation the destribution becomes the normal"
      ],
      "metadata": {
        "id": "C_j1G7yiqdRP"
      }
    },
    {
      "cell_type": "markdown",
      "source": [
        "##### 3. Will the gained insights help creating a positive business impact? \n",
        "Are there any insights that lead to negative growth? Justify with specific reason."
      ],
      "metadata": {
        "id": "448CDAPjqfQr"
      }
    },
    {
      "cell_type": "markdown",
      "source": [
        "> Not much specific in this context"
      ],
      "metadata": {
        "id": "3cspy4FjqxJW"
      }
    },
    {
      "cell_type": "markdown",
      "source": [
        "#### Chart - 2 - Using distplot checking the distribution of `High` feature"
      ],
      "metadata": {
        "id": "KSlN3yHqYklG"
      }
    },
    {
      "cell_type": "code",
      "source": [
        "# Checking distribution of 'High' variable\n",
        "plt.figure(figsize = (10,5))\n",
        "sns.distplot(df['High'])\n",
        "plt.axvline(np.mean(df['High']),color='r', linestyle='--')\n",
        "plt.axvline(np.median(df['High']),color='b', linestyle='--')"
      ],
      "metadata": {
        "id": "R4YgtaqtYklH",
        "colab": {
          "base_uri": "https://localhost:8080/",
          "height": 351
        },
        "outputId": "47800a67-5607-4245-836e-051e065e56d5"
      },
      "execution_count": 116,
      "outputs": [
        {
          "output_type": "execute_result",
          "data": {
            "text/plain": [
              "<matplotlib.lines.Line2D at 0x7f35af0fbcd0>"
            ]
          },
          "metadata": {},
          "execution_count": 116
        },
        {
          "output_type": "display_data",
          "data": {
            "text/plain": [
              "<Figure size 720x360 with 1 Axes>"
            ],
            "image/png": "[encoded data removed]"
          },
          "metadata": {
            "needs_background": "light"
          }
        }
      ]
    },
    {
      "cell_type": "markdown",
      "source": [
        "> Here, also the distribution is positively skewed.\n",
        "\n",
        "> Let's apply the log transformation."
      ],
      "metadata": {
        "id": "MyRjTwMFSWF0"
      }
    },
    {
      "cell_type": "code",
      "source": [
        "# Apply log transformation it has right skewed distribution\n",
        "plt.figure(figsize = (10,5))\n",
        "sns.distplot(np.log(df['High']))"
      ],
      "metadata": {
        "colab": {
          "base_uri": "https://localhost:8080/",
          "height": 351
        },
        "id": "rOVoy315Skq8",
        "outputId": "e251938d-4c5c-437e-db6d-326d323b6eba"
      },
      "execution_count": 117,
      "outputs": [
        {
          "output_type": "execute_result",
          "data": {
            "text/plain": [
              "<AxesSubplot:xlabel='High', ylabel='Density'>"
            ]
          },
          "metadata": {},
          "execution_count": 117
        },
        {
          "output_type": "display_data",
          "data": {
            "text/plain": [
              "<Figure size 720x360 with 1 Axes>"
            ],
            "image/png": "[encoded data removed]"
          },
          "metadata": {
            "needs_background": "light"
          }
        }
      ]
    },
    {
      "cell_type": "markdown",
      "source": [
        "##### 1. Why did you pick the specific chart?"
      ],
      "metadata": {
        "id": "t6dVpIINYklI"
      }
    },
    {
      "cell_type": "markdown",
      "source": [
        "> As our objective is to get the idea of the distribution. So to fullfill this requirement the distplolt with kde curve is best visulization, as it give the better idea of feature's observations."
      ],
      "metadata": {
        "id": "5aaW0BYyYklI"
      }
    },
    {
      "cell_type": "markdown",
      "source": [
        "##### 2. What is/are the insight(s) found from the chart?"
      ],
      "metadata": {
        "id": "ijmpgYnKYklI"
      }
    },
    {
      "cell_type": "markdown",
      "source": [
        ">The observations are right skewed.<br>\n",
        ">After doing the log transformation the destribution becomes the normal"
      ],
      "metadata": {
        "id": "PSx9atu2YklI"
      }
    },
    {
      "cell_type": "markdown",
      "source": [
        "##### 3. Will the gained insights help creating a positive business impact? \n",
        "Are there any insights that lead to negative growth? Justify with specific reason."
      ],
      "metadata": {
        "id": "-JiQyfWJYklI"
      }
    },
    {
      "cell_type": "markdown",
      "source": [
        ">Not much specific in this context"
      ],
      "metadata": {
        "id": "BcBbebzrYklV"
      }
    },
    {
      "cell_type": "markdown",
      "source": [
        "#### Chart - 3 - Using distplot checking the distribution of `Low` feature\n"
      ],
      "metadata": {
        "id": "EM7whBJCYoAo"
      }
    },
    {
      "cell_type": "code",
      "source": [
        "# Checking distribution of 'Low' variable\n",
        "plt.figure(figsize = (10,5))\n",
        "sns.distplot(df['Low'])\n",
        "plt.axvline(np.mean(df['Low']),color='r', linestyle='--')\n",
        "plt.axvline(np.median(df['Low']),color='b', linestyle='--')"
      ],
      "metadata": {
        "id": "t6GMdE67YoAp",
        "colab": {
          "base_uri": "https://localhost:8080/",
          "height": 351
        },
        "outputId": "1d235e6b-9c60-4795-a195-58beb9f37db6"
      },
      "execution_count": 118,
      "outputs": [
        {
          "output_type": "execute_result",
          "data": {
            "text/plain": [
              "<matplotlib.lines.Line2D at 0x7f35aeff1f40>"
            ]
          },
          "metadata": {},
          "execution_count": 118
        },
        {
          "output_type": "display_data",
          "data": {
            "text/plain": [
              "<Figure size 720x360 with 1 Axes>"
            ],
            "image/png": "[encoded data removed]"
          },
          "metadata": {
            "needs_background": "light"
          }
        }
      ]
    },
    {
      "cell_type": "markdown",
      "source": [
        "> It is a right skewed distribution<br>\n",
        "> Let's apply the log transformation."
      ],
      "metadata": {
        "id": "sLDObuNWU_rV"
      }
    },
    {
      "cell_type": "code",
      "source": [
        "# Apply log transformation it has right skewed distribution\n",
        "plt.figure(figsize = (10,5))\n",
        "sns.distplot(np.log(df['Low']))"
      ],
      "metadata": {
        "colab": {
          "base_uri": "https://localhost:8080/",
          "height": 352
        },
        "id": "GD0mVKJ4VQu7",
        "outputId": "366c612e-9d69-488f-806f-32510bba318a"
      },
      "execution_count": 119,
      "outputs": [
        {
          "output_type": "execute_result",
          "data": {
            "text/plain": [
              "<AxesSubplot:xlabel='Low', ylabel='Density'>"
            ]
          },
          "metadata": {},
          "execution_count": 119
        },
        {
          "output_type": "display_data",
          "data": {
            "text/plain": [
              "<Figure size 720x360 with 1 Axes>"
            ],
            "image/png": "[encoded data removed]"
          },
          "metadata": {
            "needs_background": "light"
          }
        }
      ]
    },
    {
      "cell_type": "markdown",
      "source": [
        "##### 1. Why did you pick the specific chart?"
      ],
      "metadata": {
        "id": "fge-S5ZAYoAp"
      }
    },
    {
      "cell_type": "markdown",
      "source": [
        ">As our objective is to get the idea of the distribution. So to fullfill this requirement the distplolt with kde curve is best visulization, as it give the better idea of feature's observations."
      ],
      "metadata": {
        "id": "5dBItgRVYoAp"
      }
    },
    {
      "cell_type": "markdown",
      "source": [
        "##### 2. What is/are the insight(s) found from the chart?"
      ],
      "metadata": {
        "id": "85gYPyotYoAp"
      }
    },
    {
      "cell_type": "markdown",
      "source": [
        ">The observations are right skewed.<br>\n",
        ">After doing the log transformation the destribution becomes the normal"
      ],
      "metadata": {
        "id": "4jstXR6OYoAp"
      }
    },
    {
      "cell_type": "markdown",
      "source": [
        "##### 3. Will the gained insights help creating a positive business impact? \n",
        "Are there any insights that lead to negative growth? Justify with specific reason."
      ],
      "metadata": {
        "id": "RoGjAbkUYoAp"
      }
    },
    {
      "cell_type": "markdown",
      "source": [
        ">Not much specific in this context"
      ],
      "metadata": {
        "id": "zfJ8IqMcYoAp"
      }
    },
    {
      "cell_type": "markdown",
      "source": [
        "#### Chart - 4 - Using distplot checking the distribution of `Close` feature"
      ],
      "metadata": {
        "id": "4Of9eVA-YrdM"
      }
    },
    {
      "cell_type": "code",
      "source": [
        "# Checking distribution of 'Close' variable\n",
        "plt.figure(figsize = (10,5))\n",
        "sns.distplot(df['Close'])\n",
        "plt.axvline(np.mean(df['Close']),color='r', linestyle='--')\n",
        "plt.axvline(np.median(df['Close']),color='b', linestyle='--')"
      ],
      "metadata": {
        "id": "irlUoxc8YrdO",
        "colab": {
          "base_uri": "https://localhost:8080/",
          "height": 351
        },
        "outputId": "917c0cda-7ef1-4a46-c4d4-c2ac98fa7c80"
      },
      "execution_count": 120,
      "outputs": [
        {
          "output_type": "execute_result",
          "data": {
            "text/plain": [
              "<matplotlib.lines.Line2D at 0x7f35aef02d00>"
            ]
          },
          "metadata": {},
          "execution_count": 120
        },
        {
          "output_type": "display_data",
          "data": {
            "text/plain": [
              "<Figure size 720x360 with 1 Axes>"
            ],
            "image/png": "[encoded data removed]"
          },
          "metadata": {
            "needs_background": "light"
          }
        }
      ]
    },
    {
      "cell_type": "markdown",
      "source": [
        "> It's a right skewed distribution"
      ],
      "metadata": {
        "id": "kgCvNDLYWhGp"
      }
    },
    {
      "cell_type": "code",
      "source": [
        "# Apply log transformation it has right skewed distribution\n",
        "plt.figure(figsize = (10,5))\n",
        "sns.distplot(np.log(df['Close']))"
      ],
      "metadata": {
        "colab": {
          "base_uri": "https://localhost:8080/",
          "height": 351
        },
        "id": "o6o_oj7JWsiw",
        "outputId": "8d4a35fc-ebdd-4f21-ac3b-10ae1575a3e6"
      },
      "execution_count": 121,
      "outputs": [
        {
          "output_type": "execute_result",
          "data": {
            "text/plain": [
              "<AxesSubplot:xlabel='Close', ylabel='Density'>"
            ]
          },
          "metadata": {},
          "execution_count": 121
        },
        {
          "output_type": "display_data",
          "data": {
            "text/plain": [
              "<Figure size 720x360 with 1 Axes>"
            ],
            "image/png": "[encoded data removed]"
          },
          "metadata": {
            "needs_background": "light"
          }
        }
      ]
    },
    {
      "cell_type": "markdown",
      "source": [
        "##### 1. Why did you pick the specific chart?"
      ],
      "metadata": {
        "id": "iky9q4vBYrdO"
      }
    },
    {
      "cell_type": "markdown",
      "source": [
        ">As our objective is to get the idea of the distribution. So to fullfill this requirement the distplolt with kde curve is best visulization, as it give the better idea of feature's observations."
      ],
      "metadata": {
        "id": "aJRCwT6DYrdO"
      }
    },
    {
      "cell_type": "markdown",
      "source": [
        "##### 2. What is/are the insight(s) found from the chart?"
      ],
      "metadata": {
        "id": "F6T5p64dYrdO"
      }
    },
    {
      "cell_type": "markdown",
      "source": [
        ">The observations are right skewed.<br>\n",
        ">After doing the log transformation the destribution becomes the normal"
      ],
      "metadata": {
        "id": "Xx8WAJvtYrdO"
      }
    },
    {
      "cell_type": "markdown",
      "source": [
        "##### 3. Will the gained insights help creating a positive business impact? \n",
        "Are there any insights that lead to negative growth? Justify with specific reason."
      ],
      "metadata": {
        "id": "y-Ehk30pYrdP"
      }
    },
    {
      "cell_type": "markdown",
      "source": [
        ">Not much specific in this context"
      ],
      "metadata": {
        "id": "jLNxxz7MYrdP"
      }
    },
    {
      "cell_type": "markdown",
      "source": [
        "### ▶ Bivariate Analysis\n",
        "\n",
        ">It involves the examination of the relationship between two variables. This type of analysis is useful for identifying any correlations or associations between the variables being analyzed.\n"
      ],
      "metadata": {
        "id": "sd_7f18uX-9C"
      }
    },
    {
      "cell_type": "markdown",
      "source": [
        "#### Chart - 5 - reg plot between `Open-Close`feature"
      ],
      "metadata": {
        "id": "bamQiAODYuh1"
      }
    },
    {
      "cell_type": "code",
      "source": [
        "# Reg plot to check the relation between 'Open' and the dependent variable 'Close'\n",
        "plt.figure(figsize = (8,5))\n",
        "sns.regplot(df['Open'], df['Close'])"
      ],
      "metadata": {
        "id": "TIJwrbroYuh3",
        "colab": {
          "base_uri": "https://localhost:8080/",
          "height": 351
        },
        "outputId": "7aaf0a3c-0221-4c58-f5c3-222e97e71874"
      },
      "execution_count": 124,
      "outputs": [
        {
          "output_type": "execute_result",
          "data": {
            "text/plain": [
              "<AxesSubplot:xlabel='Open', ylabel='Close'>"
            ]
          },
          "metadata": {},
          "execution_count": 124
        },
        {
          "output_type": "display_data",
          "data": {
            "text/plain": [
              "<Figure size 576x360 with 1 Axes>"
            ],
            "image/png": "[encoded data removed]"
          },
          "metadata": {
            "needs_background": "light"
          }
        }
      ]
    },
    {
      "cell_type": "markdown",
      "source": [
        "##### 1. Why did you pick the specific chart?"
      ],
      "metadata": {
        "id": "QHF8YVU7Yuh3"
      }
    },
    {
      "cell_type": "markdown",
      "source": [
        ">Regplot is very good at visualizing linear relation between two variables. And also gives us better understanding of how data points are packed together"
      ],
      "metadata": {
        "id": "dcxuIMRPYuh3"
      }
    },
    {
      "cell_type": "markdown",
      "source": [
        "##### 2. What is/are the insight(s) found from the chart?"
      ],
      "metadata": {
        "id": "GwzvFGzlYuh3"
      }
    },
    {
      "cell_type": "markdown",
      "source": [
        "> There is strong linear relationship between `Open` and `Close` feature."
      ],
      "metadata": {
        "id": "uyqkiB8YYuh3"
      }
    },
    {
      "cell_type": "markdown",
      "source": [
        "##### 3. Will the gained insights help creating a positive business impact? \n",
        "Are there any insights that lead to negative growth? Justify with specific reason."
      ],
      "metadata": {
        "id": "qYpmQ266Yuh3"
      }
    },
    {
      "cell_type": "markdown",
      "source": [
        "> The given feature may highly contribute to the dependent feature, ofcourse it can be inviscate further."
      ],
      "metadata": {
        "id": "_WtzZ_hCYuh4"
      }
    },
    {
      "cell_type": "markdown",
      "source": [
        "#### Chart - 6 -  reg plot between `High-Close` feature"
      ],
      "metadata": {
        "id": "OH-pJp9IphqM"
      }
    },
    {
      "cell_type": "code",
      "source": [
        "# Reg plot to check the relation between 'High' and the dependent variable 'Close'\n",
        "plt.figure(figsize = (8,5))\n",
        "sns.regplot(df['High'], df['Close'])"
      ],
      "metadata": {
        "id": "kuRf4wtuphqN",
        "colab": {
          "base_uri": "https://localhost:8080/",
          "height": 351
        },
        "outputId": "fbb4e384-40da-4b09-d8ce-6b4c5e5a1604"
      },
      "execution_count": 125,
      "outputs": [
        {
          "output_type": "execute_result",
          "data": {
            "text/plain": [
              "<AxesSubplot:xlabel='High', ylabel='Close'>"
            ]
          },
          "metadata": {},
          "execution_count": 125
        },
        {
          "output_type": "display_data",
          "data": {
            "text/plain": [
              "<Figure size 576x360 with 1 Axes>"
            ],
            "image/png": "[encoded data removed]"
          },
          "metadata": {
            "needs_background": "light"
          }
        }
      ]
    },
    {
      "cell_type": "markdown",
      "source": [
        "##### 1. Why did you pick the specific chart?"
      ],
      "metadata": {
        "id": "bbFf2-_FphqN"
      }
    },
    {
      "cell_type": "markdown",
      "source": [
        ">Regplot is very good at visualizing linear relation between two variables. And also gives us better understanding of how data points are packed together"
      ],
      "metadata": {
        "id": "loh7H2nzphqN"
      }
    },
    {
      "cell_type": "markdown",
      "source": [
        "##### 2. What is/are the insight(s) found from the chart?"
      ],
      "metadata": {
        "id": "_ouA3fa0phqN"
      }
    },
    {
      "cell_type": "markdown",
      "source": [
        ">There is strong linear relationship between `High` and `Close` feature."
      ],
      "metadata": {
        "id": "VECbqPI7phqN"
      }
    },
    {
      "cell_type": "markdown",
      "source": [
        "##### 3. Will the gained insights help creating a positive business impact? \n",
        "Are there any insights that lead to negative growth? Justify with specific reason."
      ],
      "metadata": {
        "id": "Seke61FWphqN"
      }
    },
    {
      "cell_type": "markdown",
      "source": [
        ">The given feature may highly contribute to the dependent feature, ofcourse it can be inviscate further."
      ],
      "metadata": {
        "id": "DW4_bGpfphqN"
      }
    },
    {
      "cell_type": "markdown",
      "source": [
        "#### Chart - 7 - reg plot between `Low-Close` feature"
      ],
      "metadata": {
        "id": "PIIx-8_IphqN"
      }
    },
    {
      "cell_type": "code",
      "source": [
        "# Reg plot to check the relation between 'Low' and the dependent variable 'Close'\n",
        "plt.figure(figsize = (8,5))\n",
        "sns.regplot(df['Low'], df['Close'])"
      ],
      "metadata": {
        "id": "lqAIGUfyphqO",
        "colab": {
          "base_uri": "https://localhost:8080/",
          "height": 354
        },
        "outputId": "8903822a-8612-47ab-9947-f433e1d31257"
      },
      "execution_count": 126,
      "outputs": [
        {
          "output_type": "execute_result",
          "data": {
            "text/plain": [
              "<AxesSubplot:xlabel='Low', ylabel='Close'>"
            ]
          },
          "metadata": {},
          "execution_count": 126
        },
        {
          "output_type": "display_data",
          "data": {
            "text/plain": [
              "<Figure size 576x360 with 1 Axes>"
            ],
            "image/png": "[encoded data removed]"
          },
          "metadata": {
            "needs_background": "light"
          }
        }
      ]
    },
    {
      "cell_type": "markdown",
      "source": [
        "##### 1. Why did you pick the specific chart?"
      ],
      "metadata": {
        "id": "t27r6nlMphqO"
      }
    },
    {
      "cell_type": "markdown",
      "source": [
        ">Regplot is very good at visualizing linear relation between two variables. And also gives us better understanding of how data points are packed together"
      ],
      "metadata": {
        "id": "iv6ro40sphqO"
      }
    },
    {
      "cell_type": "markdown",
      "source": [
        "##### 2. What is/are the insight(s) found from the chart?"
      ],
      "metadata": {
        "id": "r2jJGEOYphqO"
      }
    },
    {
      "cell_type": "markdown",
      "source": [
        ">There is strong linear relationship between `Low` and `Close` feature."
      ],
      "metadata": {
        "id": "Po6ZPi4hphqO"
      }
    },
    {
      "cell_type": "markdown",
      "source": [
        "##### 3. Will the gained insights help creating a positive business impact? \n",
        "Are there any insights that lead to negative growth? Justify with specific reason."
      ],
      "metadata": {
        "id": "b0JNsNcRphqO"
      }
    },
    {
      "cell_type": "markdown",
      "source": [
        ">The given feature may highly contribute to the dependent feature, ofcourse it can be inviscate further."
      ],
      "metadata": {
        "id": "xvSq8iUTphqO"
      }
    },
    {
      "cell_type": "markdown",
      "source": [
        "#### Chart - 8 - reg plot between `Year-Close` feature"
      ],
      "metadata": {
        "id": "BZR9WyysphqO"
      }
    },
    {
      "cell_type": "code",
      "source": [
        "# Reg plot to check the relation between 'Year' and the dependent variable 'Close'\n",
        "plt.figure(figsize = (8,5))\n",
        "sns.regplot(df['Year'], df['Close'])"
      ],
      "metadata": {
        "id": "TdPTWpAVphqO",
        "colab": {
          "base_uri": "https://localhost:8080/",
          "height": 351
        },
        "outputId": "af0c4629-925e-4577-85a5-6c0fe4b68ba5"
      },
      "execution_count": 127,
      "outputs": [
        {
          "output_type": "execute_result",
          "data": {
            "text/plain": [
              "<AxesSubplot:xlabel='Year', ylabel='Close'>"
            ]
          },
          "metadata": {},
          "execution_count": 127
        },
        {
          "output_type": "display_data",
          "data": {
            "text/plain": [
              "<Figure size 576x360 with 1 Axes>"
            ],
            "image/png": "[encoded data removed]"
          },
          "metadata": {
            "needs_background": "light"
          }
        }
      ]
    },
    {
      "cell_type": "markdown",
      "source": [
        "##### 1. Why did you pick the specific chart?"
      ],
      "metadata": {
        "id": "jj7wYXLtphqO"
      }
    },
    {
      "cell_type": "markdown",
      "source": [
        ">Regplot is very good at visualizing linear relation between two variables. And also gives us better understanding of how data points are packed together"
      ],
      "metadata": {
        "id": "Ob8u6rCTphqO"
      }
    },
    {
      "cell_type": "markdown",
      "source": [
        "##### 2. What is/are the insight(s) found from the chart?"
      ],
      "metadata": {
        "id": "eZrbJ2SmphqO"
      }
    },
    {
      "cell_type": "markdown",
      "source": [
        ">Price is going up with year, unless something unusual hppens."
      ],
      "metadata": {
        "id": "mZtgC_hjphqO"
      }
    },
    {
      "cell_type": "markdown",
      "source": [
        "##### 3. Will the gained insights help creating a positive business impact? \n",
        "Are there any insights that lead to negative growth? Justify with specific reason."
      ],
      "metadata": {
        "id": "rFu4xreNphqO"
      }
    },
    {
      "cell_type": "markdown",
      "source": [
        "> Unless any exteranal factor influence, the prices show the a positive relationships between the features."
      ],
      "metadata": {
        "id": "ey_0qi68phqO"
      }
    },
    {
      "cell_type": "markdown",
      "source": [
        "### Chart - 9"
      ],
      "metadata": {
        "id": "YJ55k-q6phqO"
      }
    },
    {
      "cell_type": "code",
      "source": [
        "# Chart - 9 visualization code"
      ],
      "metadata": {
        "id": "B2aS4O1ophqO"
      },
      "execution_count": 69,
      "outputs": []
    },
    {
      "cell_type": "markdown",
      "source": [
        "##### 1. Why did you pick the specific chart?"
      ],
      "metadata": {
        "id": "gCFgpxoyphqP"
      }
    },
    {
      "cell_type": "markdown",
      "source": [
        "Answer Here."
      ],
      "metadata": {
        "id": "TVxDimi2phqP"
      }
    },
    {
      "cell_type": "markdown",
      "source": [
        "##### 2. What is/are the insight(s) found from the chart?"
      ],
      "metadata": {
        "id": "OVtJsKN_phqQ"
      }
    },
    {
      "cell_type": "markdown",
      "source": [
        "Answer Here"
      ],
      "metadata": {
        "id": "ngGi97qjphqQ"
      }
    },
    {
      "cell_type": "markdown",
      "source": [
        "##### 3. Will the gained insights help creating a positive business impact? \n",
        "Are there any insights that lead to negative growth? Justify with specific reason."
      ],
      "metadata": {
        "id": "lssrdh5qphqQ"
      }
    },
    {
      "cell_type": "markdown",
      "source": [
        "Answer Here"
      ],
      "metadata": {
        "id": "tBpY5ekJphqQ"
      }
    },
    {
      "cell_type": "markdown",
      "source": [
        "### Chart - 10"
      ],
      "metadata": {
        "id": "U2RJ9gkRphqQ"
      }
    },
    {
      "cell_type": "code",
      "source": [
        "# Chart - 10 visualization code"
      ],
      "metadata": {
        "id": "GM7a4YP4phqQ"
      },
      "execution_count": 70,
      "outputs": []
    },
    {
      "cell_type": "markdown",
      "source": [
        "##### 1. Why did you pick the specific chart?"
      ],
      "metadata": {
        "id": "1M8mcRywphqQ"
      }
    },
    {
      "cell_type": "markdown",
      "source": [
        "Answer Here."
      ],
      "metadata": {
        "id": "8agQvks0phqQ"
      }
    },
    {
      "cell_type": "markdown",
      "source": [
        "##### 2. What is/are the insight(s) found from the chart?"
      ],
      "metadata": {
        "id": "tgIPom80phqQ"
      }
    },
    {
      "cell_type": "markdown",
      "source": [
        "Answer Here"
      ],
      "metadata": {
        "id": "Qp13pnNzphqQ"
      }
    },
    {
      "cell_type": "markdown",
      "source": [
        "##### 3. Will the gained insights help creating a positive business impact? \n",
        "Are there any insights that lead to negative growth? Justify with specific reason."
      ],
      "metadata": {
        "id": "JMzcOPDDphqR"
      }
    },
    {
      "cell_type": "markdown",
      "source": [
        "Answer Here"
      ],
      "metadata": {
        "id": "R4Ka1PC2phqR"
      }
    },
    {
      "cell_type": "markdown",
      "source": [
        "### Chart - 11"
      ],
      "metadata": {
        "id": "x-EpHcCOp1ci"
      }
    },
    {
      "cell_type": "code",
      "source": [
        "# Chart - 11 visualization code"
      ],
      "metadata": {
        "id": "mAQTIvtqp1cj"
      },
      "execution_count": 71,
      "outputs": []
    },
    {
      "cell_type": "markdown",
      "source": [
        "##### 1. Why did you pick the specific chart?"
      ],
      "metadata": {
        "id": "X_VqEhTip1ck"
      }
    },
    {
      "cell_type": "markdown",
      "source": [
        "Answer Here."
      ],
      "metadata": {
        "id": "-vsMzt_np1ck"
      }
    },
    {
      "cell_type": "markdown",
      "source": [
        "##### 2. What is/are the insight(s) found from the chart?"
      ],
      "metadata": {
        "id": "8zGJKyg5p1ck"
      }
    },
    {
      "cell_type": "markdown",
      "source": [
        "Answer Here"
      ],
      "metadata": {
        "id": "ZYdMsrqVp1ck"
      }
    },
    {
      "cell_type": "markdown",
      "source": [
        "##### 3. Will the gained insights help creating a positive business impact? \n",
        "Are there any insights that lead to negative growth? Justify with specific reason."
      ],
      "metadata": {
        "id": "PVzmfK_Ep1ck"
      }
    },
    {
      "cell_type": "markdown",
      "source": [
        "Answer Here"
      ],
      "metadata": {
        "id": "druuKYZpp1ck"
      }
    },
    {
      "cell_type": "markdown",
      "source": [
        "### Chart - 12"
      ],
      "metadata": {
        "id": "n3dbpmDWp1ck"
      }
    },
    {
      "cell_type": "code",
      "source": [
        "# Chart - 12 visualization code"
      ],
      "metadata": {
        "id": "bwevp1tKp1ck"
      },
      "execution_count": 72,
      "outputs": []
    },
    {
      "cell_type": "markdown",
      "source": [
        "##### 1. Why did you pick the specific chart?"
      ],
      "metadata": {
        "id": "ylSl6qgtp1ck"
      }
    },
    {
      "cell_type": "markdown",
      "source": [
        "Answer Here."
      ],
      "metadata": {
        "id": "m2xqNkiQp1ck"
      }
    },
    {
      "cell_type": "markdown",
      "source": [
        "##### 2. What is/are the insight(s) found from the chart?"
      ],
      "metadata": {
        "id": "ZWILFDl5p1ck"
      }
    },
    {
      "cell_type": "markdown",
      "source": [
        "Answer Here"
      ],
      "metadata": {
        "id": "x-lUsV2mp1ck"
      }
    },
    {
      "cell_type": "markdown",
      "source": [
        "##### 3. Will the gained insights help creating a positive business impact? \n",
        "Are there any insights that lead to negative growth? Justify with specific reason."
      ],
      "metadata": {
        "id": "M7G43BXep1ck"
      }
    },
    {
      "cell_type": "markdown",
      "source": [
        "Answer Here"
      ],
      "metadata": {
        "id": "5wwDJXsLp1cl"
      }
    },
    {
      "cell_type": "markdown",
      "source": [
        "### Chart - 13"
      ],
      "metadata": {
        "id": "Ag9LCva-p1cl"
      }
    },
    {
      "cell_type": "code",
      "source": [
        "# Chart - 13 visualization code"
      ],
      "metadata": {
        "id": "EUfxeq9-p1cl"
      },
      "execution_count": 73,
      "outputs": []
    },
    {
      "cell_type": "markdown",
      "source": [
        "##### 1. Why did you pick the specific chart?"
      ],
      "metadata": {
        "id": "E6MkPsBcp1cl"
      }
    },
    {
      "cell_type": "markdown",
      "source": [
        "Answer Here."
      ],
      "metadata": {
        "id": "V22bRsFWp1cl"
      }
    },
    {
      "cell_type": "markdown",
      "source": [
        "##### 2. What is/are the insight(s) found from the chart?"
      ],
      "metadata": {
        "id": "2cELzS2fp1cl"
      }
    },
    {
      "cell_type": "markdown",
      "source": [
        "Answer Here"
      ],
      "metadata": {
        "id": "ozQPc2_Ip1cl"
      }
    },
    {
      "cell_type": "markdown",
      "source": [
        "##### 3. Will the gained insights help creating a positive business impact? \n",
        "Are there any insights that lead to negative growth? Justify with specific reason."
      ],
      "metadata": {
        "id": "3MPXvC8up1cl"
      }
    },
    {
      "cell_type": "markdown",
      "source": [
        "Answer Here"
      ],
      "metadata": {
        "id": "GL8l1tdLp1cl"
      }
    },
    {
      "cell_type": "markdown",
      "source": [
        "### Chart - 14 - Correlation Heatmap"
      ],
      "metadata": {
        "id": "NC_X3p0fY2L0"
      }
    },
    {
      "cell_type": "code",
      "source": [
        "# Correlation Heatmap visualization code"
      ],
      "metadata": {
        "id": "xyC9zolEZNRQ"
      },
      "execution_count": 74,
      "outputs": []
    },
    {
      "cell_type": "markdown",
      "source": [
        "##### 1. Why did you pick the specific chart?"
      ],
      "metadata": {
        "id": "UV0SzAkaZNRQ"
      }
    },
    {
      "cell_type": "markdown",
      "source": [
        "Answer Here."
      ],
      "metadata": {
        "id": "DVPuT8LYZNRQ"
      }
    },
    {
      "cell_type": "markdown",
      "source": [
        "##### 2. What is/are the insight(s) found from the chart?"
      ],
      "metadata": {
        "id": "YPEH6qLeZNRQ"
      }
    },
    {
      "cell_type": "markdown",
      "source": [
        "Answer Here"
      ],
      "metadata": {
        "id": "bfSqtnDqZNRR"
      }
    },
    {
      "cell_type": "markdown",
      "source": [
        "### Chart - 15 - Pair Plot "
      ],
      "metadata": {
        "id": "q29F0dvdveiT"
      }
    },
    {
      "cell_type": "code",
      "source": [
        "# Pair Plot visualization code"
      ],
      "metadata": {
        "id": "o58-TEIhveiU"
      },
      "execution_count": 75,
      "outputs": []
    },
    {
      "cell_type": "markdown",
      "source": [
        "##### 1. Why did you pick the specific chart?"
      ],
      "metadata": {
        "id": "EXh0U9oCveiU"
      }
    },
    {
      "cell_type": "markdown",
      "source": [
        "Answer Here."
      ],
      "metadata": {
        "id": "eMmPjTByveiU"
      }
    },
    {
      "cell_type": "markdown",
      "source": [
        "##### 2. What is/are the insight(s) found from the chart?"
      ],
      "metadata": {
        "id": "22aHeOlLveiV"
      }
    },
    {
      "cell_type": "markdown",
      "source": [
        "Answer Here"
      ],
      "metadata": {
        "id": "uPQ8RGwHveiV"
      }
    },
    {
      "cell_type": "markdown",
      "source": [
        "## ***5. Hypothesis Testing***\n",
        "<hr>"
      ],
      "metadata": {
        "id": "g-ATYxFrGrvw"
      }
    },
    {
      "cell_type": "markdown",
      "source": [
        "### Based on your chart experiments, define three hypothetical statements from the dataset. In the next three questions, perform hypothesis testing to obtain final conclusion about the statements through your code and statistical testing."
      ],
      "metadata": {
        "id": "Yfr_Vlr8HBkt"
      }
    },
    {
      "cell_type": "markdown",
      "source": [
        "Answer Here."
      ],
      "metadata": {
        "id": "-7MS06SUHkB-"
      }
    },
    {
      "cell_type": "markdown",
      "source": [
        "### Hypothetical Statement - 1"
      ],
      "metadata": {
        "id": "8yEUt7NnHlrM"
      }
    },
    {
      "cell_type": "markdown",
      "source": [
        "#### 1. State Your research hypothesis as a null hypothesis and alternate hypothesis."
      ],
      "metadata": {
        "id": "tEA2Xm5dHt1r"
      }
    },
    {
      "cell_type": "markdown",
      "source": [
        "Answer Here."
      ],
      "metadata": {
        "id": "HI9ZP0laH0D-"
      }
    },
    {
      "cell_type": "markdown",
      "source": [
        "#### 2. Perform an appropriate statistical test."
      ],
      "metadata": {
        "id": "I79__PHVH19G"
      }
    },
    {
      "cell_type": "code",
      "source": [
        "# Perform Statistical Test to obtain P-Value"
      ],
      "metadata": {
        "id": "oZrfquKtyian"
      },
      "execution_count": 76,
      "outputs": []
    },
    {
      "cell_type": "markdown",
      "source": [
        "##### Which statistical test have you done to obtain P-Value?"
      ],
      "metadata": {
        "id": "Ou-I18pAyIpj"
      }
    },
    {
      "cell_type": "markdown",
      "source": [
        "Answer Here."
      ],
      "metadata": {
        "id": "s2U0kk00ygSB"
      }
    },
    {
      "cell_type": "markdown",
      "source": [
        "##### Why did you choose the specific statistical test?"
      ],
      "metadata": {
        "id": "fF3858GYyt-u"
      }
    },
    {
      "cell_type": "markdown",
      "source": [
        "Answer Here."
      ],
      "metadata": {
        "id": "HO4K0gP5y3B4"
      }
    },
    {
      "cell_type": "markdown",
      "source": [
        "### Hypothetical Statement - 2"
      ],
      "metadata": {
        "id": "4_0_7-oCpUZd"
      }
    },
    {
      "cell_type": "markdown",
      "source": [
        "#### 1. State Your research hypothesis as a null hypothesis and alternate hypothesis."
      ],
      "metadata": {
        "id": "hwyV_J3ipUZe"
      }
    },
    {
      "cell_type": "markdown",
      "source": [
        "Answer Here."
      ],
      "metadata": {
        "id": "FnpLGJ-4pUZe"
      }
    },
    {
      "cell_type": "markdown",
      "source": [
        "#### 2. Perform an appropriate statistical test."
      ],
      "metadata": {
        "id": "3yB-zSqbpUZe"
      }
    },
    {
      "cell_type": "code",
      "source": [
        "# Perform Statistical Test to obtain P-Value"
      ],
      "metadata": {
        "id": "sWxdNTXNpUZe"
      },
      "execution_count": 77,
      "outputs": []
    },
    {
      "cell_type": "markdown",
      "source": [
        "##### Which statistical test have you done to obtain P-Value?"
      ],
      "metadata": {
        "id": "dEUvejAfpUZe"
      }
    },
    {
      "cell_type": "markdown",
      "source": [
        "Answer Here."
      ],
      "metadata": {
        "id": "oLDrPz7HpUZf"
      }
    },
    {
      "cell_type": "markdown",
      "source": [
        "##### Why did you choose the specific statistical test?"
      ],
      "metadata": {
        "id": "Fd15vwWVpUZf"
      }
    },
    {
      "cell_type": "markdown",
      "source": [
        "Answer Here."
      ],
      "metadata": {
        "id": "4xOGYyiBpUZf"
      }
    },
    {
      "cell_type": "markdown",
      "source": [
        "### Hypothetical Statement - 3"
      ],
      "metadata": {
        "id": "bn_IUdTipZyH"
      }
    },
    {
      "cell_type": "markdown",
      "source": [
        "#### 1. State Your research hypothesis as a null hypothesis and alternate hypothesis."
      ],
      "metadata": {
        "id": "49K5P_iCpZyH"
      }
    },
    {
      "cell_type": "markdown",
      "source": [
        "Answer Here."
      ],
      "metadata": {
        "id": "7gWI5rT9pZyH"
      }
    },
    {
      "cell_type": "markdown",
      "source": [
        "#### 2. Perform an appropriate statistical test."
      ],
      "metadata": {
        "id": "Nff-vKELpZyI"
      }
    },
    {
      "cell_type": "code",
      "source": [
        "# Perform Statistical Test to obtain P-Value"
      ],
      "metadata": {
        "id": "s6AnJQjtpZyI"
      },
      "execution_count": 78,
      "outputs": []
    },
    {
      "cell_type": "markdown",
      "source": [
        "##### Which statistical test have you done to obtain P-Value?"
      ],
      "metadata": {
        "id": "kLW572S8pZyI"
      }
    },
    {
      "cell_type": "markdown",
      "source": [
        "Answer Here."
      ],
      "metadata": {
        "id": "ytWJ8v15pZyI"
      }
    },
    {
      "cell_type": "markdown",
      "source": [
        "##### Why did you choose the specific statistical test?"
      ],
      "metadata": {
        "id": "dWbDXHzopZyI"
      }
    },
    {
      "cell_type": "markdown",
      "source": [
        "Answer Here."
      ],
      "metadata": {
        "id": "M99G98V6pZyI"
      }
    },
    {
      "cell_type": "markdown",
      "source": [
        "## ***6. Feature Engineering & Data Pre-processing***\n",
        "<hr>"
      ],
      "metadata": {
        "id": "yLjJCtPM0KBk"
      }
    },
    {
      "cell_type": "markdown",
      "source": [
        "### 1. Handling Missing Values"
      ],
      "metadata": {
        "id": "xiyOF9F70UgQ"
      }
    },
    {
      "cell_type": "code",
      "source": [
        "# Handling Missing Values & Missing Value Imputation"
      ],
      "metadata": {
        "id": "iRsAHk1K0fpS"
      },
      "execution_count": 79,
      "outputs": []
    },
    {
      "cell_type": "markdown",
      "source": [
        "#### What all missing value imputation techniques have you used and why did you use those techniques?"
      ],
      "metadata": {
        "id": "7wuGOrhz0itI"
      }
    },
    {
      "cell_type": "markdown",
      "source": [
        "Answer Here."
      ],
      "metadata": {
        "id": "1ixusLtI0pqI"
      }
    },
    {
      "cell_type": "markdown",
      "source": [
        "### 2. Handling Outliers"
      ],
      "metadata": {
        "id": "id1riN9m0vUs"
      }
    },
    {
      "cell_type": "code",
      "source": [
        "# Handling Outliers & Outlier treatments"
      ],
      "metadata": {
        "id": "M6w2CzZf04JK"
      },
      "execution_count": 80,
      "outputs": []
    },
    {
      "cell_type": "markdown",
      "source": [
        "##### What all outlier treatment techniques have you used and why did you use those techniques?"
      ],
      "metadata": {
        "id": "578E2V7j08f6"
      }
    },
    {
      "cell_type": "markdown",
      "source": [
        "Answer Here."
      ],
      "metadata": {
        "id": "uGZz5OrT1HH-"
      }
    },
    {
      "cell_type": "markdown",
      "source": [
        "### 3. Categorical Encoding"
      ],
      "metadata": {
        "id": "89xtkJwZ18nB"
      }
    },
    {
      "cell_type": "code",
      "source": [
        "# Encode your categorical columns"
      ],
      "metadata": {
        "id": "21JmIYMG2hEo"
      },
      "execution_count": 81,
      "outputs": []
    },
    {
      "cell_type": "markdown",
      "source": [
        "#### What all categorical encoding techniques have you used & why did you use those techniques?"
      ],
      "metadata": {
        "id": "67NQN5KX2AMe"
      }
    },
    {
      "cell_type": "markdown",
      "source": [
        "Answer Here."
      ],
      "metadata": {
        "id": "UDaue5h32n_G"
      }
    },
    {
      "cell_type": "markdown",
      "source": [
        "### 4. Textual Data Preprocessing \n",
        "(It's mandatory for textual dataset i.e., NLP, Sentiment Analysis, Text Clustering etc.)"
      ],
      "metadata": {
        "id": "Iwf50b-R2tYG"
      }
    },
    {
      "cell_type": "markdown",
      "source": [
        "#### 1. Expand Contraction"
      ],
      "metadata": {
        "id": "GMQiZwjn3iu7"
      }
    },
    {
      "cell_type": "code",
      "source": [
        "# Expand Contraction"
      ],
      "metadata": {
        "id": "PTouz10C3oNN"
      },
      "execution_count": 82,
      "outputs": []
    },
    {
      "cell_type": "markdown",
      "source": [
        "#### 2. Lower Casing"
      ],
      "metadata": {
        "id": "WVIkgGqN3qsr"
      }
    },
    {
      "cell_type": "code",
      "source": [
        "# Lower Casing"
      ],
      "metadata": {
        "id": "88JnJ1jN3w7j"
      },
      "execution_count": 83,
      "outputs": []
    },
    {
      "cell_type": "markdown",
      "source": [
        "#### 3. Removing Punctuations"
      ],
      "metadata": {
        "id": "XkPnILGE3zoT"
      }
    },
    {
      "cell_type": "code",
      "source": [
        "# Remove Punctuations"
      ],
      "metadata": {
        "id": "vqbBqNaA33c0"
      },
      "execution_count": 84,
      "outputs": []
    },
    {
      "cell_type": "markdown",
      "source": [
        "#### 4. Removing URLs & Removing words and digits contain digits."
      ],
      "metadata": {
        "id": "Hlsf0x5436Go"
      }
    },
    {
      "cell_type": "code",
      "source": [
        "# Remove URLs & Remove words and digits contain digits"
      ],
      "metadata": {
        "id": "2sxKgKxu4Ip3"
      },
      "execution_count": 85,
      "outputs": []
    },
    {
      "cell_type": "markdown",
      "source": [
        "#### 5. Removing Stopwords & Removing White spaces"
      ],
      "metadata": {
        "id": "mT9DMSJo4nBL"
      }
    },
    {
      "cell_type": "code",
      "source": [
        "# Remove Stopwords"
      ],
      "metadata": {
        "id": "T2LSJh154s8W"
      },
      "execution_count": 86,
      "outputs": []
    },
    {
      "cell_type": "code",
      "source": [
        "# Remove White spaces"
      ],
      "metadata": {
        "id": "EgLJGffy4vm0"
      },
      "execution_count": 87,
      "outputs": []
    },
    {
      "cell_type": "markdown",
      "source": [
        "#### 6. Rephrase Text"
      ],
      "metadata": {
        "id": "c49ITxTc407N"
      }
    },
    {
      "cell_type": "code",
      "source": [
        "# Rephrase Text"
      ],
      "metadata": {
        "id": "foqY80Qu48N2"
      },
      "execution_count": 88,
      "outputs": []
    },
    {
      "cell_type": "markdown",
      "source": [
        "#### 7. Tokenization"
      ],
      "metadata": {
        "id": "OeJFEK0N496M"
      }
    },
    {
      "cell_type": "code",
      "source": [
        "# Tokenization"
      ],
      "metadata": {
        "id": "ijx1rUOS5CUU"
      },
      "execution_count": 89,
      "outputs": []
    },
    {
      "cell_type": "markdown",
      "source": [
        "#### 8. Text Normalization"
      ],
      "metadata": {
        "id": "9ExmJH0g5HBk"
      }
    },
    {
      "cell_type": "code",
      "source": [
        "# Normalizing Text (i.e., Stemming, Lemmatization etc.)"
      ],
      "metadata": {
        "id": "AIJ1a-Zc5PY8"
      },
      "execution_count": 90,
      "outputs": []
    },
    {
      "cell_type": "markdown",
      "source": [
        "##### Which text normalization technique have you used and why?"
      ],
      "metadata": {
        "id": "cJNqERVU536h"
      }
    },
    {
      "cell_type": "markdown",
      "source": [
        "Answer Here."
      ],
      "metadata": {
        "id": "Z9jKVxE06BC1"
      }
    },
    {
      "cell_type": "markdown",
      "source": [
        "#### 9. Part of speech tagging"
      ],
      "metadata": {
        "id": "k5UmGsbsOxih"
      }
    },
    {
      "cell_type": "code",
      "source": [
        "# POS Taging"
      ],
      "metadata": {
        "id": "btT3ZJBAO6Ik"
      },
      "execution_count": 91,
      "outputs": []
    },
    {
      "cell_type": "markdown",
      "source": [
        "#### 10. Text Vectorization"
      ],
      "metadata": {
        "id": "T0VqWOYE6DLQ"
      }
    },
    {
      "cell_type": "code",
      "source": [
        "# Vectorizing Text"
      ],
      "metadata": {
        "id": "yBRtdhth6JDE"
      },
      "execution_count": 92,
      "outputs": []
    },
    {
      "cell_type": "markdown",
      "source": [
        "##### Which text vectorization technique have you used and why?"
      ],
      "metadata": {
        "id": "qBMux9mC6MCf"
      }
    },
    {
      "cell_type": "markdown",
      "source": [
        "Answer Here."
      ],
      "metadata": {
        "id": "su2EnbCh6UKQ"
      }
    },
    {
      "cell_type": "markdown",
      "source": [
        "### 4. Feature Manipulation & Selection"
      ],
      "metadata": {
        "id": "-oLEiFgy-5Pf"
      }
    },
    {
      "cell_type": "markdown",
      "source": [
        "#### 1. Feature Manipulation"
      ],
      "metadata": {
        "id": "C74aWNz2AliB"
      }
    },
    {
      "cell_type": "code",
      "source": [
        "# Manipulate Features to minimize feature correlation and create new features"
      ],
      "metadata": {
        "id": "h1qC4yhBApWC"
      },
      "execution_count": 93,
      "outputs": []
    },
    {
      "cell_type": "markdown",
      "source": [
        "#### 2. Feature Selection"
      ],
      "metadata": {
        "id": "2DejudWSA-a0"
      }
    },
    {
      "cell_type": "code",
      "source": [
        "# Select your features wisely to avoid overfitting"
      ],
      "metadata": {
        "id": "YLhe8UmaBCEE"
      },
      "execution_count": 94,
      "outputs": []
    },
    {
      "cell_type": "markdown",
      "source": [
        "##### What all feature selection methods have you used  and why?"
      ],
      "metadata": {
        "id": "pEMng2IbBLp7"
      }
    },
    {
      "cell_type": "markdown",
      "source": [
        "Answer Here."
      ],
      "metadata": {
        "id": "rb2Lh6Z8BgGs"
      }
    },
    {
      "cell_type": "markdown",
      "source": [
        "##### Which all features you found important and why?"
      ],
      "metadata": {
        "id": "rAdphbQ9Bhjc"
      }
    },
    {
      "cell_type": "markdown",
      "source": [
        "Answer Here."
      ],
      "metadata": {
        "id": "fGgaEstsBnaf"
      }
    },
    {
      "cell_type": "markdown",
      "source": [
        "### 5. Data Transformation"
      ],
      "metadata": {
        "id": "TNVZ9zx19K6k"
      }
    },
    {
      "cell_type": "markdown",
      "source": [
        "#### Do you think that your data needs to be transformed? If yes, which transformation have you used. Explain Why?"
      ],
      "metadata": {
        "id": "nqoHp30x9hH9"
      }
    },
    {
      "cell_type": "code",
      "source": [
        "# Transform Your data"
      ],
      "metadata": {
        "id": "I6quWQ1T9rtH"
      },
      "execution_count": 95,
      "outputs": []
    },
    {
      "cell_type": "markdown",
      "source": [
        "### 6. Data Scaling"
      ],
      "metadata": {
        "id": "rMDnDkt2B6du"
      }
    },
    {
      "cell_type": "code",
      "source": [
        "# Scaling your data"
      ],
      "metadata": {
        "id": "dL9LWpySC6x_"
      },
      "execution_count": 96,
      "outputs": []
    },
    {
      "cell_type": "markdown",
      "source": [
        "##### Which method have you used to scale you data and why?"
      ],
      "metadata": {
        "id": "yiiVWRdJDDil"
      }
    },
    {
      "cell_type": "markdown",
      "source": [
        "### 7. Dimesionality Reduction"
      ],
      "metadata": {
        "id": "1UUpS68QDMuG"
      }
    },
    {
      "cell_type": "markdown",
      "source": [
        "##### Do you think that dimensionality reduction is needed? Explain Why?"
      ],
      "metadata": {
        "id": "kexQrXU-DjzY"
      }
    },
    {
      "cell_type": "markdown",
      "source": [
        "Answer Here."
      ],
      "metadata": {
        "id": "GGRlBsSGDtTQ"
      }
    },
    {
      "cell_type": "code",
      "source": [
        "# DImensionality Reduction (If needed)"
      ],
      "metadata": {
        "id": "kQfvxBBHDvCa"
      },
      "execution_count": 97,
      "outputs": []
    },
    {
      "cell_type": "markdown",
      "source": [
        "##### Which dimensionality reduction technique have you used and why? (If dimensionality reduction done on dataset.)"
      ],
      "metadata": {
        "id": "T5CmagL3EC8N"
      }
    },
    {
      "cell_type": "markdown",
      "source": [
        "Answer Here."
      ],
      "metadata": {
        "id": "ZKr75IDuEM7t"
      }
    },
    {
      "cell_type": "markdown",
      "source": [
        "### 8. Data Splitting"
      ],
      "metadata": {
        "id": "BhH2vgX9EjGr"
      }
    },
    {
      "cell_type": "code",
      "source": [
        "# Split your data to train and test. Choose Splitting ratio wisely."
      ],
      "metadata": {
        "id": "0CTyd2UwEyNM"
      },
      "execution_count": 98,
      "outputs": []
    },
    {
      "cell_type": "markdown",
      "source": [
        "##### What data splitting ratio have you used and why? "
      ],
      "metadata": {
        "id": "qjKvONjwE8ra"
      }
    },
    {
      "cell_type": "markdown",
      "source": [
        "Answer Here."
      ],
      "metadata": {
        "id": "Y2lJ8cobFDb_"
      }
    },
    {
      "cell_type": "markdown",
      "source": [
        "### 9. Handling Imbalanced Dataset"
      ],
      "metadata": {
        "id": "P1XJ9OREExlT"
      }
    },
    {
      "cell_type": "markdown",
      "source": [
        "##### Do you think the dataset is imbalanced? Explain Why."
      ],
      "metadata": {
        "id": "VFOzZv6IFROw"
      }
    },
    {
      "cell_type": "markdown",
      "source": [
        "Answer Here."
      ],
      "metadata": {
        "id": "GeKDIv7pFgcC"
      }
    },
    {
      "cell_type": "code",
      "source": [
        "# Handling Imbalanced Dataset (If needed)"
      ],
      "metadata": {
        "id": "nQsRhhZLFiDs"
      },
      "execution_count": 99,
      "outputs": []
    },
    {
      "cell_type": "markdown",
      "source": [
        "##### What technique did you use to handle the imbalance dataset and why? (If needed to be balanced)"
      ],
      "metadata": {
        "id": "TIqpNgepFxVj"
      }
    },
    {
      "cell_type": "markdown",
      "source": [
        "Answer Here."
      ],
      "metadata": {
        "id": "qbet1HwdGDTz"
      }
    },
    {
      "cell_type": "markdown",
      "source": [
        "## ***7. ML Model Implementation***\n",
        "<hr>"
      ],
      "metadata": {
        "id": "VfCC591jGiD4"
      }
    },
    {
      "cell_type": "markdown",
      "source": [
        "### ML Model - 1"
      ],
      "metadata": {
        "id": "OB4l2ZhMeS1U"
      }
    },
    {
      "cell_type": "code",
      "source": [
        "# ML Model - 1 Implementation\n",
        "\n",
        "# Fit the Algorithm\n",
        "\n",
        "# Predict on the model"
      ],
      "metadata": {
        "id": "7ebyywQieS1U"
      },
      "execution_count": 100,
      "outputs": []
    },
    {
      "cell_type": "markdown",
      "source": [
        "#### 1. Explain the ML Model used and it's performance using Evaluation metric Score Chart."
      ],
      "metadata": {
        "id": "ArJBuiUVfxKd"
      }
    },
    {
      "cell_type": "code",
      "source": [
        "# Visualizing evaluation Metric Score chart"
      ],
      "metadata": {
        "id": "rqD5ZohzfxKe"
      },
      "execution_count": 101,
      "outputs": []
    },
    {
      "cell_type": "markdown",
      "source": [
        "#### 2. Cross- Validation & Hyperparameter Tuning"
      ],
      "metadata": {
        "id": "4qY1EAkEfxKe"
      }
    },
    {
      "cell_type": "code",
      "source": [
        "# ML Model - 1 Implementation with hyperparameter optimization techniques (i.e., GridSearch CV, RandomSearch CV, Bayesian Optimization etc.)\n",
        "\n",
        "# Fit the Algorithm\n",
        "\n",
        "# Predict on the model"
      ],
      "metadata": {
        "id": "Dy61ujd6fxKe"
      },
      "execution_count": 102,
      "outputs": []
    },
    {
      "cell_type": "markdown",
      "source": [
        "##### Which hyperparameter optimization technique have you used and why?"
      ],
      "metadata": {
        "id": "PiV4Ypx8fxKe"
      }
    },
    {
      "cell_type": "markdown",
      "source": [
        "Answer Here."
      ],
      "metadata": {
        "id": "negyGRa7fxKf"
      }
    },
    {
      "cell_type": "markdown",
      "source": [
        "##### Have you seen any improvement? Note down the improvement with updates Evaluation metric Score Chart."
      ],
      "metadata": {
        "id": "TfvqoZmBfxKf"
      }
    },
    {
      "cell_type": "markdown",
      "source": [
        "Answer Here."
      ],
      "metadata": {
        "id": "OaLui8CcfxKf"
      }
    },
    {
      "cell_type": "markdown",
      "source": [
        "### ML Model - 2"
      ],
      "metadata": {
        "id": "dJ2tPlVmpsJ0"
      }
    },
    {
      "cell_type": "markdown",
      "source": [
        "#### 1. Explain the ML Model used and it's performance using Evaluation metric Score Chart."
      ],
      "metadata": {
        "id": "JWYfwnehpsJ1"
      }
    },
    {
      "cell_type": "code",
      "source": [
        "# Visualizing evaluation Metric Score chart"
      ],
      "metadata": {
        "id": "yEl-hgQWpsJ1"
      },
      "execution_count": 103,
      "outputs": []
    },
    {
      "cell_type": "markdown",
      "source": [
        "#### 2. Cross- Validation & Hyperparameter Tuning"
      ],
      "metadata": {
        "id": "-jK_YjpMpsJ2"
      }
    },
    {
      "cell_type": "code",
      "source": [
        "# ML Model - 1 Implementation with hyperparameter optimization techniques (i.e., GridSearch CV, RandomSearch CV, Bayesian Optimization etc.)\n",
        "\n",
        "# Fit the Algorithm\n",
        "\n",
        "# Predict on the model"
      ],
      "metadata": {
        "id": "Dn0EOfS6psJ2"
      },
      "execution_count": 104,
      "outputs": []
    },
    {
      "cell_type": "markdown",
      "source": [
        "##### Which hyperparameter optimization technique have you used and why?"
      ],
      "metadata": {
        "id": "HAih1iBOpsJ2"
      }
    },
    {
      "cell_type": "markdown",
      "source": [
        "Answer Here."
      ],
      "metadata": {
        "id": "9kBgjYcdpsJ2"
      }
    },
    {
      "cell_type": "markdown",
      "source": [
        "##### Have you seen any improvement? Note down the improvement with updates Evaluation metric Score Chart."
      ],
      "metadata": {
        "id": "zVGeBEFhpsJ2"
      }
    },
    {
      "cell_type": "markdown",
      "source": [
        "Answer Here."
      ],
      "metadata": {
        "id": "74yRdG6UpsJ3"
      }
    },
    {
      "cell_type": "markdown",
      "source": [
        "#### 3. Explain each evaluation metric's indication towards business and the business impact pf the ML model used."
      ],
      "metadata": {
        "id": "bmKjuQ-FpsJ3"
      }
    },
    {
      "cell_type": "markdown",
      "source": [
        "Answer Here."
      ],
      "metadata": {
        "id": "BDKtOrBQpsJ3"
      }
    },
    {
      "cell_type": "markdown",
      "source": [
        "### ML Model - 3"
      ],
      "metadata": {
        "id": "Fze-IPXLpx6K"
      }
    },
    {
      "cell_type": "code",
      "source": [
        "# ML Model - 3 Implementation\n",
        "\n",
        "# Fit the Algorithm\n",
        "\n",
        "# Predict on the model"
      ],
      "metadata": {
        "id": "FFrSXAtrpx6M"
      },
      "execution_count": 105,
      "outputs": []
    },
    {
      "cell_type": "markdown",
      "source": [
        "#### 1. Explain the ML Model used and it's performance using Evaluation metric Score Chart."
      ],
      "metadata": {
        "id": "7AN1z2sKpx6M"
      }
    },
    {
      "cell_type": "code",
      "source": [
        "# Visualizing evaluation Metric Score chart"
      ],
      "metadata": {
        "id": "xIY4lxxGpx6M"
      },
      "execution_count": 106,
      "outputs": []
    },
    {
      "cell_type": "markdown",
      "source": [
        "#### 2. Cross- Validation & Hyperparameter Tuning"
      ],
      "metadata": {
        "id": "9PIHJqyupx6M"
      }
    },
    {
      "cell_type": "code",
      "source": [
        "# ML Model - 3 Implementation with hyperparameter optimization techniques (i.e., GridSearch CV, RandomSearch CV, Bayesian Optimization etc.)\n",
        "\n",
        "# Fit the Algorithm\n",
        "\n",
        "# Predict on the model"
      ],
      "metadata": {
        "id": "eSVXuaSKpx6M"
      },
      "execution_count": 107,
      "outputs": []
    },
    {
      "cell_type": "markdown",
      "source": [
        "##### Which hyperparameter optimization technique have you used and why?"
      ],
      "metadata": {
        "id": "_-qAgymDpx6N"
      }
    },
    {
      "cell_type": "markdown",
      "source": [
        "Answer Here."
      ],
      "metadata": {
        "id": "lQMffxkwpx6N"
      }
    },
    {
      "cell_type": "markdown",
      "source": [
        "##### Have you seen any improvement? Note down the improvement with updates Evaluation metric Score Chart."
      ],
      "metadata": {
        "id": "Z-hykwinpx6N"
      }
    },
    {
      "cell_type": "markdown",
      "source": [
        "Answer Here."
      ],
      "metadata": {
        "id": "MzVzZC6opx6N"
      }
    },
    {
      "cell_type": "markdown",
      "source": [
        "### 1. Which Evaluation metrics did you consider for a positive business impact and why?"
      ],
      "metadata": {
        "id": "h_CCil-SKHpo"
      }
    },
    {
      "cell_type": "markdown",
      "source": [
        "Answer Here."
      ],
      "metadata": {
        "id": "jHVz9hHDKFms"
      }
    },
    {
      "cell_type": "markdown",
      "source": [
        "### 2. Which ML model did you choose from the above created models as your final prediction model and why?"
      ],
      "metadata": {
        "id": "cBFFvTBNJzUa"
      }
    },
    {
      "cell_type": "markdown",
      "source": [
        "Answer Here."
      ],
      "metadata": {
        "id": "6ksF5Q1LKTVm"
      }
    },
    {
      "cell_type": "markdown",
      "source": [
        "### 3. Explain the model which you have used and the feature importance using any model explainability tool?"
      ],
      "metadata": {
        "id": "HvGl1hHyA_VK"
      }
    },
    {
      "cell_type": "markdown",
      "source": [
        "Answer Here."
      ],
      "metadata": {
        "id": "YnvVTiIxBL-C"
      }
    },
    {
      "cell_type": "markdown",
      "source": [
        "## ***8.*** ***Future Work (Optional)***\n",
        "<hr>"
      ],
      "metadata": {
        "id": "EyNgTHvd2WFk"
      }
    },
    {
      "cell_type": "markdown",
      "source": [
        "### 1. Save the best performing ml model in a pickle file or joblib file format for deployment process.\n"
      ],
      "metadata": {
        "id": "KH5McJBi2d8v"
      }
    },
    {
      "cell_type": "code",
      "source": [
        "# Save the File"
      ],
      "metadata": {
        "id": "bQIANRl32f4J"
      },
      "execution_count": 108,
      "outputs": []
    },
    {
      "cell_type": "markdown",
      "source": [
        "### 2. Again Load the saved model file and try to predict unseen data for a sanity check.\n"
      ],
      "metadata": {
        "id": "iW_Lq9qf2h6X"
      }
    },
    {
      "cell_type": "code",
      "source": [
        "# Load the File and predict unseen data."
      ],
      "metadata": {
        "id": "oEXk9ydD2nVC"
      },
      "execution_count": 109,
      "outputs": []
    },
    {
      "cell_type": "markdown",
      "source": [
        "### ***Congrats! Your model is successfully created and ready for deployment on a live server for a real user interaction !!!***"
      ],
      "metadata": {
        "id": "-Kee-DAl2viO"
      }
    },
    {
      "cell_type": "markdown",
      "source": [
        "<hr>\n",
        "\n",
        "# <center> <font face=\"Lato\" color='red'>✴ Conclusion\n",
        "\n",
        "<hr>"
      ],
      "metadata": {
        "id": "gCX9965dhzqZ"
      }
    },
    {
      "cell_type": "markdown",
      "source": [
        "Write the conclusion here."
      ],
      "metadata": {
        "id": "Fjb1IsQkh3yE"
      }
    },
    {
      "cell_type": "markdown",
      "source": [
        "### ***Hurrah! You have successfully completed your Machine Learning Capstone Project !!!***"
      ],
      "metadata": {
        "id": "gIfDvo9L0UH2"
      }
    }
  ]
}